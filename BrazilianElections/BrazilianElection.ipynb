{
  "nbformat": 4,
  "nbformat_minor": 0,
  "metadata": {
    "colab": {
      "name": "ProjetoFinal.ipynb",
      "provenance": [],
      "collapsed_sections": []
    },
    "kernelspec": {
      "name": "python3",
      "display_name": "Python 3"
    }
  },
  "cells": [
    {
      "cell_type": "markdown",
      "metadata": {
        "id": "uulQmsYs3dui",
        "colab_type": "text"
      },
      "source": [
        "**Prevendo se o resultado de uma eleição para um candidato no Brasil**"
      ]
    },
    {
      "cell_type": "markdown",
      "metadata": {
        "id": "lXdMODpP2gUn",
        "colab_type": "text"
      },
      "source": [
        "\n",
        "\n",
        "**1. Introdução**\n",
        "\n",
        "O ano de 2018 marcou mais um ano eleitoral para o Brasil, cuja população foi às urnas para eleger os 513 deputados federais e 54 senadores, deputados estaduais e governadores, e finalmente o presidente da república. O andamento do processo eleitoral foi bastante polêmico, com uso intenso das redes sociais e sob constantes acusações do uso de fake news por diferentes candidatos e partidos políticos. Ao final das eleições, foi notório que houve uma grande renovação nos nomes dos candidatos eleitos ao congresso e também nos estados.\n",
        "\n",
        "Esta eleição de 2018 também foi a primeira deste tipo (parlamentares, governadores, e presidente) após a proibição da doação de empresas, o que poderia sugerir uma diminuição da influência do poder econômico nos resultados. Além disso, o ano de 2018 já marcava um ano em que se cobrava maior participação feminina no congresso e era esperado que uma proporção maior de mulheres fossem eleitas em relação ao número de homens, que tradicionalmente são maioria.\n",
        "\n",
        "Neste sentido, o objetivo deste trabalho é analisar o perfil de cada candidato das eleições de 2018 e criar um modelo de aprendizagem de máquina que levando em consideração suas características consiga prever se ele seria eleito ou não nas eleições de 2018. O Tribunal Superior Eleitorial (TSE) do Brasil disponibiliza em seu portal um repositório com diversas base de dados com informações sobre as eleições já concluídas. Tais bases incluem informações a respeito dos resultados, do perfil dos eleitores, do perfil dos candidatos, etc. \n",
        "\n",
        "O repositório citado acima pode ser encontrado em:\n",
        "\n",
        "http://www.tse.jus.br/eleicoes/estatisticas/repositorio-de-dados-eleitorais-1/repositorio-de-dados-eleitorais\n",
        "\n",
        "Todo o projeto descrito a seguir é baseados nas notas de aula da discplina de mestrado de Aprendizagem de Máquina, ministrada pelo professor Dr. Ivanovitch Medeiros Dantas da Silva da Universidade Federal do Rio Grande do Norte (UFRN), que podem ser encontradas no seguinte endereço:\n",
        "\n",
        "https://github.com/ivanovitchm/EEC1509_Machine_Learning_2019_2"
      ]
    },
    {
      "cell_type": "markdown",
      "metadata": {
        "id": "QdJNmiWB7g1t",
        "colab_type": "text"
      },
      "source": [
        "**2. Escolhando e Analisando a Base de Dados**\n",
        "\n",
        "No repositório do TSE, são disponibilizados diversos arquivos referentes à eleição de 2018. Como o objetivo deste trabalho é analisar se um candidato é eleito ou não baseado em suas características, a melhor base de dados que tais informações são encontradas é a \"Candidatos (formato ZIP)\", encontrada em:\n",
        "\n",
        "http://agencia.tse.jus.br/estatistica/sead/odsele/consulta_cand/consulta_cand_2018.zip\n",
        "\n",
        "Dentro do arquivo compactado, encontram-se os resultados por estado e para todo o país, logo este último será utilizado. O nome do arquivo chama-se \"consulta_cand_2018_BRASIL.csv\".\n",
        "\n",
        "Outra base de dados interessante é a dos bens dos candidatos. Com ela, será possível calcular o quão rico um candidato é baseado no valor de seus bens e então usar tal resultado como uma nova coluna durante a feature engineering. Tal base é dispobilizada em:\n",
        "\n",
        "http://agencia.tse.jus.br/estatistica/sead/odsele/bem_candidato/bem_candidato_2018.zip\n",
        "\n",
        "Um detalhe importante é que todos os arquivos disponibilizados acima estão formatados em latin1. Então, para facilitar a utilização deles aqui, eles foram convertidos para UTF8 usando o LibreOffice 5.0. Os arquivos com as codificações corrigidas podem ser encontrados em:\n",
        "\n",
        "https://github.com/DenisMedeiros/EEC1509---Aprendizado-de-Maquina/tree/master/ProjetoFinal\n",
        "\n",
        "O primeiro passo é carregar o arquivo com os dados dos candidatos para analisá-lo."
      ]
    },
    {
      "cell_type": "code",
      "metadata": {
        "id": "lBzY-em160J7",
        "colab_type": "code",
        "outputId": "3b5b5b20-dce4-43fe-aa18-4d5117a3723d",
        "colab": {
          "base_uri": "https://localhost:8080/",
          "height": 221
        }
      },
      "source": [
        "# Carregando todas as bibliotecas necessárias.\n",
        "\n",
        "# Restart run time after installing libraries.\n",
        "!pip3 install eli5\n",
        "\n",
        "# Importing all required libraries\n",
        "\n",
        "import eli5 \n",
        "\n",
        "import time\n",
        "import numpy as np\n",
        "import pandas as pd\n",
        "import missingno as msno\n",
        "import seaborn as sns\n",
        "import matplotlib.pyplot as plt\n",
        "from sklearn.impute import SimpleImputer\n",
        "from sklearn.preprocessing import OneHotEncoder, LabelEncoder, MinMaxScaler, StandardScaler, RobustScaler\n",
        "from sklearn.feature_selection import SelectKBest\n",
        "from sklearn.pipeline import Pipeline, FeatureUnion\n",
        "from sklearn.model_selection import KFold\n",
        "from sklearn.feature_selection import chi2\n",
        "from sklearn.metrics import make_scorer\n",
        "from sklearn.metrics import accuracy_score, recall_score, precision_score\n",
        "from sklearn.metrics import classification_report\n",
        "from sklearn.metrics import confusion_matrix\n",
        "from sklearn.model_selection import train_test_split\n",
        "from xgboost import XGBClassifier\n",
        "from sklearn.ensemble import RandomForestClassifier\n",
        "from sklearn.neighbors import KNeighborsClassifier\n",
        "from sklearn.linear_model import LogisticRegression\n",
        "from sklearn.ensemble import AdaBoostClassifier\n",
        "from sklearn.ensemble import GradientBoostingClassifier\n",
        "from sklearn.svm import SVC\n",
        "from sklearn.model_selection import GridSearchCV\n",
        "from sklearn.model_selection import StratifiedKFold\n",
        "from sklearn.compose import ColumnTransformer\n",
        "from sklearn.neighbors import LocalOutlierFactor\n",
        "from sklearn.feature_selection import SelectFromModel\n",
        "from joblib import dump, load\n",
        "from sklearn.neural_network import MLPClassifier"
      ],
      "execution_count": 80,
      "outputs": [
        {
          "output_type": "stream",
          "text": [
            "Requirement already satisfied: eli5 in /usr/local/lib/python3.6/dist-packages (0.10.1)\n",
            "Requirement already satisfied: six in /usr/local/lib/python3.6/dist-packages (from eli5) (1.12.0)\n",
            "Requirement already satisfied: attrs>16.0.0 in /usr/local/lib/python3.6/dist-packages (from eli5) (19.3.0)\n",
            "Requirement already satisfied: graphviz in /usr/local/lib/python3.6/dist-packages (from eli5) (0.10.1)\n",
            "Requirement already satisfied: jinja2 in /usr/local/lib/python3.6/dist-packages (from eli5) (2.10.3)\n",
            "Requirement already satisfied: scikit-learn>=0.18 in /usr/local/lib/python3.6/dist-packages (from eli5) (0.21.3)\n",
            "Requirement already satisfied: tabulate>=0.7.7 in /usr/local/lib/python3.6/dist-packages (from eli5) (0.8.5)\n",
            "Requirement already satisfied: scipy in /usr/local/lib/python3.6/dist-packages (from eli5) (1.3.2)\n",
            "Requirement already satisfied: numpy>=1.9.0 in /usr/local/lib/python3.6/dist-packages (from eli5) (1.17.4)\n",
            "Requirement already satisfied: MarkupSafe>=0.23 in /usr/local/lib/python3.6/dist-packages (from jinja2->eli5) (1.1.1)\n",
            "Requirement already satisfied: joblib>=0.11 in /usr/local/lib/python3.6/dist-packages (from scikit-learn>=0.18->eli5) (0.14.0)\n"
          ],
          "name": "stdout"
        }
      ]
    },
    {
      "cell_type": "code",
      "metadata": {
        "id": "Kl7eJyYj9fqb",
        "colab_type": "code",
        "outputId": "167920b1-25fc-4475-dd8a-8bacaab64031",
        "colab": {
          "base_uri": "https://localhost:8080/",
          "height": 50
        }
      },
      "source": [
        "# Carrega as bases de dados. Por padrão, elas estão codificadas em latin1 mas já foram convertidas previamente para utf-8.\n",
        "candidatos = pd.read_csv(\"utf8_consulta_cand_2018_BRASIL.csv\", sep=\";\", encoding=\"utf-8\")\n",
        "bens = pd.read_csv(\"utf8_bem_candidato_2018_BRASIL.csv\", sep=\";\", encoding=\"utf-8\", decimal=',')\n",
        "\n",
        "print(\"Formato da Base de Dados dos Candidatos: {}\".format(candidatos.shape))\n",
        "print(\"Formato da Base de Dados dos Bens: {}\".format(bens.shape))"
      ],
      "execution_count": 81,
      "outputs": [
        {
          "output_type": "stream",
          "text": [
            "Formato da Base de Dados dos Candidatos: (29145, 58)\n",
            "Formato da Base de Dados dos Bens: (93271, 19)\n"
          ],
          "name": "stdout"
        }
      ]
    },
    {
      "cell_type": "code",
      "metadata": {
        "id": "_E_HPwQ1JTtm",
        "colab_type": "code",
        "outputId": "991f94b5-b694-4cf0-95e0-7c80298235f1",
        "colab": {
          "base_uri": "https://localhost:8080/",
          "height": 467
        }
      },
      "source": [
        "candidatos.head()"
      ],
      "execution_count": 82,
      "outputs": [
        {
          "output_type": "execute_result",
          "data": {
            "text/html": [
              "<div>\n",
              "<style scoped>\n",
              "    .dataframe tbody tr th:only-of-type {\n",
              "        vertical-align: middle;\n",
              "    }\n",
              "\n",
              "    .dataframe tbody tr th {\n",
              "        vertical-align: top;\n",
              "    }\n",
              "\n",
              "    .dataframe thead th {\n",
              "        text-align: right;\n",
              "    }\n",
              "</style>\n",
              "<table border=\"1\" class=\"dataframe\">\n",
              "  <thead>\n",
              "    <tr style=\"text-align: right;\">\n",
              "      <th></th>\n",
              "      <th>DT_GERACAO</th>\n",
              "      <th>HH_GERACAO</th>\n",
              "      <th>ANO_ELEICAO</th>\n",
              "      <th>CD_TIPO_ELEICAO</th>\n",
              "      <th>NM_TIPO_ELEICAO</th>\n",
              "      <th>NR_TURNO</th>\n",
              "      <th>CD_ELEICAO</th>\n",
              "      <th>DS_ELEICAO</th>\n",
              "      <th>DT_ELEICAO</th>\n",
              "      <th>TP_ABRANGENCIA</th>\n",
              "      <th>SG_UF</th>\n",
              "      <th>SG_UE</th>\n",
              "      <th>NM_UE</th>\n",
              "      <th>CD_CARGO</th>\n",
              "      <th>DS_CARGO</th>\n",
              "      <th>SQ_CANDIDATO</th>\n",
              "      <th>NR_CANDIDATO</th>\n",
              "      <th>NM_CANDIDATO</th>\n",
              "      <th>NM_URNA_CANDIDATO</th>\n",
              "      <th>NM_SOCIAL_CANDIDATO</th>\n",
              "      <th>NR_CPF_CANDIDATO</th>\n",
              "      <th>NM_EMAIL</th>\n",
              "      <th>CD_SITUACAO_CANDIDATURA</th>\n",
              "      <th>DS_SITUACAO_CANDIDATURA</th>\n",
              "      <th>CD_DETALHE_SITUACAO_CAND</th>\n",
              "      <th>DS_DETALHE_SITUACAO_CAND</th>\n",
              "      <th>TP_AGREMIACAO</th>\n",
              "      <th>NR_PARTIDO</th>\n",
              "      <th>SG_PARTIDO</th>\n",
              "      <th>NM_PARTIDO</th>\n",
              "      <th>SQ_COLIGACAO</th>\n",
              "      <th>NM_COLIGACAO</th>\n",
              "      <th>DS_COMPOSICAO_COLIGACAO</th>\n",
              "      <th>CD_NACIONALIDADE</th>\n",
              "      <th>DS_NACIONALIDADE</th>\n",
              "      <th>SG_UF_NASCIMENTO</th>\n",
              "      <th>CD_MUNICIPIO_NASCIMENTO</th>\n",
              "      <th>NM_MUNICIPIO_NASCIMENTO</th>\n",
              "      <th>DT_NASCIMENTO</th>\n",
              "      <th>NR_IDADE_DATA_POSSE</th>\n",
              "      <th>NR_TITULO_ELEITORAL_CANDIDATO</th>\n",
              "      <th>CD_GENERO</th>\n",
              "      <th>DS_GENERO</th>\n",
              "      <th>CD_GRAU_INSTRUCAO</th>\n",
              "      <th>DS_GRAU_INSTRUCAO</th>\n",
              "      <th>CD_ESTADO_CIVIL</th>\n",
              "      <th>DS_ESTADO_CIVIL</th>\n",
              "      <th>CD_COR_RACA</th>\n",
              "      <th>DS_COR_RACA</th>\n",
              "      <th>CD_OCUPACAO</th>\n",
              "      <th>DS_OCUPACAO</th>\n",
              "      <th>NR_DESPESA_MAX_CAMPANHA</th>\n",
              "      <th>CD_SIT_TOT_TURNO</th>\n",
              "      <th>DS_SIT_TOT_TURNO</th>\n",
              "      <th>ST_REELEICAO</th>\n",
              "      <th>ST_DECLARAR_BENS</th>\n",
              "      <th>NR_PROTOCOLO_CANDIDATURA</th>\n",
              "      <th>NR_PROCESSO</th>\n",
              "    </tr>\n",
              "  </thead>\n",
              "  <tbody>\n",
              "    <tr>\n",
              "      <th>0</th>\n",
              "      <td>27/11/2019</td>\n",
              "      <td>18:10:02</td>\n",
              "      <td>2018</td>\n",
              "      <td>2</td>\n",
              "      <td>ELEIÇÃO ORDINÁRIA</td>\n",
              "      <td>1</td>\n",
              "      <td>297</td>\n",
              "      <td>Eleições Gerais Estaduais 2018</td>\n",
              "      <td>07/10/2018</td>\n",
              "      <td>ESTADUAL</td>\n",
              "      <td>MA</td>\n",
              "      <td>MA</td>\n",
              "      <td>MARANHÃO</td>\n",
              "      <td>6</td>\n",
              "      <td>DEPUTADO FEDERAL</td>\n",
              "      <td>100000615067</td>\n",
              "      <td>3156</td>\n",
              "      <td>LEIDIANIA PEREIRA DA SILVA VELOSO</td>\n",
              "      <td>LEIDY VELOSO</td>\n",
              "      <td>#NULO#</td>\n",
              "      <td>1137254343</td>\n",
              "      <td>DRJOABSONJUNIOR@HOTMAIL.COM</td>\n",
              "      <td>12</td>\n",
              "      <td>APTO</td>\n",
              "      <td>2</td>\n",
              "      <td>DEFERIDO</td>\n",
              "      <td>COLIGAÇÃO</td>\n",
              "      <td>31</td>\n",
              "      <td>PHS</td>\n",
              "      <td>PARTIDO HUMANISTA DA SOLIDARIEDADE</td>\n",
              "      <td>100000050395</td>\n",
              "      <td>JUNTOS PELO MARANHÃO</td>\n",
              "      <td>PMN / PHS</td>\n",
              "      <td>1</td>\n",
              "      <td>BRASILEIRA NATA</td>\n",
              "      <td>MA</td>\n",
              "      <td>-3</td>\n",
              "      <td>IMPERATRIZ</td>\n",
              "      <td>25/05/1983</td>\n",
              "      <td>35</td>\n",
              "      <td>44509101139</td>\n",
              "      <td>4</td>\n",
              "      <td>FEMININO</td>\n",
              "      <td>6</td>\n",
              "      <td>ENSINO MÉDIO COMPLETO</td>\n",
              "      <td>1</td>\n",
              "      <td>SOLTEIRO(A)</td>\n",
              "      <td>1</td>\n",
              "      <td>BRANCA</td>\n",
              "      <td>581</td>\n",
              "      <td>DONA DE CASA</td>\n",
              "      <td>0</td>\n",
              "      <td>5</td>\n",
              "      <td>SUPLENTE</td>\n",
              "      <td>N</td>\n",
              "      <td>N</td>\n",
              "      <td>-1</td>\n",
              "      <td>6,0063517201861E+018</td>\n",
              "    </tr>\n",
              "    <tr>\n",
              "      <th>1</th>\n",
              "      <td>27/11/2019</td>\n",
              "      <td>18:10:02</td>\n",
              "      <td>2018</td>\n",
              "      <td>2</td>\n",
              "      <td>ELEIÇÃO ORDINÁRIA</td>\n",
              "      <td>1</td>\n",
              "      <td>297</td>\n",
              "      <td>Eleições Gerais Estaduais 2018</td>\n",
              "      <td>07/10/2018</td>\n",
              "      <td>ESTADUAL</td>\n",
              "      <td>SP</td>\n",
              "      <td>SP</td>\n",
              "      <td>SÃO PAULO</td>\n",
              "      <td>7</td>\n",
              "      <td>DEPUTADO ESTADUAL</td>\n",
              "      <td>250000623664</td>\n",
              "      <td>28282</td>\n",
              "      <td>FABIO SILINGARDI</td>\n",
              "      <td>FABIO SILINGARDI</td>\n",
              "      <td>#NULO#</td>\n",
              "      <td>25700485850</td>\n",
              "      <td>CONTATO@FIDELIX.ADV.BR</td>\n",
              "      <td>12</td>\n",
              "      <td>APTO</td>\n",
              "      <td>2</td>\n",
              "      <td>DEFERIDO</td>\n",
              "      <td>PARTIDO ISOLADO</td>\n",
              "      <td>28</td>\n",
              "      <td>PRTB</td>\n",
              "      <td>PARTIDO RENOVADOR TRABALHISTA BRASILEIRO</td>\n",
              "      <td>250000050631</td>\n",
              "      <td>PARTIDO ISOLADO</td>\n",
              "      <td>PRTB</td>\n",
              "      <td>1</td>\n",
              "      <td>BRASILEIRA NATA</td>\n",
              "      <td>SP</td>\n",
              "      <td>-3</td>\n",
              "      <td>SÃO BERNARDO DO CAMPO</td>\n",
              "      <td>12/10/1977</td>\n",
              "      <td>41</td>\n",
              "      <td>260149590141</td>\n",
              "      <td>2</td>\n",
              "      <td>MASCULINO</td>\n",
              "      <td>6</td>\n",
              "      <td>ENSINO MÉDIO COMPLETO</td>\n",
              "      <td>1</td>\n",
              "      <td>SOLTEIRO(A)</td>\n",
              "      <td>1</td>\n",
              "      <td>BRANCA</td>\n",
              "      <td>125</td>\n",
              "      <td>ADMINISTRADOR</td>\n",
              "      <td>0</td>\n",
              "      <td>4</td>\n",
              "      <td>NÃO ELEITO</td>\n",
              "      <td>N</td>\n",
              "      <td>N</td>\n",
              "      <td>-1</td>\n",
              "      <td>6,04364072018626E+018</td>\n",
              "    </tr>\n",
              "    <tr>\n",
              "      <th>2</th>\n",
              "      <td>27/11/2019</td>\n",
              "      <td>18:10:02</td>\n",
              "      <td>2018</td>\n",
              "      <td>2</td>\n",
              "      <td>ELEIÇÃO ORDINÁRIA</td>\n",
              "      <td>1</td>\n",
              "      <td>297</td>\n",
              "      <td>Eleições Gerais Estaduais 2018</td>\n",
              "      <td>07/10/2018</td>\n",
              "      <td>ESTADUAL</td>\n",
              "      <td>RJ</td>\n",
              "      <td>RJ</td>\n",
              "      <td>RIO DE JANEIRO</td>\n",
              "      <td>7</td>\n",
              "      <td>DEPUTADO ESTADUAL</td>\n",
              "      <td>190000626226</td>\n",
              "      <td>28033</td>\n",
              "      <td>HAMILTON LUIS DIAS SODRÉ</td>\n",
              "      <td>HAMILTON SODRÉ</td>\n",
              "      <td>#NULO#</td>\n",
              "      <td>3407198779</td>\n",
              "      <td>PRTB.RJ28@YAHOO.COM.BR</td>\n",
              "      <td>12</td>\n",
              "      <td>APTO</td>\n",
              "      <td>2</td>\n",
              "      <td>DEFERIDO</td>\n",
              "      <td>PARTIDO ISOLADO</td>\n",
              "      <td>28</td>\n",
              "      <td>PRTB</td>\n",
              "      <td>PARTIDO RENOVADOR TRABALHISTA BRASILEIRO</td>\n",
              "      <td>190000050716</td>\n",
              "      <td>PARTIDO ISOLADO</td>\n",
              "      <td>PRTB</td>\n",
              "      <td>1</td>\n",
              "      <td>BRASILEIRA NATA</td>\n",
              "      <td>RJ</td>\n",
              "      <td>-3</td>\n",
              "      <td>RIO DE JANEIRO</td>\n",
              "      <td>19/01/1973</td>\n",
              "      <td>46</td>\n",
              "      <td>88354290361</td>\n",
              "      <td>2</td>\n",
              "      <td>MASCULINO</td>\n",
              "      <td>8</td>\n",
              "      <td>SUPERIOR COMPLETO</td>\n",
              "      <td>3</td>\n",
              "      <td>CASADO(A)</td>\n",
              "      <td>1</td>\n",
              "      <td>BRANCA</td>\n",
              "      <td>297</td>\n",
              "      <td>SERVIDOR PÚBLICO ESTADUAL</td>\n",
              "      <td>0</td>\n",
              "      <td>5</td>\n",
              "      <td>SUPLENTE</td>\n",
              "      <td>N</td>\n",
              "      <td>N</td>\n",
              "      <td>-1</td>\n",
              "      <td>6,03944942018619E+018</td>\n",
              "    </tr>\n",
              "    <tr>\n",
              "      <th>3</th>\n",
              "      <td>27/11/2019</td>\n",
              "      <td>18:10:02</td>\n",
              "      <td>2018</td>\n",
              "      <td>2</td>\n",
              "      <td>ELEIÇÃO ORDINÁRIA</td>\n",
              "      <td>1</td>\n",
              "      <td>297</td>\n",
              "      <td>Eleições Gerais Estaduais 2018</td>\n",
              "      <td>07/10/2018</td>\n",
              "      <td>ESTADUAL</td>\n",
              "      <td>MA</td>\n",
              "      <td>MA</td>\n",
              "      <td>MARANHÃO</td>\n",
              "      <td>7</td>\n",
              "      <td>DEPUTADO ESTADUAL</td>\n",
              "      <td>100000625316</td>\n",
              "      <td>28200</td>\n",
              "      <td>GUTEMBERG FERNANDES DE ARAÚJO</td>\n",
              "      <td>DR. GUTEMBERG</td>\n",
              "      <td>#NULO#</td>\n",
              "      <td>18022863300</td>\n",
              "      <td>GUTEMBERGARAUJO@ELOINTERNET.COM.BR</td>\n",
              "      <td>12</td>\n",
              "      <td>APTO</td>\n",
              "      <td>2</td>\n",
              "      <td>DEFERIDO</td>\n",
              "      <td>PARTIDO ISOLADO</td>\n",
              "      <td>28</td>\n",
              "      <td>PRTB</td>\n",
              "      <td>PARTIDO RENOVADOR TRABALHISTA BRASILEIRO</td>\n",
              "      <td>100000050678</td>\n",
              "      <td>PARTIDO ISOLADO</td>\n",
              "      <td>PRTB</td>\n",
              "      <td>1</td>\n",
              "      <td>BRASILEIRA NATA</td>\n",
              "      <td>MA</td>\n",
              "      <td>-3</td>\n",
              "      <td>COROATÁ</td>\n",
              "      <td>18/02/1956</td>\n",
              "      <td>62</td>\n",
              "      <td>681281180</td>\n",
              "      <td>2</td>\n",
              "      <td>MASCULINO</td>\n",
              "      <td>8</td>\n",
              "      <td>SUPERIOR COMPLETO</td>\n",
              "      <td>3</td>\n",
              "      <td>CASADO(A)</td>\n",
              "      <td>1</td>\n",
              "      <td>BRANCA</td>\n",
              "      <td>111</td>\n",
              "      <td>MÉDICO</td>\n",
              "      <td>0</td>\n",
              "      <td>5</td>\n",
              "      <td>SUPLENTE</td>\n",
              "      <td>N</td>\n",
              "      <td>S</td>\n",
              "      <td>-1</td>\n",
              "      <td>6,0082577201861E+018</td>\n",
              "    </tr>\n",
              "    <tr>\n",
              "      <th>4</th>\n",
              "      <td>27/11/2019</td>\n",
              "      <td>18:10:02</td>\n",
              "      <td>2018</td>\n",
              "      <td>2</td>\n",
              "      <td>ELEIÇÃO ORDINÁRIA</td>\n",
              "      <td>1</td>\n",
              "      <td>297</td>\n",
              "      <td>Eleições Gerais Estaduais 2018</td>\n",
              "      <td>07/10/2018</td>\n",
              "      <td>ESTADUAL</td>\n",
              "      <td>RJ</td>\n",
              "      <td>RJ</td>\n",
              "      <td>RIO DE JANEIRO</td>\n",
              "      <td>7</td>\n",
              "      <td>DEPUTADO ESTADUAL</td>\n",
              "      <td>190000623227</td>\n",
              "      <td>18456</td>\n",
              "      <td>CRISTIANO DESKIS BARBOSA</td>\n",
              "      <td>CRISTIANO DESKIS</td>\n",
              "      <td>#NULO#</td>\n",
              "      <td>4497130754</td>\n",
              "      <td>VTATSCH.ADV@GMAIL.COM</td>\n",
              "      <td>12</td>\n",
              "      <td>APTO</td>\n",
              "      <td>2</td>\n",
              "      <td>DEFERIDO</td>\n",
              "      <td>PARTIDO ISOLADO</td>\n",
              "      <td>18</td>\n",
              "      <td>REDE</td>\n",
              "      <td>REDE SUSTENTABILIDADE</td>\n",
              "      <td>190000050621</td>\n",
              "      <td>PARTIDO ISOLADO</td>\n",
              "      <td>REDE</td>\n",
              "      <td>1</td>\n",
              "      <td>BRASILEIRA NATA</td>\n",
              "      <td>RJ</td>\n",
              "      <td>-3</td>\n",
              "      <td>CAMPOS DOS GOYTACAZES</td>\n",
              "      <td>15/03/1973</td>\n",
              "      <td>45</td>\n",
              "      <td>84480580302</td>\n",
              "      <td>2</td>\n",
              "      <td>MASCULINO</td>\n",
              "      <td>6</td>\n",
              "      <td>ENSINO MÉDIO COMPLETO</td>\n",
              "      <td>3</td>\n",
              "      <td>CASADO(A)</td>\n",
              "      <td>2</td>\n",
              "      <td>PRETA</td>\n",
              "      <td>128</td>\n",
              "      <td>ASTRÔNOMO</td>\n",
              "      <td>0</td>\n",
              "      <td>4</td>\n",
              "      <td>NÃO ELEITO</td>\n",
              "      <td>N</td>\n",
              "      <td>N</td>\n",
              "      <td>-1</td>\n",
              "      <td>6,03476332018619E+018</td>\n",
              "    </tr>\n",
              "  </tbody>\n",
              "</table>\n",
              "</div>"
            ],
            "text/plain": [
              "   DT_GERACAO HH_GERACAO  ...  NR_PROTOCOLO_CANDIDATURA            NR_PROCESSO\n",
              "0  27/11/2019   18:10:02  ...                        -1   6,0063517201861E+018\n",
              "1  27/11/2019   18:10:02  ...                        -1  6,04364072018626E+018\n",
              "2  27/11/2019   18:10:02  ...                        -1  6,03944942018619E+018\n",
              "3  27/11/2019   18:10:02  ...                        -1   6,0082577201861E+018\n",
              "4  27/11/2019   18:10:02  ...                        -1  6,03476332018619E+018\n",
              "\n",
              "[5 rows x 58 columns]"
            ]
          },
          "metadata": {
            "tags": []
          },
          "execution_count": 82
        }
      ]
    },
    {
      "cell_type": "code",
      "metadata": {
        "id": "6bI3364xJVTw",
        "colab_type": "code",
        "outputId": "0f6d8a70-0d0d-4c72-94a7-992015d312cd",
        "colab": {
          "base_uri": "https://localhost:8080/",
          "height": 467
        }
      },
      "source": [
        "bens.head()"
      ],
      "execution_count": 83,
      "outputs": [
        {
          "output_type": "execute_result",
          "data": {
            "text/html": [
              "<div>\n",
              "<style scoped>\n",
              "    .dataframe tbody tr th:only-of-type {\n",
              "        vertical-align: middle;\n",
              "    }\n",
              "\n",
              "    .dataframe tbody tr th {\n",
              "        vertical-align: top;\n",
              "    }\n",
              "\n",
              "    .dataframe thead th {\n",
              "        text-align: right;\n",
              "    }\n",
              "</style>\n",
              "<table border=\"1\" class=\"dataframe\">\n",
              "  <thead>\n",
              "    <tr style=\"text-align: right;\">\n",
              "      <th></th>\n",
              "      <th>DT_GERACAO</th>\n",
              "      <th>HH_GERACAO</th>\n",
              "      <th>ANO_ELEICAO</th>\n",
              "      <th>CD_TIPO_ELEICAO</th>\n",
              "      <th>NM_TIPO_ELEICAO</th>\n",
              "      <th>CD_ELEICAO</th>\n",
              "      <th>DS_ELEICAO</th>\n",
              "      <th>DT_ELEICAO</th>\n",
              "      <th>SG_UF</th>\n",
              "      <th>SG_UE</th>\n",
              "      <th>NM_UE</th>\n",
              "      <th>SQ_CANDIDATO</th>\n",
              "      <th>NR_ORDEM_CANDIDATO</th>\n",
              "      <th>CD_TIPO_BEM_CANDIDATO</th>\n",
              "      <th>DS_TIPO_BEM_CANDIDATO</th>\n",
              "      <th>DS_BEM_CANDIDATO</th>\n",
              "      <th>VR_BEM_CANDIDATO</th>\n",
              "      <th>DT_ULTIMA_ATUALIZACAO</th>\n",
              "      <th>HH_ULTIMA_ATUALIZACAO</th>\n",
              "    </tr>\n",
              "  </thead>\n",
              "  <tbody>\n",
              "    <tr>\n",
              "      <th>0</th>\n",
              "      <td>27/11/2019</td>\n",
              "      <td>18:09:47</td>\n",
              "      <td>2018</td>\n",
              "      <td>2</td>\n",
              "      <td>Eleição Ordinária</td>\n",
              "      <td>297</td>\n",
              "      <td>Eleições Gerais Estaduais 2018</td>\n",
              "      <td>07/10/2018</td>\n",
              "      <td>MS</td>\n",
              "      <td>MS</td>\n",
              "      <td>MATO GROSSO DO SUL</td>\n",
              "      <td>120000618455</td>\n",
              "      <td>1</td>\n",
              "      <td>11</td>\n",
              "      <td>Apartamento</td>\n",
              "      <td>#NULO#</td>\n",
              "      <td>34698.63</td>\n",
              "      <td>15/10/2018</td>\n",
              "      <td>17:34:13</td>\n",
              "    </tr>\n",
              "    <tr>\n",
              "      <th>1</th>\n",
              "      <td>27/11/2019</td>\n",
              "      <td>18:09:47</td>\n",
              "      <td>2018</td>\n",
              "      <td>2</td>\n",
              "      <td>Eleição Ordinária</td>\n",
              "      <td>297</td>\n",
              "      <td>Eleições Gerais Estaduais 2018</td>\n",
              "      <td>07/10/2018</td>\n",
              "      <td>MS</td>\n",
              "      <td>MS</td>\n",
              "      <td>MATO GROSSO DO SUL</td>\n",
              "      <td>120000618455</td>\n",
              "      <td>18</td>\n",
              "      <td>13</td>\n",
              "      <td>Terreno</td>\n",
              "      <td>#NULO#</td>\n",
              "      <td>1387.93</td>\n",
              "      <td>15/10/2018</td>\n",
              "      <td>17:34:13</td>\n",
              "    </tr>\n",
              "    <tr>\n",
              "      <th>2</th>\n",
              "      <td>27/11/2019</td>\n",
              "      <td>18:09:47</td>\n",
              "      <td>2018</td>\n",
              "      <td>2</td>\n",
              "      <td>Eleição Ordinária</td>\n",
              "      <td>297</td>\n",
              "      <td>Eleições Gerais Estaduais 2018</td>\n",
              "      <td>07/10/2018</td>\n",
              "      <td>MS</td>\n",
              "      <td>MS</td>\n",
              "      <td>MATO GROSSO DO SUL</td>\n",
              "      <td>120000618455</td>\n",
              "      <td>91</td>\n",
              "      <td>59</td>\n",
              "      <td>Outros créditos e poupança vinculados</td>\n",
              "      <td>#NULO#</td>\n",
              "      <td>311.53</td>\n",
              "      <td>15/10/2018</td>\n",
              "      <td>17:34:13</td>\n",
              "    </tr>\n",
              "    <tr>\n",
              "      <th>3</th>\n",
              "      <td>27/11/2019</td>\n",
              "      <td>18:09:47</td>\n",
              "      <td>2018</td>\n",
              "      <td>2</td>\n",
              "      <td>Eleição Ordinária</td>\n",
              "      <td>297</td>\n",
              "      <td>Eleições Gerais Estaduais 2018</td>\n",
              "      <td>07/10/2018</td>\n",
              "      <td>SP</td>\n",
              "      <td>SP</td>\n",
              "      <td>SÃO PAULO</td>\n",
              "      <td>250000618631</td>\n",
              "      <td>12</td>\n",
              "      <td>41</td>\n",
              "      <td>Caderneta de poupança</td>\n",
              "      <td>CADERNETA DE POUPANÇA - BANCO SANTANDER</td>\n",
              "      <td>544.09</td>\n",
              "      <td>21/03/2019</td>\n",
              "      <td>15:33:03</td>\n",
              "    </tr>\n",
              "    <tr>\n",
              "      <th>4</th>\n",
              "      <td>27/11/2019</td>\n",
              "      <td>18:09:47</td>\n",
              "      <td>2018</td>\n",
              "      <td>2</td>\n",
              "      <td>Eleição Ordinária</td>\n",
              "      <td>297</td>\n",
              "      <td>Eleições Gerais Estaduais 2018</td>\n",
              "      <td>07/10/2018</td>\n",
              "      <td>GO</td>\n",
              "      <td>GO</td>\n",
              "      <td>GOIÁS</td>\n",
              "      <td>90000620626</td>\n",
              "      <td>1</td>\n",
              "      <td>21</td>\n",
              "      <td>Veículo automotor terrestre: caminhão, automóv...</td>\n",
              "      <td>#NULO#</td>\n",
              "      <td>36000.00</td>\n",
              "      <td>15/10/2018</td>\n",
              "      <td>11:32:12</td>\n",
              "    </tr>\n",
              "  </tbody>\n",
              "</table>\n",
              "</div>"
            ],
            "text/plain": [
              "   DT_GERACAO HH_GERACAO  ...  DT_ULTIMA_ATUALIZACAO  HH_ULTIMA_ATUALIZACAO\n",
              "0  27/11/2019   18:09:47  ...             15/10/2018               17:34:13\n",
              "1  27/11/2019   18:09:47  ...             15/10/2018               17:34:13\n",
              "2  27/11/2019   18:09:47  ...             15/10/2018               17:34:13\n",
              "3  27/11/2019   18:09:47  ...             21/03/2019               15:33:03\n",
              "4  27/11/2019   18:09:47  ...             15/10/2018               11:32:12\n",
              "\n",
              "[5 rows x 19 columns]"
            ]
          },
          "metadata": {
            "tags": []
          },
          "execution_count": 83
        }
      ]
    },
    {
      "cell_type": "markdown",
      "metadata": {
        "id": "G6dTYBtZ9Ogx",
        "colab_type": "text"
      },
      "source": [
        "Do resultado dos candidatos, nota-se que há 29145 candidatos e são dispobilizadas 58 colunas. É interessante notar que muitas colunas são diretamente relacionadas: uma possui o código numérico (colunas que começão com o prefixo \"CD\") e a outra a descrição de tal código (começam com o prefixo \"DS\"). Esse detalhe pode ser encontrado no arquivo leiame.pdf, que explica detalhadamente cada coluna.\n",
        "\n",
        "Já sobre os bens, existem mais de 90 mil declarados, já que vários candidatos possuem mais de uma casa, carro, terreno, etc.\n",
        "\n",
        "O passo seguinte é exibir o formato das bases de dados."
      ]
    },
    {
      "cell_type": "code",
      "metadata": {
        "id": "Mv6GmMv7-1dp",
        "colab_type": "code",
        "outputId": "558f1cdc-7ef8-4213-9b12-d1ef7e90ccf8",
        "colab": {
          "base_uri": "https://localhost:8080/",
          "height": 1000
        }
      },
      "source": [
        "candidatos.info()"
      ],
      "execution_count": 84,
      "outputs": [
        {
          "output_type": "stream",
          "text": [
            "<class 'pandas.core.frame.DataFrame'>\n",
            "RangeIndex: 29145 entries, 0 to 29144\n",
            "Data columns (total 58 columns):\n",
            "DT_GERACAO                       29145 non-null object\n",
            "HH_GERACAO                       29145 non-null object\n",
            "ANO_ELEICAO                      29145 non-null int64\n",
            "CD_TIPO_ELEICAO                  29145 non-null int64\n",
            "NM_TIPO_ELEICAO                  29145 non-null object\n",
            "NR_TURNO                         29145 non-null int64\n",
            "CD_ELEICAO                       29145 non-null int64\n",
            "DS_ELEICAO                       29145 non-null object\n",
            "DT_ELEICAO                       29145 non-null object\n",
            "TP_ABRANGENCIA                   29145 non-null object\n",
            "SG_UF                            29145 non-null object\n",
            "SG_UE                            29145 non-null object\n",
            "NM_UE                            29145 non-null object\n",
            "CD_CARGO                         29145 non-null int64\n",
            "DS_CARGO                         29145 non-null object\n",
            "SQ_CANDIDATO                     29145 non-null int64\n",
            "NR_CANDIDATO                     29145 non-null int64\n",
            "NM_CANDIDATO                     29145 non-null object\n",
            "NM_URNA_CANDIDATO                29145 non-null object\n",
            "NM_SOCIAL_CANDIDATO              29145 non-null object\n",
            "NR_CPF_CANDIDATO                 29145 non-null int64\n",
            "NM_EMAIL                         29145 non-null object\n",
            "CD_SITUACAO_CANDIDATURA          29145 non-null int64\n",
            "DS_SITUACAO_CANDIDATURA          29145 non-null object\n",
            "CD_DETALHE_SITUACAO_CAND         29145 non-null int64\n",
            "DS_DETALHE_SITUACAO_CAND         29145 non-null object\n",
            "TP_AGREMIACAO                    29145 non-null object\n",
            "NR_PARTIDO                       29145 non-null int64\n",
            "SG_PARTIDO                       29145 non-null object\n",
            "NM_PARTIDO                       29145 non-null object\n",
            "SQ_COLIGACAO                     29145 non-null int64\n",
            "NM_COLIGACAO                     29145 non-null object\n",
            "DS_COMPOSICAO_COLIGACAO          29145 non-null object\n",
            "CD_NACIONALIDADE                 29145 non-null int64\n",
            "DS_NACIONALIDADE                 29145 non-null object\n",
            "SG_UF_NASCIMENTO                 29145 non-null object\n",
            "CD_MUNICIPIO_NASCIMENTO          29145 non-null int64\n",
            "NM_MUNICIPIO_NASCIMENTO          29145 non-null object\n",
            "DT_NASCIMENTO                    29145 non-null object\n",
            "NR_IDADE_DATA_POSSE              29145 non-null int64\n",
            "NR_TITULO_ELEITORAL_CANDIDATO    29145 non-null int64\n",
            "CD_GENERO                        29145 non-null int64\n",
            "DS_GENERO                        29145 non-null object\n",
            "CD_GRAU_INSTRUCAO                29145 non-null int64\n",
            "DS_GRAU_INSTRUCAO                29145 non-null object\n",
            "CD_ESTADO_CIVIL                  29145 non-null int64\n",
            "DS_ESTADO_CIVIL                  29145 non-null object\n",
            "CD_COR_RACA                      29145 non-null int64\n",
            "DS_COR_RACA                      29145 non-null object\n",
            "CD_OCUPACAO                      29145 non-null int64\n",
            "DS_OCUPACAO                      29145 non-null object\n",
            "NR_DESPESA_MAX_CAMPANHA          29145 non-null int64\n",
            "CD_SIT_TOT_TURNO                 29145 non-null int64\n",
            "DS_SIT_TOT_TURNO                 29145 non-null object\n",
            "ST_REELEICAO                     29145 non-null object\n",
            "ST_DECLARAR_BENS                 29145 non-null object\n",
            "NR_PROTOCOLO_CANDIDATURA         29145 non-null int64\n",
            "NR_PROCESSO                      29145 non-null object\n",
            "dtypes: int64(24), object(34)\n",
            "memory usage: 12.9+ MB\n"
          ],
          "name": "stdout"
        }
      ]
    },
    {
      "cell_type": "code",
      "metadata": {
        "id": "JIVYCgfeJltp",
        "colab_type": "code",
        "outputId": "30eb8407-a24d-44d7-ef17-775e3a8d962a",
        "colab": {
          "base_uri": "https://localhost:8080/",
          "height": 418
        }
      },
      "source": [
        "bens.info()"
      ],
      "execution_count": 85,
      "outputs": [
        {
          "output_type": "stream",
          "text": [
            "<class 'pandas.core.frame.DataFrame'>\n",
            "RangeIndex: 93271 entries, 0 to 93270\n",
            "Data columns (total 19 columns):\n",
            "DT_GERACAO               93271 non-null object\n",
            "HH_GERACAO               93271 non-null object\n",
            "ANO_ELEICAO              93271 non-null int64\n",
            "CD_TIPO_ELEICAO          93271 non-null int64\n",
            "NM_TIPO_ELEICAO          93271 non-null object\n",
            "CD_ELEICAO               93271 non-null int64\n",
            "DS_ELEICAO               93271 non-null object\n",
            "DT_ELEICAO               93271 non-null object\n",
            "SG_UF                    93271 non-null object\n",
            "SG_UE                    93271 non-null object\n",
            "NM_UE                    93271 non-null object\n",
            "SQ_CANDIDATO             93271 non-null int64\n",
            "NR_ORDEM_CANDIDATO       93271 non-null int64\n",
            "CD_TIPO_BEM_CANDIDATO    93271 non-null int64\n",
            "DS_TIPO_BEM_CANDIDATO    93271 non-null object\n",
            "DS_BEM_CANDIDATO         93271 non-null object\n",
            "VR_BEM_CANDIDATO         93271 non-null float64\n",
            "DT_ULTIMA_ATUALIZACAO    93271 non-null object\n",
            "HH_ULTIMA_ATUALIZACAO    93271 non-null object\n",
            "dtypes: float64(1), int64(6), object(12)\n",
            "memory usage: 13.5+ MB\n"
          ],
          "name": "stdout"
        }
      ]
    },
    {
      "cell_type": "markdown",
      "metadata": {
        "id": "5JdG8K5f_idr",
        "colab_type": "text"
      },
      "source": [
        "Como se vê acima na tabela dos candidatos, a coluna alvo será CD_SIT_TOT_TURNO, cujos códigos representam a descrição da coluna DS_SIT_TOT_TURNO, e descreve a situação final do candidato (se foi eleito ou não). Os valores possíveis dessas colunas são mostrados abaixo e ambos são de fato perfeitamente relacionados."
      ]
    },
    {
      "cell_type": "code",
      "metadata": {
        "id": "BsnBXLMdAQ9a",
        "colab_type": "code",
        "outputId": "a45a34d4-4382-4c56-f059-098ceaf1ab14",
        "colab": {
          "base_uri": "https://localhost:8080/",
          "height": 150
        }
      },
      "source": [
        "candidatos.CD_SIT_TOT_TURNO.value_counts()"
      ],
      "execution_count": 86,
      "outputs": [
        {
          "output_type": "execute_result",
          "data": {
            "text/plain": [
              " 5    18666\n",
              " 4     6892\n",
              "-1     1745\n",
              " 2     1275\n",
              " 3      297\n",
              " 1      210\n",
              " 6       60\n",
              "Name: CD_SIT_TOT_TURNO, dtype: int64"
            ]
          },
          "metadata": {
            "tags": []
          },
          "execution_count": 86
        }
      ]
    },
    {
      "cell_type": "code",
      "metadata": {
        "id": "4yAYhrHe_C8S",
        "colab_type": "code",
        "outputId": "ce230bf3-3cbc-497d-9c72-7443cf876d6b",
        "colab": {
          "base_uri": "https://localhost:8080/",
          "height": 150
        }
      },
      "source": [
        "candidatos.DS_SIT_TOT_TURNO.value_counts()"
      ],
      "execution_count": 87,
      "outputs": [
        {
          "output_type": "execute_result",
          "data": {
            "text/plain": [
              "SUPLENTE            18666\n",
              "NÃO ELEITO           6892\n",
              "#NULO#               1745\n",
              "ELEITO POR QP        1275\n",
              "ELEITO POR MÉDIA      297\n",
              "ELEITO                210\n",
              "2º TURNO               60\n",
              "Name: DS_SIT_TOT_TURNO, dtype: int64"
            ]
          },
          "metadata": {
            "tags": []
          },
          "execution_count": 87
        }
      ]
    },
    {
      "cell_type": "markdown",
      "metadata": {
        "id": "IGWvEHWpBuZT",
        "colab_type": "text"
      },
      "source": [
        "Logo, a partir das colunas acima, será criada uma nova coluna binária posteriormente chamada de CANDIDATO_ELEITO, em que possuirá valor 1 se o candidato foi \"ELEITO POR QP\", \"ELEITO POR MÉDIA\", ou \"ELEITO\"; e 0 caso contrário. \n",
        "\n",
        "Outro detalhe importante notado acima mas que pode ser melhor confirmado abaixo é que não existem valores nulos nas base de dados."
      ]
    },
    {
      "cell_type": "code",
      "metadata": {
        "id": "M_5SeEokBQP8",
        "colab_type": "code",
        "outputId": "7d2d297f-67a0-4d87-9c42-28badb4b01f1",
        "colab": {
          "base_uri": "https://localhost:8080/",
          "height": 1000
        }
      },
      "source": [
        "candidatos.isnull().sum()"
      ],
      "execution_count": 88,
      "outputs": [
        {
          "output_type": "execute_result",
          "data": {
            "text/plain": [
              "DT_GERACAO                       0\n",
              "HH_GERACAO                       0\n",
              "ANO_ELEICAO                      0\n",
              "CD_TIPO_ELEICAO                  0\n",
              "NM_TIPO_ELEICAO                  0\n",
              "NR_TURNO                         0\n",
              "CD_ELEICAO                       0\n",
              "DS_ELEICAO                       0\n",
              "DT_ELEICAO                       0\n",
              "TP_ABRANGENCIA                   0\n",
              "SG_UF                            0\n",
              "SG_UE                            0\n",
              "NM_UE                            0\n",
              "CD_CARGO                         0\n",
              "DS_CARGO                         0\n",
              "SQ_CANDIDATO                     0\n",
              "NR_CANDIDATO                     0\n",
              "NM_CANDIDATO                     0\n",
              "NM_URNA_CANDIDATO                0\n",
              "NM_SOCIAL_CANDIDATO              0\n",
              "NR_CPF_CANDIDATO                 0\n",
              "NM_EMAIL                         0\n",
              "CD_SITUACAO_CANDIDATURA          0\n",
              "DS_SITUACAO_CANDIDATURA          0\n",
              "CD_DETALHE_SITUACAO_CAND         0\n",
              "DS_DETALHE_SITUACAO_CAND         0\n",
              "TP_AGREMIACAO                    0\n",
              "NR_PARTIDO                       0\n",
              "SG_PARTIDO                       0\n",
              "NM_PARTIDO                       0\n",
              "SQ_COLIGACAO                     0\n",
              "NM_COLIGACAO                     0\n",
              "DS_COMPOSICAO_COLIGACAO          0\n",
              "CD_NACIONALIDADE                 0\n",
              "DS_NACIONALIDADE                 0\n",
              "SG_UF_NASCIMENTO                 0\n",
              "CD_MUNICIPIO_NASCIMENTO          0\n",
              "NM_MUNICIPIO_NASCIMENTO          0\n",
              "DT_NASCIMENTO                    0\n",
              "NR_IDADE_DATA_POSSE              0\n",
              "NR_TITULO_ELEITORAL_CANDIDATO    0\n",
              "CD_GENERO                        0\n",
              "DS_GENERO                        0\n",
              "CD_GRAU_INSTRUCAO                0\n",
              "DS_GRAU_INSTRUCAO                0\n",
              "CD_ESTADO_CIVIL                  0\n",
              "DS_ESTADO_CIVIL                  0\n",
              "CD_COR_RACA                      0\n",
              "DS_COR_RACA                      0\n",
              "CD_OCUPACAO                      0\n",
              "DS_OCUPACAO                      0\n",
              "NR_DESPESA_MAX_CAMPANHA          0\n",
              "CD_SIT_TOT_TURNO                 0\n",
              "DS_SIT_TOT_TURNO                 0\n",
              "ST_REELEICAO                     0\n",
              "ST_DECLARAR_BENS                 0\n",
              "NR_PROTOCOLO_CANDIDATURA         0\n",
              "NR_PROCESSO                      0\n",
              "dtype: int64"
            ]
          },
          "metadata": {
            "tags": []
          },
          "execution_count": 88
        }
      ]
    },
    {
      "cell_type": "code",
      "metadata": {
        "id": "Z0nZeJLCJ1ET",
        "colab_type": "code",
        "outputId": "7fad8bc7-2330-4b30-c4e7-f84e5814a846",
        "colab": {
          "base_uri": "https://localhost:8080/",
          "height": 351
        }
      },
      "source": [
        "bens.isnull().sum()"
      ],
      "execution_count": 89,
      "outputs": [
        {
          "output_type": "execute_result",
          "data": {
            "text/plain": [
              "DT_GERACAO               0\n",
              "HH_GERACAO               0\n",
              "ANO_ELEICAO              0\n",
              "CD_TIPO_ELEICAO          0\n",
              "NM_TIPO_ELEICAO          0\n",
              "CD_ELEICAO               0\n",
              "DS_ELEICAO               0\n",
              "DT_ELEICAO               0\n",
              "SG_UF                    0\n",
              "SG_UE                    0\n",
              "NM_UE                    0\n",
              "SQ_CANDIDATO             0\n",
              "NR_ORDEM_CANDIDATO       0\n",
              "CD_TIPO_BEM_CANDIDATO    0\n",
              "DS_TIPO_BEM_CANDIDATO    0\n",
              "DS_BEM_CANDIDATO         0\n",
              "VR_BEM_CANDIDATO         0\n",
              "DT_ULTIMA_ATUALIZACAO    0\n",
              "HH_ULTIMA_ATUALIZACAO    0\n",
              "dtype: int64"
            ]
          },
          "metadata": {
            "tags": []
          },
          "execution_count": 89
        }
      ]
    },
    {
      "cell_type": "markdown",
      "metadata": {
        "id": "CITIYSwlCx88",
        "colab_type": "text"
      },
      "source": [
        "**3. Feature Engineering**\n",
        "\n",
        "A base de dados original dos candidatos possui uma quantidade muito grande de colunas, muitas das quase contém informações irrelevantes para este projeto. Por exemplo, colunas referentes à geração da base de dados em si ou a eleição são irrelevantes pois o foco é analisar características socio-econômicas e pessoais de cada invidíduo. Além disso, muitas colunas vem em pares conforme já explicado anteriormente, logo pode-se escolher manter apenas o código, o que seria equivalente ao tipo de codificação label encoding ou manter a descrição para se decidir depois a codificação (label encoding, one hot encoding, etc).\n",
        "\n",
        "Nesse sentido, as seguintes colunas serão selecionadas:\n",
        "\n",
        "4. NR_IDADE_DATA_POSSE - Idade do candidato na data da posse.\n",
        "5. DS_GENERO - Gênero do candidato.\n",
        "6. DS_GRAU_INSTRUCAO - Grau de instrução do candidato.\n",
        "7. DS_ESTADO_CIVIL - Estado civil do candidato.\n",
        "8. DS_COR_RACA - Raça/etnia do candidato.\n",
        "9. DS_OCUPACAO - Ocupação do candidato.\n",
        "10. CD_SIT_TOT_TURNO - Resultado da eleição para o candidato (coluna alvo).\n",
        "11. SQ_CANDIDATO - Identificador único do candidato utilizado para calcular os bens do candidato na outra base de dados.\n",
        "\n",
        "Já na base de dados de bens, serão mantidos apenas as seguintes:\n",
        "\n",
        "1. VR_BEM_CANDIDATO - Valor do bem do candidato.\n",
        "2. SQ_CANDIDATO - Identificador único do candidato."
      ]
    },
    {
      "cell_type": "code",
      "metadata": {
        "id": "LVkngvCjKY5U",
        "colab_type": "code",
        "colab": {}
      },
      "source": [
        "# Cria as novas base de dados resumidas.\n",
        "\n",
        "candidatos2 = candidatos[[\"NR_IDADE_DATA_POSSE\", \"DS_GENERO\", \"DS_GRAU_INSTRUCAO\", \n",
        "                          \"DS_ESTADO_CIVIL\", \"DS_COR_RACA\", \"DS_OCUPACAO\", \"CD_SIT_TOT_TURNO\", \n",
        "                          \"SQ_CANDIDATO\"]].copy()\n",
        "\n",
        "bens2 = bens[[\"VR_BEM_CANDIDATO\", \"SQ_CANDIDATO\"]].copy()"
      ],
      "execution_count": 0,
      "outputs": []
    },
    {
      "cell_type": "markdown",
      "metadata": {
        "id": "nCyUaS7nLdAh",
        "colab_type": "text"
      },
      "source": [
        "O passo seguinte é agrupar o valor somado dos bens pelo número de identificação do candidato. "
      ]
    },
    {
      "cell_type": "code",
      "metadata": {
        "id": "Mtu7phgCLja5",
        "colab_type": "code",
        "colab": {}
      },
      "source": [
        "# Cria uma Series com o valor total para cada identificador.\n",
        "\n",
        "valor_bens = bens2.groupby(['SQ_CANDIDATO'])[['VR_BEM_CANDIDATO']].agg('sum')\n"
      ],
      "execution_count": 0,
      "outputs": []
    },
    {
      "cell_type": "code",
      "metadata": {
        "id": "dKf0tZtLqJo-",
        "colab_type": "code",
        "colab": {
          "base_uri": "https://localhost:8080/",
          "height": 317
        },
        "outputId": "3cf83f02-b56e-444c-dec0-58312ecadb2e"
      },
      "source": [
        "candidatos2.head()"
      ],
      "execution_count": 92,
      "outputs": [
        {
          "output_type": "execute_result",
          "data": {
            "text/html": [
              "<div>\n",
              "<style scoped>\n",
              "    .dataframe tbody tr th:only-of-type {\n",
              "        vertical-align: middle;\n",
              "    }\n",
              "\n",
              "    .dataframe tbody tr th {\n",
              "        vertical-align: top;\n",
              "    }\n",
              "\n",
              "    .dataframe thead th {\n",
              "        text-align: right;\n",
              "    }\n",
              "</style>\n",
              "<table border=\"1\" class=\"dataframe\">\n",
              "  <thead>\n",
              "    <tr style=\"text-align: right;\">\n",
              "      <th></th>\n",
              "      <th>NR_IDADE_DATA_POSSE</th>\n",
              "      <th>DS_GENERO</th>\n",
              "      <th>DS_GRAU_INSTRUCAO</th>\n",
              "      <th>DS_ESTADO_CIVIL</th>\n",
              "      <th>DS_COR_RACA</th>\n",
              "      <th>DS_OCUPACAO</th>\n",
              "      <th>CD_SIT_TOT_TURNO</th>\n",
              "      <th>SQ_CANDIDATO</th>\n",
              "    </tr>\n",
              "  </thead>\n",
              "  <tbody>\n",
              "    <tr>\n",
              "      <th>0</th>\n",
              "      <td>35</td>\n",
              "      <td>FEMININO</td>\n",
              "      <td>ENSINO MÉDIO COMPLETO</td>\n",
              "      <td>SOLTEIRO(A)</td>\n",
              "      <td>BRANCA</td>\n",
              "      <td>DONA DE CASA</td>\n",
              "      <td>5</td>\n",
              "      <td>100000615067</td>\n",
              "    </tr>\n",
              "    <tr>\n",
              "      <th>1</th>\n",
              "      <td>41</td>\n",
              "      <td>MASCULINO</td>\n",
              "      <td>ENSINO MÉDIO COMPLETO</td>\n",
              "      <td>SOLTEIRO(A)</td>\n",
              "      <td>BRANCA</td>\n",
              "      <td>ADMINISTRADOR</td>\n",
              "      <td>4</td>\n",
              "      <td>250000623664</td>\n",
              "    </tr>\n",
              "    <tr>\n",
              "      <th>2</th>\n",
              "      <td>46</td>\n",
              "      <td>MASCULINO</td>\n",
              "      <td>SUPERIOR COMPLETO</td>\n",
              "      <td>CASADO(A)</td>\n",
              "      <td>BRANCA</td>\n",
              "      <td>SERVIDOR PÚBLICO ESTADUAL</td>\n",
              "      <td>5</td>\n",
              "      <td>190000626226</td>\n",
              "    </tr>\n",
              "    <tr>\n",
              "      <th>3</th>\n",
              "      <td>62</td>\n",
              "      <td>MASCULINO</td>\n",
              "      <td>SUPERIOR COMPLETO</td>\n",
              "      <td>CASADO(A)</td>\n",
              "      <td>BRANCA</td>\n",
              "      <td>MÉDICO</td>\n",
              "      <td>5</td>\n",
              "      <td>100000625316</td>\n",
              "    </tr>\n",
              "    <tr>\n",
              "      <th>4</th>\n",
              "      <td>45</td>\n",
              "      <td>MASCULINO</td>\n",
              "      <td>ENSINO MÉDIO COMPLETO</td>\n",
              "      <td>CASADO(A)</td>\n",
              "      <td>PRETA</td>\n",
              "      <td>ASTRÔNOMO</td>\n",
              "      <td>4</td>\n",
              "      <td>190000623227</td>\n",
              "    </tr>\n",
              "  </tbody>\n",
              "</table>\n",
              "</div>"
            ],
            "text/plain": [
              "   NR_IDADE_DATA_POSSE  DS_GENERO  ... CD_SIT_TOT_TURNO  SQ_CANDIDATO\n",
              "0                   35   FEMININO  ...                5  100000615067\n",
              "1                   41  MASCULINO  ...                4  250000623664\n",
              "2                   46  MASCULINO  ...                5  190000626226\n",
              "3                   62  MASCULINO  ...                5  100000625316\n",
              "4                   45  MASCULINO  ...                4  190000623227\n",
              "\n",
              "[5 rows x 8 columns]"
            ]
          },
          "metadata": {
            "tags": []
          },
          "execution_count": 92
        }
      ]
    },
    {
      "cell_type": "markdown",
      "metadata": {
        "id": "5RVcpw-0NCYt",
        "colab_type": "text"
      },
      "source": [
        "Finalmente, adiciona o valor de bens a cada candidato. Os inexistentes serão considerados 0 (sem bens declarados). "
      ]
    },
    {
      "cell_type": "code",
      "metadata": {
        "id": "vjbYL9evNBsj",
        "colab_type": "code",
        "colab": {}
      },
      "source": [
        "# Se arquivo com os bens já existe, ignora sua geração (demora mais de 30 segundos para gerar).\n",
        "\n",
        "try:\n",
        "  candidatos2 = pd.read_csv(\"candidatos_bens.csv\", sep=\";\", encoding=\"utf8\")\n",
        "except:\n",
        "  # Inicializa todos os candidatos como zero.\n",
        "  candidatos2[\"VALOR_BENS\"] = 0.0\n",
        "\n",
        "  # Adiciona o valor dos bens aos que possuem bens.\n",
        "  for index, row in valor_bens.iterrows():\n",
        "    candidatos2.loc[candidatos2[\"SQ_CANDIDATO\"] == index, \"VALOR_BENS\"] = row.VR_BEM_CANDIDATO\n",
        "\n",
        "  # Já que este é um processo demorado, salva um novo arquivo CSV.\n",
        "  candidatos2.to_csv(\"candidatos_bens.csv\", sep=';')\n",
        "\n",
        "# Remove SQ_CANDIDATO\n",
        "if \"SQ_CANDIDATO\" in candidatos2.columns:\n",
        "  candidatos2.drop('SQ_CANDIDATO', axis=1, inplace=True)"
      ],
      "execution_count": 0,
      "outputs": []
    },
    {
      "cell_type": "markdown",
      "metadata": {
        "id": "kEJEFEBXVsAE",
        "colab_type": "text"
      },
      "source": [
        "O passo seguinte é criar a coluna alvo do tipo binária, conforme descrito anteriormente."
      ]
    },
    {
      "cell_type": "code",
      "metadata": {
        "id": "5P_TT5Scqb8k",
        "colab_type": "code",
        "colab": {
          "base_uri": "https://localhost:8080/",
          "height": 333
        },
        "outputId": "825c069f-bae9-4cb7-839c-bbd24fb55314"
      },
      "source": [
        "candidatos2.head()"
      ],
      "execution_count": 94,
      "outputs": [
        {
          "output_type": "execute_result",
          "data": {
            "text/html": [
              "<div>\n",
              "<style scoped>\n",
              "    .dataframe tbody tr th:only-of-type {\n",
              "        vertical-align: middle;\n",
              "    }\n",
              "\n",
              "    .dataframe tbody tr th {\n",
              "        vertical-align: top;\n",
              "    }\n",
              "\n",
              "    .dataframe thead th {\n",
              "        text-align: right;\n",
              "    }\n",
              "</style>\n",
              "<table border=\"1\" class=\"dataframe\">\n",
              "  <thead>\n",
              "    <tr style=\"text-align: right;\">\n",
              "      <th></th>\n",
              "      <th>Unnamed: 0</th>\n",
              "      <th>NR_IDADE_DATA_POSSE</th>\n",
              "      <th>DS_GENERO</th>\n",
              "      <th>DS_GRAU_INSTRUCAO</th>\n",
              "      <th>DS_ESTADO_CIVIL</th>\n",
              "      <th>DS_COR_RACA</th>\n",
              "      <th>DS_OCUPACAO</th>\n",
              "      <th>CD_SIT_TOT_TURNO</th>\n",
              "      <th>VALOR_BENS</th>\n",
              "    </tr>\n",
              "  </thead>\n",
              "  <tbody>\n",
              "    <tr>\n",
              "      <th>0</th>\n",
              "      <td>0</td>\n",
              "      <td>35</td>\n",
              "      <td>FEMININO</td>\n",
              "      <td>ENSINO MÉDIO COMPLETO</td>\n",
              "      <td>SOLTEIRO(A)</td>\n",
              "      <td>BRANCA</td>\n",
              "      <td>DONA DE CASA</td>\n",
              "      <td>5</td>\n",
              "      <td>0.00</td>\n",
              "    </tr>\n",
              "    <tr>\n",
              "      <th>1</th>\n",
              "      <td>1</td>\n",
              "      <td>41</td>\n",
              "      <td>MASCULINO</td>\n",
              "      <td>ENSINO MÉDIO COMPLETO</td>\n",
              "      <td>SOLTEIRO(A)</td>\n",
              "      <td>BRANCA</td>\n",
              "      <td>ADMINISTRADOR</td>\n",
              "      <td>4</td>\n",
              "      <td>0.00</td>\n",
              "    </tr>\n",
              "    <tr>\n",
              "      <th>2</th>\n",
              "      <td>2</td>\n",
              "      <td>46</td>\n",
              "      <td>MASCULINO</td>\n",
              "      <td>SUPERIOR COMPLETO</td>\n",
              "      <td>CASADO(A)</td>\n",
              "      <td>BRANCA</td>\n",
              "      <td>SERVIDOR PÚBLICO ESTADUAL</td>\n",
              "      <td>5</td>\n",
              "      <td>0.00</td>\n",
              "    </tr>\n",
              "    <tr>\n",
              "      <th>3</th>\n",
              "      <td>3</td>\n",
              "      <td>62</td>\n",
              "      <td>MASCULINO</td>\n",
              "      <td>SUPERIOR COMPLETO</td>\n",
              "      <td>CASADO(A)</td>\n",
              "      <td>BRANCA</td>\n",
              "      <td>MÉDICO</td>\n",
              "      <td>5</td>\n",
              "      <td>507722.18</td>\n",
              "    </tr>\n",
              "    <tr>\n",
              "      <th>4</th>\n",
              "      <td>4</td>\n",
              "      <td>45</td>\n",
              "      <td>MASCULINO</td>\n",
              "      <td>ENSINO MÉDIO COMPLETO</td>\n",
              "      <td>CASADO(A)</td>\n",
              "      <td>PRETA</td>\n",
              "      <td>ASTRÔNOMO</td>\n",
              "      <td>4</td>\n",
              "      <td>0.00</td>\n",
              "    </tr>\n",
              "  </tbody>\n",
              "</table>\n",
              "</div>"
            ],
            "text/plain": [
              "   Unnamed: 0  NR_IDADE_DATA_POSSE  ... CD_SIT_TOT_TURNO VALOR_BENS\n",
              "0           0                   35  ...                5       0.00\n",
              "1           1                   41  ...                4       0.00\n",
              "2           2                   46  ...                5       0.00\n",
              "3           3                   62  ...                5  507722.18\n",
              "4           4                   45  ...                4       0.00\n",
              "\n",
              "[5 rows x 9 columns]"
            ]
          },
          "metadata": {
            "tags": []
          },
          "execution_count": 94
        }
      ]
    },
    {
      "cell_type": "code",
      "metadata": {
        "id": "09MIozj1Vx8s",
        "colab_type": "code",
        "colab": {}
      },
      "source": [
        "# Define todos os candidatos como não eleitos (cria nova coluna alvo).\n",
        "candidatos2[\"SE_ELEGEU\"] = 0\n",
        "\n",
        "# Candidatos com código 1, 2 ou 3 são considerados eleitos.\n",
        "candidatos2.loc[candidatos2[\"CD_SIT_TOT_TURNO\"].isin([1, 2, 3]), \"SE_ELEGEU\"] = 1\n",
        "\n",
        "# Remove a coluna alvo antiga.\n",
        "if \"CD_SIT_TOT_TURNO\" in candidatos2.columns:\n",
        "  candidatos2.drop('CD_SIT_TOT_TURNO', axis=1, inplace=True)\n"
      ],
      "execution_count": 0,
      "outputs": []
    },
    {
      "cell_type": "code",
      "metadata": {
        "id": "9o7C3QwVW87Z",
        "colab_type": "code",
        "outputId": "ae3336a2-89f9-4291-e44a-b3de9553b169",
        "colab": {
          "base_uri": "https://localhost:8080/",
          "height": 67
        }
      },
      "source": [
        "candidatos2.SE_ELEGEU.value_counts()\n"
      ],
      "execution_count": 96,
      "outputs": [
        {
          "output_type": "execute_result",
          "data": {
            "text/plain": [
              "0    27363\n",
              "1     1782\n",
              "Name: SE_ELEGEU, dtype: int64"
            ]
          },
          "metadata": {
            "tags": []
          },
          "execution_count": 96
        }
      ]
    },
    {
      "cell_type": "code",
      "metadata": {
        "id": "2CfWlD9srM55",
        "colab_type": "code",
        "outputId": "01c34f64-7303-40c0-c219-150c56f1afed",
        "colab": {
          "base_uri": "https://localhost:8080/",
          "height": 333
        }
      },
      "source": [
        "candidatos2.head()"
      ],
      "execution_count": 97,
      "outputs": [
        {
          "output_type": "execute_result",
          "data": {
            "text/html": [
              "<div>\n",
              "<style scoped>\n",
              "    .dataframe tbody tr th:only-of-type {\n",
              "        vertical-align: middle;\n",
              "    }\n",
              "\n",
              "    .dataframe tbody tr th {\n",
              "        vertical-align: top;\n",
              "    }\n",
              "\n",
              "    .dataframe thead th {\n",
              "        text-align: right;\n",
              "    }\n",
              "</style>\n",
              "<table border=\"1\" class=\"dataframe\">\n",
              "  <thead>\n",
              "    <tr style=\"text-align: right;\">\n",
              "      <th></th>\n",
              "      <th>Unnamed: 0</th>\n",
              "      <th>NR_IDADE_DATA_POSSE</th>\n",
              "      <th>DS_GENERO</th>\n",
              "      <th>DS_GRAU_INSTRUCAO</th>\n",
              "      <th>DS_ESTADO_CIVIL</th>\n",
              "      <th>DS_COR_RACA</th>\n",
              "      <th>DS_OCUPACAO</th>\n",
              "      <th>VALOR_BENS</th>\n",
              "      <th>SE_ELEGEU</th>\n",
              "    </tr>\n",
              "  </thead>\n",
              "  <tbody>\n",
              "    <tr>\n",
              "      <th>0</th>\n",
              "      <td>0</td>\n",
              "      <td>35</td>\n",
              "      <td>FEMININO</td>\n",
              "      <td>ENSINO MÉDIO COMPLETO</td>\n",
              "      <td>SOLTEIRO(A)</td>\n",
              "      <td>BRANCA</td>\n",
              "      <td>DONA DE CASA</td>\n",
              "      <td>0.00</td>\n",
              "      <td>0</td>\n",
              "    </tr>\n",
              "    <tr>\n",
              "      <th>1</th>\n",
              "      <td>1</td>\n",
              "      <td>41</td>\n",
              "      <td>MASCULINO</td>\n",
              "      <td>ENSINO MÉDIO COMPLETO</td>\n",
              "      <td>SOLTEIRO(A)</td>\n",
              "      <td>BRANCA</td>\n",
              "      <td>ADMINISTRADOR</td>\n",
              "      <td>0.00</td>\n",
              "      <td>0</td>\n",
              "    </tr>\n",
              "    <tr>\n",
              "      <th>2</th>\n",
              "      <td>2</td>\n",
              "      <td>46</td>\n",
              "      <td>MASCULINO</td>\n",
              "      <td>SUPERIOR COMPLETO</td>\n",
              "      <td>CASADO(A)</td>\n",
              "      <td>BRANCA</td>\n",
              "      <td>SERVIDOR PÚBLICO ESTADUAL</td>\n",
              "      <td>0.00</td>\n",
              "      <td>0</td>\n",
              "    </tr>\n",
              "    <tr>\n",
              "      <th>3</th>\n",
              "      <td>3</td>\n",
              "      <td>62</td>\n",
              "      <td>MASCULINO</td>\n",
              "      <td>SUPERIOR COMPLETO</td>\n",
              "      <td>CASADO(A)</td>\n",
              "      <td>BRANCA</td>\n",
              "      <td>MÉDICO</td>\n",
              "      <td>507722.18</td>\n",
              "      <td>0</td>\n",
              "    </tr>\n",
              "    <tr>\n",
              "      <th>4</th>\n",
              "      <td>4</td>\n",
              "      <td>45</td>\n",
              "      <td>MASCULINO</td>\n",
              "      <td>ENSINO MÉDIO COMPLETO</td>\n",
              "      <td>CASADO(A)</td>\n",
              "      <td>PRETA</td>\n",
              "      <td>ASTRÔNOMO</td>\n",
              "      <td>0.00</td>\n",
              "      <td>0</td>\n",
              "    </tr>\n",
              "  </tbody>\n",
              "</table>\n",
              "</div>"
            ],
            "text/plain": [
              "   Unnamed: 0  NR_IDADE_DATA_POSSE  ... VALOR_BENS SE_ELEGEU\n",
              "0           0                   35  ...       0.00         0\n",
              "1           1                   41  ...       0.00         0\n",
              "2           2                   46  ...       0.00         0\n",
              "3           3                   62  ...  507722.18         0\n",
              "4           4                   45  ...       0.00         0\n",
              "\n",
              "[5 rows x 9 columns]"
            ]
          },
          "metadata": {
            "tags": []
          },
          "execution_count": 97
        }
      ]
    },
    {
      "cell_type": "markdown",
      "metadata": {
        "id": "Zfs5v7h7U1NP",
        "colab_type": "text"
      },
      "source": [
        "Neste momento a base de dados já está pronta para ser trabalhada. A seguir, serão selecionadas algumas colunas consideradas relevantes para se observar como elas estão relacionadas com a coluna alvo."
      ]
    },
    {
      "cell_type": "code",
      "metadata": {
        "id": "txJLYFmcVCRs",
        "colab_type": "code",
        "outputId": "6b7ec436-96e9-4f23-d791-f979962950ac",
        "colab": {
          "base_uri": "https://localhost:8080/",
          "height": 700
        }
      },
      "source": [
        "# Análise para o sexo do candidato.\n",
        "\n",
        "result_genero = candidatos2.loc[candidatos2[\"SE_ELEGEU\"]==1, \"DS_GENERO\"].value_counts()\n",
        "print(\"Proporção de homens e mulheres entre os eleitos\")\n",
        "print(result_genero/result_genero.sum())\n",
        "print()\n",
        "\n",
        "result_genero.plot.pie()\n",
        "\n",
        "sns.catplot(x=\"DS_GENERO\", hue=\"SE_ELEGEU\", data=candidatos2, kind=\"count\")"
      ],
      "execution_count": 98,
      "outputs": [
        {
          "output_type": "stream",
          "text": [
            "Proporção de homens e mulheres entre os eleitos\n",
            "MASCULINO    0.838945\n",
            "FEMININO     0.161055\n",
            "Name: DS_GENERO, dtype: float64\n",
            "\n"
          ],
          "name": "stdout"
        },
        {
          "output_type": "execute_result",
          "data": {
            "text/plain": [
              "<seaborn.axisgrid.FacetGrid at 0x7f7deaa7f128>"
            ]
          },
          "metadata": {
            "tags": []
          },
          "execution_count": 98
        },
        {
          "output_type": "display_data",
          "data": {
            "image/png": "[encoded data removed]",
            "text/plain": [
              "<Figure size 432x288 with 1 Axes>"
            ]
          },
          "metadata": {
            "tags": []
          }
        },
        {
          "output_type": "display_data",
          "data": {
            "image/png": "[encoded data removed]",
            "text/plain": [
              "<Figure size 424.875x360 with 1 Axes>"
            ]
          },
          "metadata": {
            "tags": []
          }
        }
      ]
    },
    {
      "cell_type": "markdown",
      "metadata": {
        "id": "Vs9Q6OJWqQim",
        "colab_type": "text"
      },
      "source": [
        "Como se vê nos gráficos acima, entre os candidatos eleitos a grande maioria (mais de 80%) são homens, o que ainda mantém uma tendência dos homens serem maioria na política."
      ]
    },
    {
      "cell_type": "code",
      "metadata": {
        "id": "pjGOTcwvbVTc",
        "colab_type": "code",
        "outputId": "0ffb167f-552a-434f-e5cf-0a0df263838a",
        "colab": {
          "base_uri": "https://localhost:8080/",
          "height": 734
        }
      },
      "source": [
        "# Análise para a raça/etnia.\n",
        "\n",
        "candidatos2.loc[~candidatos2[\"DS_COR_RACA\"].isin(\n",
        "   ['BRANCA', 'PARDA', 'PRETA']), \"DS_COR_RACA\"] = \"OUTRA\"\n",
        "\n",
        "result_raca = candidatos2.loc[candidatos2[\"SE_ELEGEU\"]==1, \"DS_COR_RACA\"].value_counts()\n",
        "print(\"Proporção de raças/etnias entre os eleitos\")\n",
        "print(result_raca/result_raca.sum())\n",
        "print()\n",
        "\n",
        "result_raca.plot.pie()\n",
        "\n",
        "sns.catplot(x=\"DS_COR_RACA\", hue=\"SE_ELEGEU\", data=candidatos2, kind=\"count\")"
      ],
      "execution_count": 99,
      "outputs": [
        {
          "output_type": "stream",
          "text": [
            "Proporção de raças/etnias entre os eleitos\n",
            "BRANCA    0.720539\n",
            "PARDA     0.234007\n",
            "PRETA     0.042649\n",
            "OUTRA     0.002806\n",
            "Name: DS_COR_RACA, dtype: float64\n",
            "\n"
          ],
          "name": "stdout"
        },
        {
          "output_type": "execute_result",
          "data": {
            "text/plain": [
              "<seaborn.axisgrid.FacetGrid at 0x7f7debaafc88>"
            ]
          },
          "metadata": {
            "tags": []
          },
          "execution_count": 99
        },
        {
          "output_type": "display_data",
          "data": {
            "image/png": "[encoded data removed]",
            "text/plain": [
              "<Figure size 432x288 with 1 Axes>"
            ]
          },
          "metadata": {
            "tags": []
          }
        },
        {
          "output_type": "display_data",
          "data": {
            "image/png": "[encoded data removed]",
            "text/plain": [
              "<Figure size 424.875x360 with 1 Axes>"
            ]
          },
          "metadata": {
            "tags": []
          }
        }
      ]
    },
    {
      "cell_type": "markdown",
      "metadata": {
        "id": "9g77lvVdqf4I",
        "colab_type": "text"
      },
      "source": [
        "Do resultado étnico, percebe-se que a maioria dos candidatos eleitos são brancos sendo os pretos e demais a pequena minoria (menos de 5% dos eleitos). Talvez isso reflita um pouco da desigualdade social do Brasil para as populações afro-decendentes."
      ]
    },
    {
      "cell_type": "code",
      "metadata": {
        "id": "AV5LtwC-b11v",
        "colab_type": "code",
        "outputId": "e16bc354-2645-4644-9dff-3d2c451f28ae",
        "colab": {
          "base_uri": "https://localhost:8080/",
          "height": 134
        }
      },
      "source": [
        "# Análise para o grau de instrução.\n",
        "\n",
        "# Reduzindo os nomes dos graus.\n",
        "candidatos2.DS_GRAU_INSTRUCAO.replace(\n",
        "    ['SUPERIOR COMPLETO', 'ENSINO MÉDIO COMPLETO', 'SUPERIOR INCOMPLETO'], \n",
        "    ['SUP_C', 'ENS_MED_C', 'SUP_I'], inplace=True)\n",
        "\n",
        "candidatos2.loc[~candidatos2[\"DS_GRAU_INSTRUCAO\"].isin(\n",
        "   ['SUP_C', 'ENS_MED_C', 'SUP_I']), \"DS_GRAU_INSTRUCAO\"] = \"BAIXO\"\n",
        "\n",
        "result_grau = candidatos2.loc[candidatos2[\"SE_ELEGEU\"]==1, \"DS_GRAU_INSTRUCAO\"].value_counts()\n",
        "print(\"Proporção de grau de instrução entre os eleitos\")\n",
        "print(result_grau/result_grau.sum())\n",
        "print()\n"
      ],
      "execution_count": 100,
      "outputs": [
        {
          "output_type": "stream",
          "text": [
            "Proporção de grau de instrução entre os eleitos\n",
            "SUP_C        0.754209\n",
            "ENS_MED_C    0.130191\n",
            "SUP_I        0.084736\n",
            "BAIXO        0.030864\n",
            "Name: DS_GRAU_INSTRUCAO, dtype: float64\n",
            "\n"
          ],
          "name": "stdout"
        }
      ]
    },
    {
      "cell_type": "code",
      "metadata": {
        "id": "XMqublvQdIny",
        "colab_type": "code",
        "outputId": "1f26215f-163b-4572-beac-e4ade41815ec",
        "colab": {
          "base_uri": "https://localhost:8080/",
          "height": 617
        }
      },
      "source": [
        "result_grau.plot.pie()\n",
        "\n",
        "sns.catplot(x=\"DS_GRAU_INSTRUCAO\", hue=\"SE_ELEGEU\", data=candidatos2, kind=\"count\")\n"
      ],
      "execution_count": 101,
      "outputs": [
        {
          "output_type": "execute_result",
          "data": {
            "text/plain": [
              "<seaborn.axisgrid.FacetGrid at 0x7f7dea871048>"
            ]
          },
          "metadata": {
            "tags": []
          },
          "execution_count": 101
        },
        {
          "output_type": "display_data",
          "data": {
            "image/png": "[encoded data removed]",
            "text/plain": [
              "<Figure size 432x288 with 1 Axes>"
            ]
          },
          "metadata": {
            "tags": []
          }
        },
        {
          "output_type": "display_data",
          "data": {
            "image/png": "[encoded data removed]",
            "text/plain": [
              "<Figure size 424.875x360 with 1 Axes>"
            ]
          },
          "metadata": {
            "tags": []
          }
        }
      ]
    },
    {
      "cell_type": "markdown",
      "metadata": {
        "id": "M61kNhT6q5s2",
        "colab_type": "text"
      },
      "source": [
        "Em relação ao grau de instrução, percebe-se que a maioria dos eleitos possui ensino superior completo."
      ]
    },
    {
      "cell_type": "markdown",
      "metadata": {
        "id": "neGCfreLroCr",
        "colab_type": "text"
      },
      "source": [
        "Os passos seguintes consistem em criar-se faixas de valores a idade e o valor dos bens, de modo a se criar duas novas colunas. Além disso, o número de profissões será reduzido pois existem muitas."
      ]
    },
    {
      "cell_type": "code",
      "metadata": {
        "id": "Nt5vZcgHtE_e",
        "colab_type": "code",
        "outputId": "2fe47b06-4231-47dc-fcd8-ea1d5d8b244c",
        "colab": {
          "base_uri": "https://localhost:8080/",
          "height": 432
        }
      },
      "source": [
        "# Analisando as idades.\n",
        "print(candidatos2.NR_IDADE_DATA_POSSE.describe())\n",
        "\n",
        "# Exibindo a distribuição de idades.\n",
        "candidatos2.NR_IDADE_DATA_POSSE.hist(bins=100)"
      ],
      "execution_count": 102,
      "outputs": [
        {
          "output_type": "stream",
          "text": [
            "count    29145.000000\n",
            "mean        47.797873\n",
            "std         12.347219\n",
            "min         18.000000\n",
            "25%         40.000000\n",
            "50%         48.000000\n",
            "75%         56.000000\n",
            "max        825.000000\n",
            "Name: NR_IDADE_DATA_POSSE, dtype: float64\n"
          ],
          "name": "stdout"
        },
        {
          "output_type": "execute_result",
          "data": {
            "text/plain": [
              "<matplotlib.axes._subplots.AxesSubplot at 0x7f7deaa24128>"
            ]
          },
          "metadata": {
            "tags": []
          },
          "execution_count": 102
        },
        {
          "output_type": "display_data",
          "data": {
            "image/png": "[encoded data removed]",
            "text/plain": [
              "<Figure size 432x288 with 1 Axes>"
            ]
          },
          "metadata": {
            "tags": []
          }
        }
      ]
    },
    {
      "cell_type": "markdown",
      "metadata": {
        "id": "P4IBXwhrt2zc",
        "colab_type": "text"
      },
      "source": [
        "Nota-se que existe uma idade fora dos valores reais, sendo esta 825. Ela será substituída pelo valor mediano.\n",
        "\n"
      ]
    },
    {
      "cell_type": "code",
      "metadata": {
        "id": "JDEnPsTYuVAA",
        "colab_type": "code",
        "outputId": "531e2195-2c2f-4ad4-fd9f-6df0e121bc19",
        "colab": {
          "base_uri": "https://localhost:8080/",
          "height": 436
        }
      },
      "source": [
        "candidatos2.NR_IDADE_DATA_POSSE.replace(\n",
        "    [825], \n",
        "    [candidatos2.NR_IDADE_DATA_POSSE.median()], inplace=True)\n",
        "\n",
        "print(candidatos2.NR_IDADE_DATA_POSSE.describe())\n",
        "\n",
        "# Exibindo a distribuição de idades.\n",
        "candidatos2.NR_IDADE_DATA_POSSE.hist(bins=100)"
      ],
      "execution_count": 103,
      "outputs": [
        {
          "output_type": "stream",
          "text": [
            "count    29145.000000\n",
            "mean        47.771213\n",
            "std         11.477236\n",
            "min         18.000000\n",
            "25%         40.000000\n",
            "50%         48.000000\n",
            "75%         56.000000\n",
            "max         94.000000\n",
            "Name: NR_IDADE_DATA_POSSE, dtype: float64\n"
          ],
          "name": "stdout"
        },
        {
          "output_type": "execute_result",
          "data": {
            "text/plain": [
              "<matplotlib.axes._subplots.AxesSubplot at 0x7f7dea8d0320>"
            ]
          },
          "metadata": {
            "tags": []
          },
          "execution_count": 103
        },
        {
          "output_type": "display_data",
          "data": {
            "image/png": "[encoded data removed]",
            "text/plain": [
              "<Figure size 432x288 with 1 Axes>"
            ]
          },
          "metadata": {
            "tags": []
          }
        }
      ]
    },
    {
      "cell_type": "code",
      "metadata": {
        "id": "vV2Xds3Wr7mr",
        "colab_type": "code",
        "colab": {}
      },
      "source": [
        "# Criando faixas de idade.\n",
        "faixas_idade = [0, 21, 35, 50, 65, 200]\n",
        "nomes_idade = [\"JOVEM\", \"ADULTO-JOVEM\", \"ADULTO\", \"ADULTO-IDOSO\", \"IDOSO\"]\n",
        "candidatos2[\"IDADE_CAT\"] = pd.cut(candidatos2[\"NR_IDADE_DATA_POSSE\"], faixas_idade, labels=nomes_idade)"
      ],
      "execution_count": 0,
      "outputs": []
    },
    {
      "cell_type": "code",
      "metadata": {
        "id": "9DYG1aE5u0C1",
        "colab_type": "code",
        "outputId": "3173c24a-ec1e-46a2-950d-9dbd4714277b",
        "colab": {
          "base_uri": "https://localhost:8080/",
          "height": 167
        }
      },
      "source": [
        "# Analisando as faixas de renda.\n",
        "print(candidatos2.VALOR_BENS.describe())"
      ],
      "execution_count": 105,
      "outputs": [
        {
          "output_type": "stream",
          "text": [
            "count    2.914500e+04\n",
            "mean     8.427223e+05\n",
            "std      1.500900e+07\n",
            "min      0.000000e+00\n",
            "25%      0.000000e+00\n",
            "50%      3.200000e+04\n",
            "75%      3.280000e+05\n",
            "max      1.202007e+09\n",
            "Name: VALOR_BENS, dtype: float64\n"
          ],
          "name": "stdout"
        }
      ]
    },
    {
      "cell_type": "code",
      "metadata": {
        "id": "e1r139a2vYuS",
        "colab_type": "code",
        "colab": {}
      },
      "source": [
        "# Criando faixas de bens.\n",
        "faixas_bens = [-1, 10e5, 10e6, 10e7, 10e8, 10e20]\n",
        "nomes_bens = [\"POBRE\", \"MEDIO\", \"RICO\", \"MUITO-RICO\", \"EXTREMAMENTE-RICO\"]\n",
        "candidatos2[\"BENS_CAT\"] = pd.cut(candidatos2[\"VALOR_BENS\"], faixas_bens, labels=nomes_bens)"
      ],
      "execution_count": 0,
      "outputs": []
    },
    {
      "cell_type": "markdown",
      "metadata": {
        "id": "8UCK7s7jxUe4",
        "colab_type": "text"
      },
      "source": [
        "Por fim, serão reduzidos as profissões, já que existem 214 conforme mostradas abaixo. Serão mantidas as profissões com mais candidatos eleitos."
      ]
    },
    {
      "cell_type": "code",
      "metadata": {
        "id": "iViPPeS8w0uK",
        "colab_type": "code",
        "outputId": "71f25717-eda5-4718-cf94-c0a70fa45cd3",
        "colab": {
          "base_uri": "https://localhost:8080/",
          "height": 87
        }
      },
      "source": [
        "# Profissões únicas.\n",
        "print(\"Profissões diferentes: \", candidatos2.DS_OCUPACAO.nunique())\n",
        "\n",
        "profissoes_eleitas = candidatos2[candidatos2[\"SE_ELEGEU\"] == 1].DS_OCUPACAO.value_counts().keys().tolist()\n",
        "quantidade_eleitos = candidatos2[candidatos2[\"SE_ELEGEU\"] == 1].DS_OCUPACAO.value_counts().tolist()\n",
        "\n",
        "print(profissoes_eleitas)\n",
        "print(quantidade_eleitos)"
      ],
      "execution_count": 107,
      "outputs": [
        {
          "output_type": "stream",
          "text": [
            "Profissões diferentes:  214\n",
            "['DEPUTADO', 'EMPRESÁRIO', 'ADVOGADO', 'OUTROS', 'MÉDICO', 'VEREADOR', 'ADMINISTRADOR', 'SERVIDOR PÚBLICO ESTADUAL', 'POLICIAL MILITAR', 'ENGENHEIRO', 'PROFESSOR DE ENSINO SUPERIOR', 'SERVIDOR PÚBLICO FEDERAL', 'JORNALISTA E REDATOR', 'POLICIAL CIVIL', 'SENADOR', 'AGRICULTOR', 'PROFESSOR DE ENSINO MÉDIO', 'MILITAR REFORMADO', 'ECONOMISTA', 'PRODUTOR AGROPECUÁRIO', 'APOSENTADO (EXCETO SERVIDOR PÚBLICO)', 'MEMBRO DAS FORÇAS ARMADAS', 'COMERCIANTE', 'PROFESSOR DE ENSINO FUNDAMENTAL', 'GOVERNADOR', 'PECUARISTA', 'LOCUTOR E COMENTARISTA DE RÁDIO E TELEVISÃO E RADIALISTA', 'SACERDOTE OU MEMBRO DE ORDEM OU SEITA RELIGIOSA', 'SERVIDOR PÚBLICO MUNICIPAL', 'ODONTÓLOGO', 'AGRÔNOMO', 'SERVIDOR PÚBLICO CIVIL APOSENTADO', 'CORRETOR DE IMÓVEIS, SEGUROS, TÍTULOS E VALORES', 'PEDAGOGO', 'ESTUDANTE, BOLSISTA, ESTAGIÁRIO E ASSEMELHADOS', 'SOCIÓLOGO', 'FARMACÊUTICO', 'DONA DE CASA', 'ASSISTENTE SOCIAL', 'BOMBEIRO MILITAR', 'COMUNICÓLOGO', 'CONTADOR', 'VETERINÁRIO', 'BANCÁRIO E ECONOMIÁRIO', 'HISTORIADOR', 'PREFEITO', 'AGENTE ADMINISTRATIVO', 'GERENTE', 'MÚSICO', 'ESCRITOR E CRÍTICO', 'ENFERMEIRO', 'CIENTISTA POLÍTICO', 'CANTOR E COMPOSITOR', 'ANALISTA DE SISTEMAS', 'ARQUITETO', 'INDUSTRIAL', 'DIRETOR DE ESTABELECIMENTO DE ENSINO', 'PESCADOR', 'OPERADOR DE EQUIPAMENTO DE RÁDIO, TELEVISÃO, SOM E CINEMA', 'MAGISTRADO', 'PROFESSOR E INSTRUTOR DE FORMAÇÃO PROFISSIONAL', 'COMERCIÁRIO', 'FONOAUDIÓLOGO', 'MOTORISTA PARTICULAR', 'MOTORISTA DE VEÍCULOS DE TRANSPORTE COLETIVO DE PASSAGEIROS', 'TÉCNICO EM AGRONOMIA E AGRIMENSURA', 'TÉCNICO EM EDIFICAÇÕES', 'JORNALEIRO', 'OCUPANTE DE CARGO EM COMISSÃO', 'TÉCNICO DE ELETRICIDADE, ELETRÔNICA E TELECOMUNICAÇÕES', 'ARTISTA PLÁSTICO E ASSEMELHADOS', 'VENDEDOR PRACISTA, REPRESENTANTE, CAIXEIRO-VIAJANTE E ASSEMELHADOS', 'AUXILIAR DE ESCRITÓRIO E ASSEMELHADOS', 'ASTRÔNOMO', 'DIRETOR DE EMPRESAS', 'TRABALHADOR DOS SERVIÇOS DE CONTABILIDADE, DE CAIXA E ASSEMELHADOS', 'NUTRICIONISTA E ASSEMELHADOS', 'TÉCNICO CONTABILIDADE, ESTATÍSTICA, ECONOMIA DOMÉSTICA E ADMINISTRAÇÃO', 'ATLETA PROFISSIONAL E TÉCNICO EM DESPORTOS', 'TRABALHADOR METALÚRGICO E SIDERÚRGICO', 'ARQUIVISTA E MUSEÓLOGO']\n",
            "[670, 189, 140, 111, 91, 84, 38, 38, 37, 30, 28, 19, 18, 18, 14, 13, 13, 13, 13, 11, 11, 10, 10, 9, 9, 7, 7, 7, 7, 6, 6, 6, 6, 5, 5, 4, 4, 4, 4, 4, 3, 3, 3, 3, 3, 2, 2, 2, 2, 2, 2, 2, 2, 2, 2, 2, 2, 1, 1, 1, 1, 1, 1, 1, 1, 1, 1, 1, 1, 1, 1, 1, 1, 1, 1, 1, 1, 1, 1, 1, 1]\n"
          ],
          "name": "stdout"
        }
      ]
    },
    {
      "cell_type": "code",
      "metadata": {
        "id": "pkx2FuOiytUL",
        "colab_type": "code",
        "colab": {}
      },
      "source": [
        "# Seleciona as 15 profissões mais eleitas.\n",
        "profissoes_escolhidas = profissoes_eleitas[0:16]\n",
        "\n",
        "# Substitui as demais profissões por PROFISSAO_SIMPLES.\n",
        "candidatos2.loc[~candidatos2[\"DS_OCUPACAO\"].isin(\n",
        "   profissoes_escolhidas), \"DS_OCUPACAO\"] = \"PROFISSAO_SIMPLES\""
      ],
      "execution_count": 0,
      "outputs": []
    },
    {
      "cell_type": "code",
      "metadata": {
        "id": "Apd_-UCQzpOP",
        "colab_type": "code",
        "outputId": "849f3733-61af-4ad3-ae27-f0d72b947662",
        "colab": {
          "base_uri": "https://localhost:8080/",
          "height": 318
        }
      },
      "source": [
        "candidatos2.DS_OCUPACAO.value_counts()"
      ],
      "execution_count": 109,
      "outputs": [
        {
          "output_type": "execute_result",
          "data": {
            "text/plain": [
              "PROFISSAO_SIMPLES               11730\n",
              "OUTROS                           5688\n",
              "EMPRESÁRIO                       3021\n",
              "ADVOGADO                         1830\n",
              "DEPUTADO                         1126\n",
              "VEREADOR                          961\n",
              "SERVIDOR PÚBLICO ESTADUAL         720\n",
              "ADMINISTRADOR                     695\n",
              "MÉDICO                            680\n",
              "POLICIAL MILITAR                  604\n",
              "SERVIDOR PÚBLICO FEDERAL          457\n",
              "PROFESSOR DE ENSINO SUPERIOR      430\n",
              "ENGENHEIRO                        358\n",
              "JORNALISTA E REDATOR              346\n",
              "AGRICULTOR                        259\n",
              "POLICIAL CIVIL                    187\n",
              "SENADOR                            53\n",
              "Name: DS_OCUPACAO, dtype: int64"
            ]
          },
          "metadata": {
            "tags": []
          },
          "execution_count": 109
        }
      ]
    },
    {
      "cell_type": "code",
      "metadata": {
        "id": "1NeY4qgh0TDS",
        "colab_type": "code",
        "outputId": "e37068e9-c306-435c-a82d-292a1c0bbc64",
        "colab": {
          "base_uri": "https://localhost:8080/",
          "height": 283
        }
      },
      "source": [
        "candidatos2.head()"
      ],
      "execution_count": 110,
      "outputs": [
        {
          "output_type": "execute_result",
          "data": {
            "text/html": [
              "<div>\n",
              "<style scoped>\n",
              "    .dataframe tbody tr th:only-of-type {\n",
              "        vertical-align: middle;\n",
              "    }\n",
              "\n",
              "    .dataframe tbody tr th {\n",
              "        vertical-align: top;\n",
              "    }\n",
              "\n",
              "    .dataframe thead th {\n",
              "        text-align: right;\n",
              "    }\n",
              "</style>\n",
              "<table border=\"1\" class=\"dataframe\">\n",
              "  <thead>\n",
              "    <tr style=\"text-align: right;\">\n",
              "      <th></th>\n",
              "      <th>Unnamed: 0</th>\n",
              "      <th>NR_IDADE_DATA_POSSE</th>\n",
              "      <th>DS_GENERO</th>\n",
              "      <th>DS_GRAU_INSTRUCAO</th>\n",
              "      <th>DS_ESTADO_CIVIL</th>\n",
              "      <th>DS_COR_RACA</th>\n",
              "      <th>DS_OCUPACAO</th>\n",
              "      <th>VALOR_BENS</th>\n",
              "      <th>SE_ELEGEU</th>\n",
              "      <th>IDADE_CAT</th>\n",
              "      <th>BENS_CAT</th>\n",
              "    </tr>\n",
              "  </thead>\n",
              "  <tbody>\n",
              "    <tr>\n",
              "      <th>0</th>\n",
              "      <td>0</td>\n",
              "      <td>35.0</td>\n",
              "      <td>FEMININO</td>\n",
              "      <td>ENS_MED_C</td>\n",
              "      <td>SOLTEIRO(A)</td>\n",
              "      <td>BRANCA</td>\n",
              "      <td>PROFISSAO_SIMPLES</td>\n",
              "      <td>0.00</td>\n",
              "      <td>0</td>\n",
              "      <td>ADULTO-JOVEM</td>\n",
              "      <td>POBRE</td>\n",
              "    </tr>\n",
              "    <tr>\n",
              "      <th>1</th>\n",
              "      <td>1</td>\n",
              "      <td>41.0</td>\n",
              "      <td>MASCULINO</td>\n",
              "      <td>ENS_MED_C</td>\n",
              "      <td>SOLTEIRO(A)</td>\n",
              "      <td>BRANCA</td>\n",
              "      <td>ADMINISTRADOR</td>\n",
              "      <td>0.00</td>\n",
              "      <td>0</td>\n",
              "      <td>ADULTO</td>\n",
              "      <td>POBRE</td>\n",
              "    </tr>\n",
              "    <tr>\n",
              "      <th>2</th>\n",
              "      <td>2</td>\n",
              "      <td>46.0</td>\n",
              "      <td>MASCULINO</td>\n",
              "      <td>SUP_C</td>\n",
              "      <td>CASADO(A)</td>\n",
              "      <td>BRANCA</td>\n",
              "      <td>SERVIDOR PÚBLICO ESTADUAL</td>\n",
              "      <td>0.00</td>\n",
              "      <td>0</td>\n",
              "      <td>ADULTO</td>\n",
              "      <td>POBRE</td>\n",
              "    </tr>\n",
              "    <tr>\n",
              "      <th>3</th>\n",
              "      <td>3</td>\n",
              "      <td>62.0</td>\n",
              "      <td>MASCULINO</td>\n",
              "      <td>SUP_C</td>\n",
              "      <td>CASADO(A)</td>\n",
              "      <td>BRANCA</td>\n",
              "      <td>MÉDICO</td>\n",
              "      <td>507722.18</td>\n",
              "      <td>0</td>\n",
              "      <td>ADULTO-IDOSO</td>\n",
              "      <td>POBRE</td>\n",
              "    </tr>\n",
              "    <tr>\n",
              "      <th>4</th>\n",
              "      <td>4</td>\n",
              "      <td>45.0</td>\n",
              "      <td>MASCULINO</td>\n",
              "      <td>ENS_MED_C</td>\n",
              "      <td>CASADO(A)</td>\n",
              "      <td>PRETA</td>\n",
              "      <td>PROFISSAO_SIMPLES</td>\n",
              "      <td>0.00</td>\n",
              "      <td>0</td>\n",
              "      <td>ADULTO</td>\n",
              "      <td>POBRE</td>\n",
              "    </tr>\n",
              "  </tbody>\n",
              "</table>\n",
              "</div>"
            ],
            "text/plain": [
              "   Unnamed: 0  NR_IDADE_DATA_POSSE  DS_GENERO  ... SE_ELEGEU     IDADE_CAT BENS_CAT\n",
              "0           0                 35.0   FEMININO  ...         0  ADULTO-JOVEM    POBRE\n",
              "1           1                 41.0  MASCULINO  ...         0        ADULTO    POBRE\n",
              "2           2                 46.0  MASCULINO  ...         0        ADULTO    POBRE\n",
              "3           3                 62.0  MASCULINO  ...         0  ADULTO-IDOSO    POBRE\n",
              "4           4                 45.0  MASCULINO  ...         0        ADULTO    POBRE\n",
              "\n",
              "[5 rows x 11 columns]"
            ]
          },
          "metadata": {
            "tags": []
          },
          "execution_count": 110
        }
      ]
    },
    {
      "cell_type": "markdown",
      "metadata": {
        "id": "E4FpUl4E0W-Q",
        "colab_type": "text"
      },
      "source": [
        "Neste momento todas as colunas foram ajustadas. O passo seguinte é converter as colunas categóricas para numéricas para se poder fazer a análise de correlação entre as features e a coluna algo."
      ]
    },
    {
      "cell_type": "code",
      "metadata": {
        "id": "TRebXdpd2ETI",
        "colab_type": "code",
        "colab": {}
      },
      "source": [
        "# Cria uma copia do dataframe.\n",
        "temp = candidatos2.copy()\n",
        "\n",
        "# Codifica todas colunas categoricas para numeros.\n",
        "label_enc = LabelEncoder()\n",
        "colunas_categoricas = candidatos2.select_dtypes(exclude=['int', 'float']).columns\n",
        "for coluna in colunas_categoricas:\n",
        "  temp[coluna] = label_enc.fit_transform(temp[coluna].to_list())"
      ],
      "execution_count": 0,
      "outputs": []
    },
    {
      "cell_type": "markdown",
      "metadata": {
        "id": "6oAWdSfD3Ymj",
        "colab_type": "text"
      },
      "source": [
        "Finalmente, plota-se a tabela de correlação entre as colunas."
      ]
    },
    {
      "cell_type": "code",
      "metadata": {
        "id": "ayMUoEG53T8h",
        "colab_type": "code",
        "outputId": "b1327ebc-2b04-44cd-d7ef-a2bfd0a8963e",
        "colab": {
          "base_uri": "https://localhost:8080/",
          "height": 571
        }
      },
      "source": [
        "plt.figure(figsize = (8, 8))\n",
        "sns.heatmap(temp.corr(), cmap=(\"RdBu_r\"), annot=True, fmt='.2f')\n",
        "plt.xticks(rotation=45) \n",
        "plt.yticks(rotation=0) \n",
        "plt.show()"
      ],
      "execution_count": 112,
      "outputs": [
        {
          "output_type": "display_data",
          "data": {
            "image/png": "[encoded data removed]",
            "text/plain": [
              "<Figure size 576x576 with 2 Axes>"
            ]
          },
          "metadata": {
            "tags": []
          }
        }
      ]
    },
    {
      "cell_type": "code",
      "metadata": {
        "id": "-npfUijY59gf",
        "colab_type": "code",
        "colab": {}
      },
      "source": [
        ""
      ],
      "execution_count": 0,
      "outputs": []
    },
    {
      "cell_type": "markdown",
      "metadata": {
        "id": "9FKC5L0z36Nr",
        "colab_type": "text"
      },
      "source": [
        "Como se vê no mapa de calor mostrado na imagem acima, as features com maior correlação (positiva ou negativa) com a coluna alvo \"SE_ELEGEU\" são as \"BENS_CAT\", \"DS_COR_RACA\" e \"DS_GENERO\".\n",
        "\n",
        "Após esta análise preliminar, a etapa seguinte será a de criação do modelo de aprendizagem de máquina para este problema."
      ]
    },
    {
      "cell_type": "markdown",
      "metadata": {
        "id": "yybPWzJb6bwN",
        "colab_type": "text"
      },
      "source": [
        "**4. Modelo de Aprendizagem de Máquina**\n",
        "\n",
        "Nesta seção, será criado um modelo de aprendizado de máquina capaz de prever se um candidato será eleito ou não baseado em suas características.\n",
        "\n",
        "A primeira abordagem será treinar uma random forest para avaliar a feature importance do conjunto de dados. Antes disso, será necessário converter todas as features categóricas para numéricas, mas desta vez utilizando hot enconding. Além disso, será feita uma normalização das colunas de idade e valor de bens, que estão em ordens de grandeza muito diferentes.\n",
        "\n",
        "Um ponto importante é que a função de scoring utilizada será a de recall em vez de accurary, pois existe um foco em confirmar os candidados marcados como eleitos e que realmente se elegeram.\n",
        "\n",
        "\n"
      ]
    },
    {
      "cell_type": "code",
      "metadata": {
        "id": "ydHnPpwOU9-a",
        "colab_type": "code",
        "outputId": "29533413-6f8f-46ba-e862-60a41145b585",
        "colab": {
          "base_uri": "https://localhost:8080/",
          "height": 753
        }
      },
      "source": [
        "# Gera a lista de colunas categóricas.\n",
        "colunas_categoricas = candidatos2.select_dtypes(exclude=['int', 'float']).columns\n",
        "\n",
        "# Cria-se as novas colunas usando hot encoding.\n",
        "candidatos_final = pd.get_dummies(candidatos2, drop_first=True, columns=colunas_categoricas)\n",
        "\n",
        "# Normaliza as colunas dos valores de bens e idade.\n",
        "mms = MinMaxScaler()\n",
        "\n",
        "candidatos_final[[\"NR_IDADE_DATA_POSSE\", \"VALOR_BENS\"]] = mms.fit_transform(candidatos_final[[\"NR_IDADE_DATA_POSSE\", \"VALOR_BENS\"]])\n",
        "\n",
        "# Exibe o formato final da base de dados.\n",
        "candidatos_final.info()\n"
      ],
      "execution_count": 113,
      "outputs": [
        {
          "output_type": "stream",
          "text": [
            "<class 'pandas.core.frame.DataFrame'>\n",
            "RangeIndex: 29145 entries, 0 to 29144\n",
            "Data columns (total 39 columns):\n",
            "Unnamed: 0                                   29145 non-null int64\n",
            "NR_IDADE_DATA_POSSE                          29145 non-null float64\n",
            "VALOR_BENS                                   29145 non-null float64\n",
            "SE_ELEGEU                                    29145 non-null int64\n",
            "DS_GENERO_MASCULINO                          29145 non-null uint8\n",
            "DS_GRAU_INSTRUCAO_ENS_MED_C                  29145 non-null uint8\n",
            "DS_GRAU_INSTRUCAO_SUP_C                      29145 non-null uint8\n",
            "DS_GRAU_INSTRUCAO_SUP_I                      29145 non-null uint8\n",
            "DS_ESTADO_CIVIL_DIVORCIADO(A)                29145 non-null uint8\n",
            "DS_ESTADO_CIVIL_SEPARADO(A) JUDICIALMENTE    29145 non-null uint8\n",
            "DS_ESTADO_CIVIL_SOLTEIRO(A)                  29145 non-null uint8\n",
            "DS_ESTADO_CIVIL_VIÚVO(A)                     29145 non-null uint8\n",
            "DS_COR_RACA_OUTRA                            29145 non-null uint8\n",
            "DS_COR_RACA_PARDA                            29145 non-null uint8\n",
            "DS_COR_RACA_PRETA                            29145 non-null uint8\n",
            "DS_OCUPACAO_ADVOGADO                         29145 non-null uint8\n",
            "DS_OCUPACAO_AGRICULTOR                       29145 non-null uint8\n",
            "DS_OCUPACAO_DEPUTADO                         29145 non-null uint8\n",
            "DS_OCUPACAO_EMPRESÁRIO                       29145 non-null uint8\n",
            "DS_OCUPACAO_ENGENHEIRO                       29145 non-null uint8\n",
            "DS_OCUPACAO_JORNALISTA E REDATOR             29145 non-null uint8\n",
            "DS_OCUPACAO_MÉDICO                           29145 non-null uint8\n",
            "DS_OCUPACAO_OUTROS                           29145 non-null uint8\n",
            "DS_OCUPACAO_POLICIAL CIVIL                   29145 non-null uint8\n",
            "DS_OCUPACAO_POLICIAL MILITAR                 29145 non-null uint8\n",
            "DS_OCUPACAO_PROFESSOR DE ENSINO SUPERIOR     29145 non-null uint8\n",
            "DS_OCUPACAO_PROFISSAO_SIMPLES                29145 non-null uint8\n",
            "DS_OCUPACAO_SENADOR                          29145 non-null uint8\n",
            "DS_OCUPACAO_SERVIDOR PÚBLICO ESTADUAL        29145 non-null uint8\n",
            "DS_OCUPACAO_SERVIDOR PÚBLICO FEDERAL         29145 non-null uint8\n",
            "DS_OCUPACAO_VEREADOR                         29145 non-null uint8\n",
            "IDADE_CAT_ADULTO-JOVEM                       29145 non-null uint8\n",
            "IDADE_CAT_ADULTO                             29145 non-null uint8\n",
            "IDADE_CAT_ADULTO-IDOSO                       29145 non-null uint8\n",
            "IDADE_CAT_IDOSO                              29145 non-null uint8\n",
            "BENS_CAT_MEDIO                               29145 non-null uint8\n",
            "BENS_CAT_RICO                                29145 non-null uint8\n",
            "BENS_CAT_MUITO-RICO                          29145 non-null uint8\n",
            "BENS_CAT_EXTREMAMENTE-RICO                   29145 non-null uint8\n",
            "dtypes: float64(2), int64(2), uint8(35)\n",
            "memory usage: 1.9 MB\n"
          ],
          "name": "stdout"
        }
      ]
    },
    {
      "cell_type": "code",
      "metadata": {
        "id": "4kYhMQa6WORl",
        "colab_type": "code",
        "outputId": "b8af2400-ac31-49d8-814a-6d319fad9ee9",
        "colab": {
          "base_uri": "https://localhost:8080/",
          "height": 702
        }
      },
      "source": [
        "# Prepara o modelo de Random Forest para calcular a feature importance.\n",
        "seed = 42\n",
        "num_folds = 10\n",
        "scoring = {'Accuracy': make_scorer(recall_score)}\n",
        "\n",
        "kfold = StratifiedKFold(n_splits=num_folds,random_state=seed)\n",
        "rfc = RandomForestClassifier(oob_score = True, bootstrap = True)\n",
        "\n",
        "# Cria os conjuntos de teste e treinamento.\n",
        "X_train, X_test, y_train, y_test = train_test_split(candidatos_final.drop(labels=\"SE_ELEGEU\", axis=1),\n",
        "                                                    candidatos_final[\"SE_ELEGEU\"],\n",
        "                                                    test_size=0.20,\n",
        "                                                    random_state=seed,\n",
        "                                                    shuffle=True,\n",
        "                                                    stratify=candidatos_final[\"SE_ELEGEU\"])\n",
        "\n",
        "\n",
        "\n",
        "search_space = {\n",
        "    'n_estimators': [100],\n",
        "    'min_samples_split': [2, 4],\n",
        "    'min_samples_leaf': [2, 4],\n",
        "}\n",
        "\n",
        "grid = GridSearchCV(estimator=rfc, \n",
        "                    param_grid=search_space,\n",
        "                    cv=kfold,\n",
        "                    scoring=scoring,\n",
        "                    return_train_score=True,\n",
        "                    n_jobs=-1,\n",
        "                    refit=\"Accuracy\")\n",
        "\n",
        "# Verifica se o arquivo do treinamento já existe.\n",
        "try:\n",
        "  best_model = load('rf-features.joblib') \n",
        "except:\n",
        "  # Realiza o treinamento da RandomForest.\n",
        "  best_model = grid.fit(X_train, y_train)\n",
        "  # Salva o resultado do treinamento.\n",
        "  dump(best_model, 'rf-features.joblib') \n",
        "\n",
        "estimator = best_model.best_estimator_\n",
        "print(estimator)\n",
        "\n",
        "# Exibe o resultado.\n",
        "predict = estimator.predict(X_test)\n",
        "print(accuracy_score(y_test, predict))\n",
        "print(confusion_matrix(y_test, predict))\n",
        "print(classification_report(y_test, predict))\n",
        "\n",
        "# # Utilizando a biblioteca ELI5, exibe a feature importance da RandomForest.\n",
        "eli5.show_weights(estimator, show_feature_values=True, feature_names=X_train.columns.to_list())"
      ],
      "execution_count": 114,
      "outputs": [
        {
          "output_type": "stream",
          "text": [
            "RandomForestClassifier(bootstrap=True, class_weight=None, criterion='gini',\n",
            "                       max_depth=None, max_features='auto', max_leaf_nodes=None,\n",
            "                       min_impurity_decrease=0.0, min_impurity_split=None,\n",
            "                       min_samples_leaf=4, min_samples_split=2,\n",
            "                       min_weight_fraction_leaf=0.0, n_estimators=100,\n",
            "                       n_jobs=None, oob_score=True, random_state=None,\n",
            "                       verbose=0, warm_start=False)\n",
            "0.9454451878538342\n",
            "[[5415   58]\n",
            " [ 260   96]]\n",
            "              precision    recall  f1-score   support\n",
            "\n",
            "           0       0.95      0.99      0.97      5473\n",
            "           1       0.62      0.27      0.38       356\n",
            "\n",
            "    accuracy                           0.95      5829\n",
            "   macro avg       0.79      0.63      0.67      5829\n",
            "weighted avg       0.93      0.95      0.94      5829\n",
            "\n"
          ],
          "name": "stdout"
        },
        {
          "output_type": "execute_result",
          "data": {
            "text/html": [
              "\n",
              "    <style>\n",
              "    table.eli5-weights tr:hover {\n",
              "        filter: brightness(85%);\n",
              "    }\n",
              "</style>\n",
              "\n",
              "\n",
              "\n",
              "    \n",
              "\n",
              "    \n",
              "\n",
              "    \n",
              "\n",
              "    \n",
              "\n",
              "    \n",
              "\n",
              "    \n",
              "\n",
              "\n",
              "    \n",
              "\n",
              "    \n",
              "\n",
              "    \n",
              "\n",
              "    \n",
              "\n",
              "    \n",
              "\n",
              "    \n",
              "\n",
              "\n",
              "    \n",
              "\n",
              "    \n",
              "\n",
              "    \n",
              "\n",
              "    \n",
              "\n",
              "    \n",
              "        <table class=\"eli5-weights eli5-feature-importances\" style=\"border-collapse: collapse; border: none; margin-top: 0em; table-layout: auto;\">\n",
              "    <thead>\n",
              "    <tr style=\"border: none;\">\n",
              "        <th style=\"padding: 0 1em 0 0.5em; text-align: right; border: none;\">Weight</th>\n",
              "        <th style=\"padding: 0 0.5em 0 0.5em; text-align: left; border: none;\">Feature</th>\n",
              "    </tr>\n",
              "    </thead>\n",
              "    <tbody>\n",
              "    \n",
              "        <tr style=\"background-color: hsl(120, 100.00%, 80.00%); border: none;\">\n",
              "            <td style=\"padding: 0 1em 0 0.5em; text-align: right; border: none;\">\n",
              "                0.3450\n",
              "                \n",
              "                    &plusmn; 0.1834\n",
              "                \n",
              "            </td>\n",
              "            <td style=\"padding: 0 0.5em 0 0.5em; text-align: left; border: none;\">\n",
              "                DS_OCUPACAO_DEPUTADO\n",
              "            </td>\n",
              "        </tr>\n",
              "    \n",
              "        <tr style=\"background-color: hsl(120, 100.00%, 85.64%); border: none;\">\n",
              "            <td style=\"padding: 0 1em 0 0.5em; text-align: right; border: none;\">\n",
              "                0.2149\n",
              "                \n",
              "                    &plusmn; 0.1521\n",
              "                \n",
              "            </td>\n",
              "            <td style=\"padding: 0 0.5em 0 0.5em; text-align: left; border: none;\">\n",
              "                VALOR_BENS\n",
              "            </td>\n",
              "        </tr>\n",
              "    \n",
              "        <tr style=\"background-color: hsl(120, 100.00%, 91.04%); border: none;\">\n",
              "            <td style=\"padding: 0 1em 0 0.5em; text-align: right; border: none;\">\n",
              "                0.1096\n",
              "                \n",
              "                    &plusmn; 0.0298\n",
              "                \n",
              "            </td>\n",
              "            <td style=\"padding: 0 0.5em 0 0.5em; text-align: left; border: none;\">\n",
              "                Unnamed: 0\n",
              "            </td>\n",
              "        </tr>\n",
              "    \n",
              "        <tr style=\"background-color: hsl(120, 100.00%, 92.28%); border: none;\">\n",
              "            <td style=\"padding: 0 1em 0 0.5em; text-align: right; border: none;\">\n",
              "                0.0885\n",
              "                \n",
              "                    &plusmn; 0.0268\n",
              "                \n",
              "            </td>\n",
              "            <td style=\"padding: 0 0.5em 0 0.5em; text-align: left; border: none;\">\n",
              "                NR_IDADE_DATA_POSSE\n",
              "            </td>\n",
              "        </tr>\n",
              "    \n",
              "        <tr style=\"background-color: hsl(120, 100.00%, 94.64%); border: none;\">\n",
              "            <td style=\"padding: 0 1em 0 0.5em; text-align: right; border: none;\">\n",
              "                0.0526\n",
              "                \n",
              "                    &plusmn; 0.1058\n",
              "                \n",
              "            </td>\n",
              "            <td style=\"padding: 0 0.5em 0 0.5em; text-align: left; border: none;\">\n",
              "                BENS_CAT_MEDIO\n",
              "            </td>\n",
              "        </tr>\n",
              "    \n",
              "        <tr style=\"background-color: hsl(120, 100.00%, 97.07%); border: none;\">\n",
              "            <td style=\"padding: 0 1em 0 0.5em; text-align: right; border: none;\">\n",
              "                0.0222\n",
              "                \n",
              "                    &plusmn; 0.0305\n",
              "                \n",
              "            </td>\n",
              "            <td style=\"padding: 0 0.5em 0 0.5em; text-align: left; border: none;\">\n",
              "                DS_OCUPACAO_PROFISSAO_SIMPLES\n",
              "            </td>\n",
              "        </tr>\n",
              "    \n",
              "        <tr style=\"background-color: hsl(120, 100.00%, 97.64%); border: none;\">\n",
              "            <td style=\"padding: 0 1em 0 0.5em; text-align: right; border: none;\">\n",
              "                0.0163\n",
              "                \n",
              "                    &plusmn; 0.0245\n",
              "                \n",
              "            </td>\n",
              "            <td style=\"padding: 0 0.5em 0 0.5em; text-align: left; border: none;\">\n",
              "                DS_GRAU_INSTRUCAO_SUP_C\n",
              "            </td>\n",
              "        </tr>\n",
              "    \n",
              "        <tr style=\"background-color: hsl(120, 100.00%, 98.01%); border: none;\">\n",
              "            <td style=\"padding: 0 1em 0 0.5em; text-align: right; border: none;\">\n",
              "                0.0128\n",
              "                \n",
              "                    &plusmn; 0.0084\n",
              "                \n",
              "            </td>\n",
              "            <td style=\"padding: 0 0.5em 0 0.5em; text-align: left; border: none;\">\n",
              "                DS_COR_RACA_PARDA\n",
              "            </td>\n",
              "        </tr>\n",
              "    \n",
              "        <tr style=\"background-color: hsl(120, 100.00%, 98.24%); border: none;\">\n",
              "            <td style=\"padding: 0 1em 0 0.5em; text-align: right; border: none;\">\n",
              "                0.0107\n",
              "                \n",
              "                    &plusmn; 0.0078\n",
              "                \n",
              "            </td>\n",
              "            <td style=\"padding: 0 0.5em 0 0.5em; text-align: left; border: none;\">\n",
              "                DS_GENERO_MASCULINO\n",
              "            </td>\n",
              "        </tr>\n",
              "    \n",
              "        <tr style=\"background-color: hsl(120, 100.00%, 98.24%); border: none;\">\n",
              "            <td style=\"padding: 0 1em 0 0.5em; text-align: right; border: none;\">\n",
              "                0.0107\n",
              "                \n",
              "                    &plusmn; 0.0140\n",
              "                \n",
              "            </td>\n",
              "            <td style=\"padding: 0 0.5em 0 0.5em; text-align: left; border: none;\">\n",
              "                DS_OCUPACAO_EMPRESÁRIO\n",
              "            </td>\n",
              "        </tr>\n",
              "    \n",
              "        <tr style=\"background-color: hsl(120, 100.00%, 98.40%); border: none;\">\n",
              "            <td style=\"padding: 0 1em 0 0.5em; text-align: right; border: none;\">\n",
              "                0.0094\n",
              "                \n",
              "                    &plusmn; 0.0070\n",
              "                \n",
              "            </td>\n",
              "            <td style=\"padding: 0 0.5em 0 0.5em; text-align: left; border: none;\">\n",
              "                DS_ESTADO_CIVIL_SOLTEIRO(A)\n",
              "            </td>\n",
              "        </tr>\n",
              "    \n",
              "        <tr style=\"background-color: hsl(120, 100.00%, 98.47%); border: none;\">\n",
              "            <td style=\"padding: 0 1em 0 0.5em; text-align: right; border: none;\">\n",
              "                0.0088\n",
              "                \n",
              "                    &plusmn; 0.0102\n",
              "                \n",
              "            </td>\n",
              "            <td style=\"padding: 0 0.5em 0 0.5em; text-align: left; border: none;\">\n",
              "                IDADE_CAT_ADULTO\n",
              "            </td>\n",
              "        </tr>\n",
              "    \n",
              "        <tr style=\"background-color: hsl(120, 100.00%, 98.49%); border: none;\">\n",
              "            <td style=\"padding: 0 1em 0 0.5em; text-align: right; border: none;\">\n",
              "                0.0086\n",
              "                \n",
              "                    &plusmn; 0.0142\n",
              "                \n",
              "            </td>\n",
              "            <td style=\"padding: 0 0.5em 0 0.5em; text-align: left; border: none;\">\n",
              "                DS_OCUPACAO_OUTROS\n",
              "            </td>\n",
              "        </tr>\n",
              "    \n",
              "        <tr style=\"background-color: hsl(120, 100.00%, 98.55%); border: none;\">\n",
              "            <td style=\"padding: 0 1em 0 0.5em; text-align: right; border: none;\">\n",
              "                0.0081\n",
              "                \n",
              "                    &plusmn; 0.0099\n",
              "                \n",
              "            </td>\n",
              "            <td style=\"padding: 0 0.5em 0 0.5em; text-align: left; border: none;\">\n",
              "                DS_OCUPACAO_ADVOGADO\n",
              "            </td>\n",
              "        </tr>\n",
              "    \n",
              "        <tr style=\"background-color: hsl(120, 100.00%, 98.57%); border: none;\">\n",
              "            <td style=\"padding: 0 1em 0 0.5em; text-align: right; border: none;\">\n",
              "                0.0080\n",
              "                \n",
              "                    &plusmn; 0.0087\n",
              "                \n",
              "            </td>\n",
              "            <td style=\"padding: 0 0.5em 0 0.5em; text-align: left; border: none;\">\n",
              "                DS_ESTADO_CIVIL_DIVORCIADO(A)\n",
              "            </td>\n",
              "        </tr>\n",
              "    \n",
              "        <tr style=\"background-color: hsl(120, 100.00%, 98.58%); border: none;\">\n",
              "            <td style=\"padding: 0 1em 0 0.5em; text-align: right; border: none;\">\n",
              "                0.0079\n",
              "                \n",
              "                    &plusmn; 0.0100\n",
              "                \n",
              "            </td>\n",
              "            <td style=\"padding: 0 0.5em 0 0.5em; text-align: left; border: none;\">\n",
              "                DS_GRAU_INSTRUCAO_ENS_MED_C\n",
              "            </td>\n",
              "        </tr>\n",
              "    \n",
              "        <tr style=\"background-color: hsl(120, 100.00%, 98.60%); border: none;\">\n",
              "            <td style=\"padding: 0 1em 0 0.5em; text-align: right; border: none;\">\n",
              "                0.0078\n",
              "                \n",
              "                    &plusmn; 0.0077\n",
              "                \n",
              "            </td>\n",
              "            <td style=\"padding: 0 0.5em 0 0.5em; text-align: left; border: none;\">\n",
              "                IDADE_CAT_ADULTO-IDOSO\n",
              "            </td>\n",
              "        </tr>\n",
              "    \n",
              "        <tr style=\"background-color: hsl(120, 100.00%, 98.64%); border: none;\">\n",
              "            <td style=\"padding: 0 1em 0 0.5em; text-align: right; border: none;\">\n",
              "                0.0074\n",
              "                \n",
              "                    &plusmn; 0.0087\n",
              "                \n",
              "            </td>\n",
              "            <td style=\"padding: 0 0.5em 0 0.5em; text-align: left; border: none;\">\n",
              "                IDADE_CAT_ADULTO-JOVEM\n",
              "            </td>\n",
              "        </tr>\n",
              "    \n",
              "        <tr style=\"background-color: hsl(120, 100.00%, 98.78%); border: none;\">\n",
              "            <td style=\"padding: 0 1em 0 0.5em; text-align: right; border: none;\">\n",
              "                0.0064\n",
              "                \n",
              "                    &plusmn; 0.0065\n",
              "                \n",
              "            </td>\n",
              "            <td style=\"padding: 0 0.5em 0 0.5em; text-align: left; border: none;\">\n",
              "                DS_OCUPACAO_VEREADOR\n",
              "            </td>\n",
              "        </tr>\n",
              "    \n",
              "        <tr style=\"background-color: hsl(120, 100.00%, 98.85%); border: none;\">\n",
              "            <td style=\"padding: 0 1em 0 0.5em; text-align: right; border: none;\">\n",
              "                0.0058\n",
              "                \n",
              "                    &plusmn; 0.0068\n",
              "                \n",
              "            </td>\n",
              "            <td style=\"padding: 0 0.5em 0 0.5em; text-align: left; border: none;\">\n",
              "                IDADE_CAT_IDOSO\n",
              "            </td>\n",
              "        </tr>\n",
              "    \n",
              "    \n",
              "        \n",
              "            <tr style=\"background-color: hsl(120, 100.00%, 98.85%); border: none;\">\n",
              "                <td colspan=\"2\" style=\"padding: 0 0.5em 0 0.5em; text-align: center; border: none; white-space: nowrap;\">\n",
              "                    <i>&hellip; 18 more &hellip;</i>\n",
              "                </td>\n",
              "            </tr>\n",
              "        \n",
              "    \n",
              "    </tbody>\n",
              "</table>\n",
              "    \n",
              "\n",
              "    \n",
              "\n",
              "\n",
              "    \n",
              "\n",
              "    \n",
              "\n",
              "    \n",
              "\n",
              "    \n",
              "\n",
              "    \n",
              "\n",
              "    \n",
              "\n",
              "\n",
              "\n"
            ],
            "text/plain": [
              "<IPython.core.display.HTML object>"
            ]
          },
          "metadata": {
            "tags": []
          },
          "execution_count": 114
        }
      ]
    },
    {
      "cell_type": "markdown",
      "metadata": {
        "id": "UxjcaQBAVdyd",
        "colab_type": "text"
      },
      "source": [
        "O resultado da Ranfom Forest acima já é interessante, com acurácia de 94%. Contudo, o resultado mais interessante e buscado é em relação a feature importance e nesse sentido nota-se que as colunas \"DS_OCUPACAO_DEPUTADO\" (se o candidato ja era um deputado anteriormente), \"VALOR_BENS\" (o quão rico ele é), e \"NR_IDADE_DATA_POSSE\" (idade do candidato) são as mais relevantes.\n",
        "\n",
        "Com esta análise feita, o passo seguinte será a escolha do melhor modelo de aprendizagem de máquina para este problema."
      ]
    },
    {
      "cell_type": "code",
      "metadata": {
        "id": "XwuXED1Nbizm",
        "colab_type": "code",
        "colab": {}
      },
      "source": [
        "pipe = Pipeline(\n",
        "    steps=[\n",
        "           ('fs', SelectKBest()),\n",
        "           ('clf', LogisticRegression())\n",
        "    ]\n",
        ")\n",
        "\n",
        "search_space = [\n",
        "  {\"clf\":[RandomForestClassifier()],\n",
        "    \"clf__n_estimators\": [50, 100],\n",
        "    \"clf__max_leaf_nodes\": [64],\n",
        "    \"clf__min_samples_split\": [2, 4],\n",
        "    \"clf__random_state\": [seed],\n",
        "    \"fs__k\": [3, 6, 9, 'all'],\n",
        "    },\n",
        "  {\"clf\":[LogisticRegression()],\n",
        "    \"clf__solver\": [\"liblinear\"],\n",
        "    \"clf__penalty\": [\"l1\", \"l2\"],\n",
        "    \"clf__C\": [0.1, 1.0, 10.0],\n",
        "    \"fs__k\": [3, 6, 9, 'all'],\n",
        "    },\n",
        "    {\"clf\":[MLPClassifier()],\n",
        "      \"clf__hidden_layer_sizes\": [(2,),(4,)],\n",
        "      \"clf__activation\": [\"logistic\", \"tanh\"],\n",
        "      \"clf__solver\": [\"sgd\"],\n",
        "      \"clf__max_iter\": [500],\n",
        "      \"clf__early_stopping\":[True],\n",
        "      \"clf__n_iter_no_change\":[20],\n",
        "      \"clf__validation_fraction\":[0.20], \n",
        "       \"fs__k\": [3, 6, 9, 'all'],\n",
        "      }\n",
        "         \n",
        "    \n",
        "]\n",
        "\n",
        "grid = GridSearchCV(estimator=pipe, \n",
        "                    param_grid=search_space,\n",
        "                    cv=kfold,\n",
        "                    scoring=scoring,\n",
        "                    return_train_score=True,\n",
        "                    n_jobs=-1,\n",
        "                    refit=\"Accuracy\")\n",
        "\n",
        "# Verifica se o arquivo com o treinamento já existe.\n",
        "try:\n",
        "  melhor_modelo = load('melhor-modelo.joblib') \n",
        "except:\n",
        "  # Realiza o treinamento da RandomForest.\n",
        "  tmp = time.time()\n",
        "  melhor_modelo = grid.fit(X_train, y_train)\n",
        "  print(\"Tempo de treinamento: %s seconds\" % (str(time.time() - tmp))) \n",
        "  # Salva o resultado do treinamento.\n",
        "  dump(melhor_modelo, 'melhor-modelo.joblib') \n",
        "\n",
        "\n"
      ],
      "execution_count": 0,
      "outputs": []
    },
    {
      "cell_type": "code",
      "metadata": {
        "id": "JHFSdgVehucK",
        "colab_type": "code",
        "outputId": "140271e6-5c4d-49d7-8db6-954550c1b390",
        "colab": {
          "base_uri": "https://localhost:8080/",
          "height": 417
        }
      },
      "source": [
        "print(\"Melhor modelo: %f usando %s\" % (melhor_modelo.best_score_, melhor_modelo.best_params_))\n",
        "\n",
        "resultado = pd.DataFrame(melhor_modelo.cv_results_)\n",
        "resultado.head()"
      ],
      "execution_count": 116,
      "outputs": [
        {
          "output_type": "stream",
          "text": [
            "Melhor modelo: 0.380807 usando {'clf': RandomForestClassifier(bootstrap=True, class_weight=None, criterion='gini',\n",
            "                       max_depth=None, max_features='auto', max_leaf_nodes=64,\n",
            "                       min_impurity_decrease=0.0, min_impurity_split=None,\n",
            "                       min_samples_leaf=1, min_samples_split=2,\n",
            "                       min_weight_fraction_leaf=0.0, n_estimators=50,\n",
            "                       n_jobs=None, oob_score=False, random_state=42, verbose=0,\n",
            "                       warm_start=False), 'clf__max_leaf_nodes': 64, 'clf__min_samples_split': 2, 'clf__n_estimators': 50, 'clf__random_state': 42, 'fs__k': 3}\n"
          ],
          "name": "stdout"
        },
        {
          "output_type": "execute_result",
          "data": {
            "text/html": [
              "<div>\n",
              "<style scoped>\n",
              "    .dataframe tbody tr th:only-of-type {\n",
              "        vertical-align: middle;\n",
              "    }\n",
              "\n",
              "    .dataframe tbody tr th {\n",
              "        vertical-align: top;\n",
              "    }\n",
              "\n",
              "    .dataframe thead th {\n",
              "        text-align: right;\n",
              "    }\n",
              "</style>\n",
              "<table border=\"1\" class=\"dataframe\">\n",
              "  <thead>\n",
              "    <tr style=\"text-align: right;\">\n",
              "      <th></th>\n",
              "      <th>mean_fit_time</th>\n",
              "      <th>std_fit_time</th>\n",
              "      <th>mean_score_time</th>\n",
              "      <th>std_score_time</th>\n",
              "      <th>param_clf</th>\n",
              "      <th>param_clf__max_leaf_nodes</th>\n",
              "      <th>param_clf__min_samples_split</th>\n",
              "      <th>param_clf__n_estimators</th>\n",
              "      <th>param_clf__random_state</th>\n",
              "      <th>param_fs__k</th>\n",
              "      <th>param_clf__C</th>\n",
              "      <th>param_clf__penalty</th>\n",
              "      <th>param_clf__solver</th>\n",
              "      <th>param_clf__activation</th>\n",
              "      <th>param_clf__early_stopping</th>\n",
              "      <th>param_clf__hidden_layer_sizes</th>\n",
              "      <th>param_clf__max_iter</th>\n",
              "      <th>param_clf__n_iter_no_change</th>\n",
              "      <th>param_clf__validation_fraction</th>\n",
              "      <th>params</th>\n",
              "      <th>split0_test_Accuracy</th>\n",
              "      <th>split1_test_Accuracy</th>\n",
              "      <th>split2_test_Accuracy</th>\n",
              "      <th>split3_test_Accuracy</th>\n",
              "      <th>split4_test_Accuracy</th>\n",
              "      <th>split5_test_Accuracy</th>\n",
              "      <th>split6_test_Accuracy</th>\n",
              "      <th>split7_test_Accuracy</th>\n",
              "      <th>split8_test_Accuracy</th>\n",
              "      <th>split9_test_Accuracy</th>\n",
              "      <th>mean_test_Accuracy</th>\n",
              "      <th>std_test_Accuracy</th>\n",
              "      <th>rank_test_Accuracy</th>\n",
              "      <th>split0_train_Accuracy</th>\n",
              "      <th>split1_train_Accuracy</th>\n",
              "      <th>split2_train_Accuracy</th>\n",
              "      <th>split3_train_Accuracy</th>\n",
              "      <th>split4_train_Accuracy</th>\n",
              "      <th>split5_train_Accuracy</th>\n",
              "      <th>split6_train_Accuracy</th>\n",
              "      <th>split7_train_Accuracy</th>\n",
              "      <th>split8_train_Accuracy</th>\n",
              "      <th>split9_train_Accuracy</th>\n",
              "      <th>mean_train_Accuracy</th>\n",
              "      <th>std_train_Accuracy</th>\n",
              "    </tr>\n",
              "  </thead>\n",
              "  <tbody>\n",
              "    <tr>\n",
              "      <th>0</th>\n",
              "      <td>0.314603</td>\n",
              "      <td>0.004834</td>\n",
              "      <td>0.020146</td>\n",
              "      <td>0.000549</td>\n",
              "      <td>(DecisionTreeClassifier(class_weight=None, cri...</td>\n",
              "      <td>64</td>\n",
              "      <td>2</td>\n",
              "      <td>50</td>\n",
              "      <td>42</td>\n",
              "      <td>3</td>\n",
              "      <td>NaN</td>\n",
              "      <td>NaN</td>\n",
              "      <td>NaN</td>\n",
              "      <td>NaN</td>\n",
              "      <td>NaN</td>\n",
              "      <td>NaN</td>\n",
              "      <td>NaN</td>\n",
              "      <td>NaN</td>\n",
              "      <td>NaN</td>\n",
              "      <td>{'clf': (DecisionTreeClassifier(class_weight=N...</td>\n",
              "      <td>0.321678</td>\n",
              "      <td>0.377622</td>\n",
              "      <td>0.377622</td>\n",
              "      <td>0.391608</td>\n",
              "      <td>0.426573</td>\n",
              "      <td>0.356643</td>\n",
              "      <td>0.330986</td>\n",
              "      <td>0.457746</td>\n",
              "      <td>0.366197</td>\n",
              "      <td>0.401408</td>\n",
              "      <td>0.380807</td>\n",
              "      <td>0.039179</td>\n",
              "      <td>1</td>\n",
              "      <td>0.387373</td>\n",
              "      <td>0.381138</td>\n",
              "      <td>0.381138</td>\n",
              "      <td>0.379579</td>\n",
              "      <td>0.375682</td>\n",
              "      <td>0.383476</td>\n",
              "      <td>0.386293</td>\n",
              "      <td>0.372274</td>\n",
              "      <td>0.382399</td>\n",
              "      <td>0.378505</td>\n",
              "      <td>0.380786</td>\n",
              "      <td>0.004347</td>\n",
              "    </tr>\n",
              "    <tr>\n",
              "      <th>1</th>\n",
              "      <td>0.413394</td>\n",
              "      <td>0.003882</td>\n",
              "      <td>0.023837</td>\n",
              "      <td>0.000726</td>\n",
              "      <td>(DecisionTreeClassifier(class_weight=None, cri...</td>\n",
              "      <td>64</td>\n",
              "      <td>2</td>\n",
              "      <td>50</td>\n",
              "      <td>42</td>\n",
              "      <td>6</td>\n",
              "      <td>NaN</td>\n",
              "      <td>NaN</td>\n",
              "      <td>NaN</td>\n",
              "      <td>NaN</td>\n",
              "      <td>NaN</td>\n",
              "      <td>NaN</td>\n",
              "      <td>NaN</td>\n",
              "      <td>NaN</td>\n",
              "      <td>NaN</td>\n",
              "      <td>{'clf': (DecisionTreeClassifier(class_weight=N...</td>\n",
              "      <td>0.314685</td>\n",
              "      <td>0.356643</td>\n",
              "      <td>0.370629</td>\n",
              "      <td>0.370629</td>\n",
              "      <td>0.405594</td>\n",
              "      <td>0.349650</td>\n",
              "      <td>0.309859</td>\n",
              "      <td>0.436620</td>\n",
              "      <td>0.330986</td>\n",
              "      <td>0.387324</td>\n",
              "      <td>0.363262</td>\n",
              "      <td>0.037870</td>\n",
              "      <td>5</td>\n",
              "      <td>0.370226</td>\n",
              "      <td>0.365549</td>\n",
              "      <td>0.363991</td>\n",
              "      <td>0.363211</td>\n",
              "      <td>0.360094</td>\n",
              "      <td>0.366329</td>\n",
              "      <td>0.370717</td>\n",
              "      <td>0.356698</td>\n",
              "      <td>0.366044</td>\n",
              "      <td>0.362150</td>\n",
              "      <td>0.364501</td>\n",
              "      <td>0.004074</td>\n",
              "    </tr>\n",
              "    <tr>\n",
              "      <th>2</th>\n",
              "      <td>0.491676</td>\n",
              "      <td>0.005321</td>\n",
              "      <td>0.026318</td>\n",
              "      <td>0.004292</td>\n",
              "      <td>(DecisionTreeClassifier(class_weight=None, cri...</td>\n",
              "      <td>64</td>\n",
              "      <td>2</td>\n",
              "      <td>50</td>\n",
              "      <td>42</td>\n",
              "      <td>9</td>\n",
              "      <td>NaN</td>\n",
              "      <td>NaN</td>\n",
              "      <td>NaN</td>\n",
              "      <td>NaN</td>\n",
              "      <td>NaN</td>\n",
              "      <td>NaN</td>\n",
              "      <td>NaN</td>\n",
              "      <td>NaN</td>\n",
              "      <td>NaN</td>\n",
              "      <td>{'clf': (DecisionTreeClassifier(class_weight=N...</td>\n",
              "      <td>0.314685</td>\n",
              "      <td>0.356643</td>\n",
              "      <td>0.321678</td>\n",
              "      <td>0.342657</td>\n",
              "      <td>0.363636</td>\n",
              "      <td>0.349650</td>\n",
              "      <td>0.316901</td>\n",
              "      <td>0.415493</td>\n",
              "      <td>0.288732</td>\n",
              "      <td>0.338028</td>\n",
              "      <td>0.340811</td>\n",
              "      <td>0.032816</td>\n",
              "      <td>11</td>\n",
              "      <td>0.368667</td>\n",
              "      <td>0.363211</td>\n",
              "      <td>0.322681</td>\n",
              "      <td>0.340608</td>\n",
              "      <td>0.343726</td>\n",
              "      <td>0.363211</td>\n",
              "      <td>0.371495</td>\n",
              "      <td>0.332555</td>\n",
              "      <td>0.346573</td>\n",
              "      <td>0.341121</td>\n",
              "      <td>0.349385</td>\n",
              "      <td>0.015571</td>\n",
              "    </tr>\n",
              "    <tr>\n",
              "      <th>3</th>\n",
              "      <td>0.795371</td>\n",
              "      <td>0.016207</td>\n",
              "      <td>0.026328</td>\n",
              "      <td>0.006267</td>\n",
              "      <td>(DecisionTreeClassifier(class_weight=None, cri...</td>\n",
              "      <td>64</td>\n",
              "      <td>2</td>\n",
              "      <td>50</td>\n",
              "      <td>42</td>\n",
              "      <td>all</td>\n",
              "      <td>NaN</td>\n",
              "      <td>NaN</td>\n",
              "      <td>NaN</td>\n",
              "      <td>NaN</td>\n",
              "      <td>NaN</td>\n",
              "      <td>NaN</td>\n",
              "      <td>NaN</td>\n",
              "      <td>NaN</td>\n",
              "      <td>NaN</td>\n",
              "      <td>{'clf': (DecisionTreeClassifier(class_weight=N...</td>\n",
              "      <td>0.181818</td>\n",
              "      <td>0.230769</td>\n",
              "      <td>0.251748</td>\n",
              "      <td>0.188811</td>\n",
              "      <td>0.202797</td>\n",
              "      <td>0.181818</td>\n",
              "      <td>0.211268</td>\n",
              "      <td>0.260563</td>\n",
              "      <td>0.197183</td>\n",
              "      <td>0.260563</td>\n",
              "      <td>0.216731</td>\n",
              "      <td>0.030148</td>\n",
              "      <td>30</td>\n",
              "      <td>0.254092</td>\n",
              "      <td>0.227592</td>\n",
              "      <td>0.260327</td>\n",
              "      <td>0.240062</td>\n",
              "      <td>0.235386</td>\n",
              "      <td>0.257210</td>\n",
              "      <td>0.268692</td>\n",
              "      <td>0.254673</td>\n",
              "      <td>0.246106</td>\n",
              "      <td>0.269470</td>\n",
              "      <td>0.251361</td>\n",
              "      <td>0.013179</td>\n",
              "    </tr>\n",
              "    <tr>\n",
              "      <th>4</th>\n",
              "      <td>0.593970</td>\n",
              "      <td>0.012492</td>\n",
              "      <td>0.035711</td>\n",
              "      <td>0.003133</td>\n",
              "      <td>(DecisionTreeClassifier(class_weight=None, cri...</td>\n",
              "      <td>64</td>\n",
              "      <td>2</td>\n",
              "      <td>100</td>\n",
              "      <td>42</td>\n",
              "      <td>3</td>\n",
              "      <td>NaN</td>\n",
              "      <td>NaN</td>\n",
              "      <td>NaN</td>\n",
              "      <td>NaN</td>\n",
              "      <td>NaN</td>\n",
              "      <td>NaN</td>\n",
              "      <td>NaN</td>\n",
              "      <td>NaN</td>\n",
              "      <td>NaN</td>\n",
              "      <td>{'clf': (DecisionTreeClassifier(class_weight=N...</td>\n",
              "      <td>0.321678</td>\n",
              "      <td>0.377622</td>\n",
              "      <td>0.377622</td>\n",
              "      <td>0.391608</td>\n",
              "      <td>0.426573</td>\n",
              "      <td>0.356643</td>\n",
              "      <td>0.330986</td>\n",
              "      <td>0.457746</td>\n",
              "      <td>0.366197</td>\n",
              "      <td>0.401408</td>\n",
              "      <td>0.380807</td>\n",
              "      <td>0.039179</td>\n",
              "      <td>1</td>\n",
              "      <td>0.387373</td>\n",
              "      <td>0.381138</td>\n",
              "      <td>0.381138</td>\n",
              "      <td>0.379579</td>\n",
              "      <td>0.375682</td>\n",
              "      <td>0.383476</td>\n",
              "      <td>0.386293</td>\n",
              "      <td>0.372274</td>\n",
              "      <td>0.382399</td>\n",
              "      <td>0.378505</td>\n",
              "      <td>0.380786</td>\n",
              "      <td>0.004347</td>\n",
              "    </tr>\n",
              "  </tbody>\n",
              "</table>\n",
              "</div>"
            ],
            "text/plain": [
              "   mean_fit_time  std_fit_time  ...  mean_train_Accuracy  std_train_Accuracy\n",
              "0       0.314603      0.004834  ...             0.380786            0.004347\n",
              "1       0.413394      0.003882  ...             0.364501            0.004074\n",
              "2       0.491676      0.005321  ...             0.349385            0.015571\n",
              "3       0.795371      0.016207  ...             0.251361            0.013179\n",
              "4       0.593970      0.012492  ...             0.380786            0.004347\n",
              "\n",
              "[5 rows x 45 columns]"
            ]
          },
          "metadata": {
            "tags": []
          },
          "execution_count": 116
        }
      ]
    },
    {
      "cell_type": "markdown",
      "metadata": {
        "id": "_pAbRcDmhppX",
        "colab_type": "text"
      },
      "source": [
        "Após a busca em grade realizada acima, o melhor modelo gerado foi utilizando o RandomForestClassifier, apresentando uma acurácia de aproximadamente 95% no conjunto de treinamento. A seguir, tal modelo será validado com o conjunto de teste."
      ]
    },
    {
      "cell_type": "code",
      "metadata": {
        "id": "q978X595s9CT",
        "colab_type": "code",
        "outputId": "3ec957c0-6a8f-42a7-9d0c-76382685cca4",
        "colab": {
          "base_uri": "https://localhost:8080/",
          "height": 217
        }
      },
      "source": [
        "predicoes = melhor_modelo.best_estimator_.predict(X_test)\n",
        "print(accuracy_score(y_test, predicoes))\n",
        "print(confusion_matrix(y_test, predicoes))\n",
        "print(classification_report(y_test, predicoes))"
      ],
      "execution_count": 117,
      "outputs": [
        {
          "output_type": "stream",
          "text": [
            "0.9456167438668726\n",
            "[[5385   88]\n",
            " [ 229  127]]\n",
            "              precision    recall  f1-score   support\n",
            "\n",
            "           0       0.96      0.98      0.97      5473\n",
            "           1       0.59      0.36      0.44       356\n",
            "\n",
            "    accuracy                           0.95      5829\n",
            "   macro avg       0.77      0.67      0.71      5829\n",
            "weighted avg       0.94      0.95      0.94      5829\n",
            "\n"
          ],
          "name": "stdout"
        }
      ]
    },
    {
      "cell_type": "markdown",
      "metadata": {
        "id": "AwtqvRpY20b0",
        "colab_type": "text"
      },
      "source": [
        "Como se vê cima, o resultado com o conjunto de teste foi de 94% de acerto, o que é muito bom.\n"
      ]
    },
    {
      "cell_type": "markdown",
      "metadata": {
        "id": "TrqQ3EfutCQX",
        "colab_type": "text"
      },
      "source": [
        "**5. Considerações Finais**\n",
        "\n",
        "Este trabalho propôs um modelo de aprendizagem de máquina capaz de prever se um determinado candidato, baseado em suas características pessoais e socio-econômicas seria eleito na última eleção no Brasil, realizada em 2018. Os resultados mostraram uma taxa de acerto bem alta, até pelo formato dos dados (a maioria dos candidatos não se elegeram) e também pela previsibilidade real com base na história brasileira.\n",
        "\n",
        "Sabe-se que tradicionalmente a política no Brasil é controlada majoritariamente por homens, brancos, com formação elavada e principalmente com alto poder econômico. Por fim, sabe-que também que muitos dos políticos perpetuam-se no poder no Brasil, com vários mandados seguidos. Assim, é de se esperar que candidatos cuja ocupação fosse Deputado ou Senador, por exemplo, tivesse grande influência na sua probabiblidade de ser eleito.\n",
        "\n"
      ]
    }
  ]
}