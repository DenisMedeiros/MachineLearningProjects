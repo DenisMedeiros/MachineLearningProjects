{
  "nbformat": 4,
  "nbformat_minor": 0,
  "metadata": {
    "colab": {
      "name": "Titanic-Supreme.ipynb",
      "provenance": [],
      "collapsed_sections": []
    },
    "kernelspec": {
      "name": "python3",
      "display_name": "Python 3"
    }
  },
  "cells": [
    {
      "cell_type": "markdown",
      "metadata": {
        "id": "yJblUmlUW917",
        "colab_type": "text"
      },
      "source": [
        "**Titanic: Machine Learning from Disaster**\n",
        "\n",
        "This playbook presents one Machine Learning model for the Kaggle competition called \"Titanic: Machine Learning from Disaster\". The problem consists in predicting if a passenger of the ship survirved or not based on some information about him, such as sex, age, class, etc.\n",
        "\n",
        "The challenge can be found in: https://www.kaggle.com/c/titanic\n",
        "\n",
        "Most of the code here was inspired in the following class notes: https://github.com/ivanovitchm/EEC1509_Machine_Learning_2019_2/tree/master/Lesson%2310"
      ]
    },
    {
      "cell_type": "code",
      "metadata": {
        "id": "7YF-bNlOa6p8",
        "colab_type": "code",
        "outputId": "91d2c7bd-725f-4c13-eb3e-e3857ccb0509",
        "colab": {
          "base_uri": "https://localhost:8080/",
          "height": 283
        }
      },
      "source": [
        "# Restart Runtime after installing libraries.\n",
        "!pip3 install eli5\n",
        "\n",
        "# Importing all required libraries\n",
        "\n",
        "import eli5 \n",
        "\n",
        "import time\n",
        "import numpy as np\n",
        "import pandas as pd\n",
        "import missingno as msno\n",
        "import seaborn as sns\n",
        "import matplotlib.pyplot as plt\n",
        "from sklearn.preprocessing import LabelEncoder\n",
        "from sklearn.impute import SimpleImputer\n",
        "from sklearn.preprocessing import StandardScaler\n",
        "from sklearn.feature_selection import SelectKBest\n",
        "from sklearn.pipeline import Pipeline\n",
        "from sklearn.metrics import make_scorer\n",
        "from sklearn.metrics import accuracy_score\n",
        "from sklearn.metrics import classification_report\n",
        "from sklearn.metrics import confusion_matrix\n",
        "from sklearn.model_selection import train_test_split\n",
        "from xgboost import XGBClassifier\n",
        "from sklearn.ensemble import RandomForestClassifier\n",
        "from sklearn.model_selection import GridSearchCV\n",
        "from sklearn.model_selection import StratifiedKFold"
      ],
      "execution_count": 1,
      "outputs": [
        {
          "output_type": "stream",
          "text": [
            "Requirement already satisfied: eli5 in /usr/local/lib/python3.6/dist-packages (0.10.1)\n",
            "Requirement already satisfied: tabulate>=0.7.7 in /usr/local/lib/python3.6/dist-packages (from eli5) (0.8.5)\n",
            "Requirement already satisfied: scikit-learn>=0.18 in /usr/local/lib/python3.6/dist-packages (from eli5) (0.21.3)\n",
            "Requirement already satisfied: scipy in /usr/local/lib/python3.6/dist-packages (from eli5) (1.3.1)\n",
            "Requirement already satisfied: six in /usr/local/lib/python3.6/dist-packages (from eli5) (1.12.0)\n",
            "Requirement already satisfied: numpy>=1.9.0 in /usr/local/lib/python3.6/dist-packages (from eli5) (1.17.3)\n",
            "Requirement already satisfied: attrs>16.0.0 in /usr/local/lib/python3.6/dist-packages (from eli5) (19.3.0)\n",
            "Requirement already satisfied: jinja2 in /usr/local/lib/python3.6/dist-packages (from eli5) (2.10.3)\n",
            "Requirement already satisfied: graphviz in /usr/local/lib/python3.6/dist-packages (from eli5) (0.10.1)\n",
            "Requirement already satisfied: joblib>=0.11 in /usr/local/lib/python3.6/dist-packages (from scikit-learn>=0.18->eli5) (0.14.0)\n",
            "Requirement already satisfied: MarkupSafe>=0.23 in /usr/local/lib/python3.6/dist-packages (from jinja2->eli5) (1.1.1)\n"
          ],
          "name": "stdout"
        },
        {
          "output_type": "stream",
          "text": [
            "Using TensorFlow backend.\n"
          ],
          "name": "stderr"
        },
        {
          "output_type": "display_data",
          "data": {
            "text/html": [
              "<p style=\"color: red;\">\n",
              "The default version of TensorFlow in Colab will soon switch to TensorFlow 2.x.<br>\n",
              "We recommend you <a href=\"https://www.tensorflow.org/guide/migrate\" target=\"_blank\">upgrade</a> now \n",
              "or ensure your notebook will continue to use TensorFlow 1.x via the <code>%tensorflow_version 1.x</code> magic:\n",
              "<a href=\"https://colab.research.google.com/notebooks/tensorflow_version.ipynb\" target=\"_blank\">more info</a>.</p>\n"
            ],
            "text/plain": [
              "<IPython.core.display.HTML object>"
            ]
          },
          "metadata": {
            "tags": []
          }
        }
      ]
    },
    {
      "cell_type": "markdown",
      "metadata": {
        "id": "vTeFWGQ9X80E",
        "colab_type": "text"
      },
      "source": [
        "**1. Analyzing and exploring the dataset**\n",
        "\n",
        "Kaggle provides 2 datasets for this challenge: the training (train.csv) and the testing (test.csv) datasets. "
      ]
    },
    {
      "cell_type": "code",
      "metadata": {
        "id": "rgG4z3iLYGK7",
        "colab_type": "code",
        "outputId": "a9429183-690d-4446-a5e6-1e109aa32df2",
        "colab": {
          "base_uri": "https://localhost:8080/",
          "height": 50
        }
      },
      "source": [
        "# Load the datasets.\n",
        "train = pd.read_csv(\"train.csv\")\n",
        "test = pd.read_csv(\"test.csv\")\n",
        "\n",
        "print(\"Train size: {0}\\nTest size: {1}\".format(train.shape,test.shape))"
      ],
      "execution_count": 2,
      "outputs": [
        {
          "output_type": "stream",
          "text": [
            "Train size: (891, 12)\n",
            "Test size: (418, 11)\n"
          ],
          "name": "stdout"
        }
      ]
    },
    {
      "cell_type": "markdown",
      "metadata": {
        "id": "9ldYtPwyYZL4",
        "colab_type": "text"
      },
      "source": [
        "Bellow we can see how they are structured."
      ]
    },
    {
      "cell_type": "code",
      "metadata": {
        "id": "M7kLhqrwYcf1",
        "colab_type": "code",
        "outputId": "b8a8dc0d-6a8f-4b9b-c447-ce941d5b13cf",
        "colab": {
          "base_uri": "https://localhost:8080/",
          "height": 246
        }
      },
      "source": [
        "train.head()"
      ],
      "execution_count": 3,
      "outputs": [
        {
          "output_type": "execute_result",
          "data": {
            "text/html": [
              "<div>\n",
              "<style scoped>\n",
              "    .dataframe tbody tr th:only-of-type {\n",
              "        vertical-align: middle;\n",
              "    }\n",
              "\n",
              "    .dataframe tbody tr th {\n",
              "        vertical-align: top;\n",
              "    }\n",
              "\n",
              "    .dataframe thead th {\n",
              "        text-align: right;\n",
              "    }\n",
              "</style>\n",
              "<table border=\"1\" class=\"dataframe\">\n",
              "  <thead>\n",
              "    <tr style=\"text-align: right;\">\n",
              "      <th></th>\n",
              "      <th>PassengerId</th>\n",
              "      <th>Survived</th>\n",
              "      <th>Pclass</th>\n",
              "      <th>Name</th>\n",
              "      <th>Sex</th>\n",
              "      <th>Age</th>\n",
              "      <th>SibSp</th>\n",
              "      <th>Parch</th>\n",
              "      <th>Ticket</th>\n",
              "      <th>Fare</th>\n",
              "      <th>Cabin</th>\n",
              "      <th>Embarked</th>\n",
              "    </tr>\n",
              "  </thead>\n",
              "  <tbody>\n",
              "    <tr>\n",
              "      <th>0</th>\n",
              "      <td>1</td>\n",
              "      <td>0</td>\n",
              "      <td>3</td>\n",
              "      <td>Braund, Mr. Owen Harris</td>\n",
              "      <td>male</td>\n",
              "      <td>22.0</td>\n",
              "      <td>1</td>\n",
              "      <td>0</td>\n",
              "      <td>A/5 21171</td>\n",
              "      <td>7.2500</td>\n",
              "      <td>NaN</td>\n",
              "      <td>S</td>\n",
              "    </tr>\n",
              "    <tr>\n",
              "      <th>1</th>\n",
              "      <td>2</td>\n",
              "      <td>1</td>\n",
              "      <td>1</td>\n",
              "      <td>Cumings, Mrs. John Bradley (Florence Briggs Th...</td>\n",
              "      <td>female</td>\n",
              "      <td>38.0</td>\n",
              "      <td>1</td>\n",
              "      <td>0</td>\n",
              "      <td>PC 17599</td>\n",
              "      <td>71.2833</td>\n",
              "      <td>C85</td>\n",
              "      <td>C</td>\n",
              "    </tr>\n",
              "    <tr>\n",
              "      <th>2</th>\n",
              "      <td>3</td>\n",
              "      <td>1</td>\n",
              "      <td>3</td>\n",
              "      <td>Heikkinen, Miss. Laina</td>\n",
              "      <td>female</td>\n",
              "      <td>26.0</td>\n",
              "      <td>0</td>\n",
              "      <td>0</td>\n",
              "      <td>STON/O2. 3101282</td>\n",
              "      <td>7.9250</td>\n",
              "      <td>NaN</td>\n",
              "      <td>S</td>\n",
              "    </tr>\n",
              "    <tr>\n",
              "      <th>3</th>\n",
              "      <td>4</td>\n",
              "      <td>1</td>\n",
              "      <td>1</td>\n",
              "      <td>Futrelle, Mrs. Jacques Heath (Lily May Peel)</td>\n",
              "      <td>female</td>\n",
              "      <td>35.0</td>\n",
              "      <td>1</td>\n",
              "      <td>0</td>\n",
              "      <td>113803</td>\n",
              "      <td>53.1000</td>\n",
              "      <td>C123</td>\n",
              "      <td>S</td>\n",
              "    </tr>\n",
              "    <tr>\n",
              "      <th>4</th>\n",
              "      <td>5</td>\n",
              "      <td>0</td>\n",
              "      <td>3</td>\n",
              "      <td>Allen, Mr. William Henry</td>\n",
              "      <td>male</td>\n",
              "      <td>35.0</td>\n",
              "      <td>0</td>\n",
              "      <td>0</td>\n",
              "      <td>373450</td>\n",
              "      <td>8.0500</td>\n",
              "      <td>NaN</td>\n",
              "      <td>S</td>\n",
              "    </tr>\n",
              "  </tbody>\n",
              "</table>\n",
              "</div>"
            ],
            "text/plain": [
              "   PassengerId  Survived  Pclass  ...     Fare Cabin  Embarked\n",
              "0            1         0       3  ...   7.2500   NaN         S\n",
              "1            2         1       1  ...  71.2833   C85         C\n",
              "2            3         1       3  ...   7.9250   NaN         S\n",
              "3            4         1       1  ...  53.1000  C123         S\n",
              "4            5         0       3  ...   8.0500   NaN         S\n",
              "\n",
              "[5 rows x 12 columns]"
            ]
          },
          "metadata": {
            "tags": []
          },
          "execution_count": 3
        }
      ]
    },
    {
      "cell_type": "code",
      "metadata": {
        "id": "oIP6rURFYzCb",
        "colab_type": "code",
        "outputId": "c88e2cdf-22d0-4faa-e602-d740b214e9d0",
        "colab": {
          "base_uri": "https://localhost:8080/",
          "height": 213
        }
      },
      "source": [
        "test.head()"
      ],
      "execution_count": 4,
      "outputs": [
        {
          "output_type": "execute_result",
          "data": {
            "text/html": [
              "<div>\n",
              "<style scoped>\n",
              "    .dataframe tbody tr th:only-of-type {\n",
              "        vertical-align: middle;\n",
              "    }\n",
              "\n",
              "    .dataframe tbody tr th {\n",
              "        vertical-align: top;\n",
              "    }\n",
              "\n",
              "    .dataframe thead th {\n",
              "        text-align: right;\n",
              "    }\n",
              "</style>\n",
              "<table border=\"1\" class=\"dataframe\">\n",
              "  <thead>\n",
              "    <tr style=\"text-align: right;\">\n",
              "      <th></th>\n",
              "      <th>PassengerId</th>\n",
              "      <th>Pclass</th>\n",
              "      <th>Name</th>\n",
              "      <th>Sex</th>\n",
              "      <th>Age</th>\n",
              "      <th>SibSp</th>\n",
              "      <th>Parch</th>\n",
              "      <th>Ticket</th>\n",
              "      <th>Fare</th>\n",
              "      <th>Cabin</th>\n",
              "      <th>Embarked</th>\n",
              "    </tr>\n",
              "  </thead>\n",
              "  <tbody>\n",
              "    <tr>\n",
              "      <th>0</th>\n",
              "      <td>892</td>\n",
              "      <td>3</td>\n",
              "      <td>Kelly, Mr. James</td>\n",
              "      <td>male</td>\n",
              "      <td>34.5</td>\n",
              "      <td>0</td>\n",
              "      <td>0</td>\n",
              "      <td>330911</td>\n",
              "      <td>7.8292</td>\n",
              "      <td>NaN</td>\n",
              "      <td>Q</td>\n",
              "    </tr>\n",
              "    <tr>\n",
              "      <th>1</th>\n",
              "      <td>893</td>\n",
              "      <td>3</td>\n",
              "      <td>Wilkes, Mrs. James (Ellen Needs)</td>\n",
              "      <td>female</td>\n",
              "      <td>47.0</td>\n",
              "      <td>1</td>\n",
              "      <td>0</td>\n",
              "      <td>363272</td>\n",
              "      <td>7.0000</td>\n",
              "      <td>NaN</td>\n",
              "      <td>S</td>\n",
              "    </tr>\n",
              "    <tr>\n",
              "      <th>2</th>\n",
              "      <td>894</td>\n",
              "      <td>2</td>\n",
              "      <td>Myles, Mr. Thomas Francis</td>\n",
              "      <td>male</td>\n",
              "      <td>62.0</td>\n",
              "      <td>0</td>\n",
              "      <td>0</td>\n",
              "      <td>240276</td>\n",
              "      <td>9.6875</td>\n",
              "      <td>NaN</td>\n",
              "      <td>Q</td>\n",
              "    </tr>\n",
              "    <tr>\n",
              "      <th>3</th>\n",
              "      <td>895</td>\n",
              "      <td>3</td>\n",
              "      <td>Wirz, Mr. Albert</td>\n",
              "      <td>male</td>\n",
              "      <td>27.0</td>\n",
              "      <td>0</td>\n",
              "      <td>0</td>\n",
              "      <td>315154</td>\n",
              "      <td>8.6625</td>\n",
              "      <td>NaN</td>\n",
              "      <td>S</td>\n",
              "    </tr>\n",
              "    <tr>\n",
              "      <th>4</th>\n",
              "      <td>896</td>\n",
              "      <td>3</td>\n",
              "      <td>Hirvonen, Mrs. Alexander (Helga E Lindqvist)</td>\n",
              "      <td>female</td>\n",
              "      <td>22.0</td>\n",
              "      <td>1</td>\n",
              "      <td>1</td>\n",
              "      <td>3101298</td>\n",
              "      <td>12.2875</td>\n",
              "      <td>NaN</td>\n",
              "      <td>S</td>\n",
              "    </tr>\n",
              "  </tbody>\n",
              "</table>\n",
              "</div>"
            ],
            "text/plain": [
              "   PassengerId  Pclass  ... Cabin Embarked\n",
              "0          892       3  ...   NaN        Q\n",
              "1          893       3  ...   NaN        S\n",
              "2          894       2  ...   NaN        Q\n",
              "3          895       3  ...   NaN        S\n",
              "4          896       3  ...   NaN        S\n",
              "\n",
              "[5 rows x 11 columns]"
            ]
          },
          "metadata": {
            "tags": []
          },
          "execution_count": 4
        }
      ]
    },
    {
      "cell_type": "code",
      "metadata": {
        "id": "7Tmc9GxHYoBp",
        "colab_type": "code",
        "outputId": "2e4fb2c6-2d39-4205-b211-0ae55cef6d25",
        "colab": {
          "base_uri": "https://localhost:8080/",
          "height": 301
        }
      },
      "source": [
        "train.info()"
      ],
      "execution_count": 5,
      "outputs": [
        {
          "output_type": "stream",
          "text": [
            "<class 'pandas.core.frame.DataFrame'>\n",
            "RangeIndex: 891 entries, 0 to 890\n",
            "Data columns (total 12 columns):\n",
            "PassengerId    891 non-null int64\n",
            "Survived       891 non-null int64\n",
            "Pclass         891 non-null int64\n",
            "Name           891 non-null object\n",
            "Sex            891 non-null object\n",
            "Age            714 non-null float64\n",
            "SibSp          891 non-null int64\n",
            "Parch          891 non-null int64\n",
            "Ticket         891 non-null object\n",
            "Fare           891 non-null float64\n",
            "Cabin          204 non-null object\n",
            "Embarked       889 non-null object\n",
            "dtypes: float64(2), int64(5), object(5)\n",
            "memory usage: 83.7+ KB\n"
          ],
          "name": "stdout"
        }
      ]
    },
    {
      "cell_type": "markdown",
      "metadata": {
        "id": "tZbiotuxZPsI",
        "colab_type": "text"
      },
      "source": [
        "In the training dataset, we can notice that the column \"Survided\" is our target column. Bellow we can see the number of survivors."
      ]
    },
    {
      "cell_type": "code",
      "metadata": {
        "id": "CDB9d-MjaJ68",
        "colab_type": "code",
        "outputId": "a5fcdee9-1aed-4943-cf36-26ca0d0fda93",
        "colab": {
          "base_uri": "https://localhost:8080/",
          "height": 67
        }
      },
      "source": [
        "train.Survived.value_counts()"
      ],
      "execution_count": 6,
      "outputs": [
        {
          "output_type": "execute_result",
          "data": {
            "text/plain": [
              "0    549\n",
              "1    342\n",
              "Name: Survived, dtype: int64"
            ]
          },
          "metadata": {
            "tags": []
          },
          "execution_count": 6
        }
      ]
    },
    {
      "cell_type": "markdown",
      "metadata": {
        "id": "4Yis2y9rZrep",
        "colab_type": "text"
      },
      "source": [
        "Furthermore, there are some numerical and non-numerical columns, with some of them with null values and this needs to be addressed later. This can be seen in the following tables and figures for both datasets.\n",
        "\n",
        "\n",
        "\n"
      ]
    },
    {
      "cell_type": "code",
      "metadata": {
        "id": "pBnjq2deZ_M9",
        "colab_type": "code",
        "outputId": "246daf97-395f-4a45-e74f-f0d782fac4f0",
        "colab": {
          "base_uri": "https://localhost:8080/",
          "height": 234
        }
      },
      "source": [
        "# Calculate the percentage of missing values for each column in the training set.\n",
        "train.isnull().sum()/train.shape[0]"
      ],
      "execution_count": 7,
      "outputs": [
        {
          "output_type": "execute_result",
          "data": {
            "text/plain": [
              "PassengerId    0.000000\n",
              "Survived       0.000000\n",
              "Pclass         0.000000\n",
              "Name           0.000000\n",
              "Sex            0.000000\n",
              "Age            0.198653\n",
              "SibSp          0.000000\n",
              "Parch          0.000000\n",
              "Ticket         0.000000\n",
              "Fare           0.000000\n",
              "Cabin          0.771044\n",
              "Embarked       0.002245\n",
              "dtype: float64"
            ]
          },
          "metadata": {
            "tags": []
          },
          "execution_count": 7
        }
      ]
    },
    {
      "cell_type": "code",
      "metadata": {
        "id": "qzLnK34Lastt",
        "colab_type": "code",
        "outputId": "6287f77d-ac90-4f98-c8bc-4b5eff3a5012",
        "colab": {
          "base_uri": "https://localhost:8080/",
          "height": 689
        }
      },
      "source": [
        "msno.matrix(train, figsize=(10,10))"
      ],
      "execution_count": 8,
      "outputs": [
        {
          "output_type": "execute_result",
          "data": {
            "text/plain": [
              "<matplotlib.axes._subplots.AxesSubplot at 0x7ffa6abe7e80>"
            ]
          },
          "metadata": {
            "tags": []
          },
          "execution_count": 8
        },
        {
          "output_type": "display_data",
          "data": {
            "image/png": "[encoded data removed]",
            "text/plain": [
              "<Figure size 720x720 with 2 Axes>"
            ]
          },
          "metadata": {
            "tags": []
          }
        }
      ]
    },
    {
      "cell_type": "code",
      "metadata": {
        "id": "tPe_wDfmtjuO",
        "colab_type": "code",
        "outputId": "0151513a-669c-47d1-83dd-d72e3e7e9bc7",
        "colab": {
          "base_uri": "https://localhost:8080/",
          "height": 217
        }
      },
      "source": [
        "test.isnull().sum()/train.shape[0]"
      ],
      "execution_count": 9,
      "outputs": [
        {
          "output_type": "execute_result",
          "data": {
            "text/plain": [
              "PassengerId    0.000000\n",
              "Pclass         0.000000\n",
              "Name           0.000000\n",
              "Sex            0.000000\n",
              "Age            0.096521\n",
              "SibSp          0.000000\n",
              "Parch          0.000000\n",
              "Ticket         0.000000\n",
              "Fare           0.001122\n",
              "Cabin          0.367003\n",
              "Embarked       0.000000\n",
              "dtype: float64"
            ]
          },
          "metadata": {
            "tags": []
          },
          "execution_count": 9
        }
      ]
    },
    {
      "cell_type": "code",
      "metadata": {
        "id": "S8bpPfCmtm-S",
        "colab_type": "code",
        "outputId": "a0f384cd-6918-4c8a-8c75-224643f4c571",
        "colab": {
          "base_uri": "https://localhost:8080/",
          "height": 689
        }
      },
      "source": [
        "msno.matrix(test, figsize=(10,10))"
      ],
      "execution_count": 10,
      "outputs": [
        {
          "output_type": "execute_result",
          "data": {
            "text/plain": [
              "<matplotlib.axes._subplots.AxesSubplot at 0x7ffa67e885c0>"
            ]
          },
          "metadata": {
            "tags": []
          },
          "execution_count": 10
        },
        {
          "output_type": "display_data",
          "data": {
            "image/png": "[encoded data removed]",
            "text/plain": [
              "<Figure size 720x720 with 2 Axes>"
            ]
          },
          "metadata": {
            "tags": []
          }
        }
      ]
    },
    {
      "cell_type": "markdown",
      "metadata": {
        "id": "dVmrkum4ZhEp",
        "colab_type": "text"
      },
      "source": [
        "As we can see above, in the training dataset there are 3 columns with missing values: \"Age\", \"Cabin\", and \"Embarked\". The same happen with the testing dataset for the columns \"Age\", \"Fare\", and \"Cabin\".\n",
        "\n",
        "Now let's see how the data is distributed for some features."
      ]
    },
    {
      "cell_type": "code",
      "metadata": {
        "id": "Z-BP4KQ4ZxHv",
        "colab_type": "code",
        "outputId": "8d2c771c-ec45-4dbb-d6bc-bf29ee3b5b6b",
        "colab": {
          "base_uri": "https://localhost:8080/",
          "height": 415
        }
      },
      "source": [
        "# Showing the distribution of age.\n",
        "train.Age.hist(bins=20)\n",
        "train.Age.describe()"
      ],
      "execution_count": 11,
      "outputs": [
        {
          "output_type": "execute_result",
          "data": {
            "text/plain": [
              "count    714.000000\n",
              "mean      29.699118\n",
              "std       14.526497\n",
              "min        0.420000\n",
              "25%       20.125000\n",
              "50%       28.000000\n",
              "75%       38.000000\n",
              "max       80.000000\n",
              "Name: Age, dtype: float64"
            ]
          },
          "metadata": {
            "tags": []
          },
          "execution_count": 11
        },
        {
          "output_type": "display_data",
          "data": {
            "image/png": "[encoded data removed]",
            "text/plain": [
              "<Figure size 432x288 with 1 Axes>"
            ]
          },
          "metadata": {
            "tags": []
          }
        }
      ]
    },
    {
      "cell_type": "code",
      "metadata": {
        "id": "k0BjmwnnbmPX",
        "colab_type": "code",
        "outputId": "f537f824-f6d5-4c8e-9c20-e6bb79c92e6a",
        "colab": {
          "base_uri": "https://localhost:8080/",
          "height": 415
        }
      },
      "source": [
        "# Showing the distribution of fare.\n",
        "train.Fare.hist(bins=20)\n",
        "train.Fare.describe()"
      ],
      "execution_count": 12,
      "outputs": [
        {
          "output_type": "execute_result",
          "data": {
            "text/plain": [
              "count    891.000000\n",
              "mean      32.204208\n",
              "std       49.693429\n",
              "min        0.000000\n",
              "25%        7.910400\n",
              "50%       14.454200\n",
              "75%       31.000000\n",
              "max      512.329200\n",
              "Name: Fare, dtype: float64"
            ]
          },
          "metadata": {
            "tags": []
          },
          "execution_count": 12
        },
        {
          "output_type": "display_data",
          "data": {
            "image/png": "[encoded data removed]",
            "text/plain": [
              "<Figure size 432x288 with 1 Axes>"
            ]
          },
          "metadata": {
            "tags": []
          }
        }
      ]
    },
    {
      "cell_type": "markdown",
      "metadata": {
        "id": "33B7kRnbadlr",
        "colab_type": "text"
      },
      "source": [
        "The average age for the training dataset is around 29 years old and the average ticket fare is 32, but is that true for all the passenger classes (column \"Pclass\")? Let's verify."
      ]
    },
    {
      "cell_type": "code",
      "metadata": {
        "id": "k4uWCoTmbOhn",
        "colab_type": "code",
        "outputId": "377fb3b6-84fa-4b08-da30-71d54c2f6d60",
        "colab": {
          "base_uri": "https://localhost:8080/",
          "height": 166
        }
      },
      "source": [
        "# Calculate the mean of other fields based on the class.\n",
        "temp = train.groupby([\"Pclass\"]).mean()\n",
        "temp\n"
      ],
      "execution_count": 13,
      "outputs": [
        {
          "output_type": "execute_result",
          "data": {
            "text/html": [
              "<div>\n",
              "<style scoped>\n",
              "    .dataframe tbody tr th:only-of-type {\n",
              "        vertical-align: middle;\n",
              "    }\n",
              "\n",
              "    .dataframe tbody tr th {\n",
              "        vertical-align: top;\n",
              "    }\n",
              "\n",
              "    .dataframe thead th {\n",
              "        text-align: right;\n",
              "    }\n",
              "</style>\n",
              "<table border=\"1\" class=\"dataframe\">\n",
              "  <thead>\n",
              "    <tr style=\"text-align: right;\">\n",
              "      <th></th>\n",
              "      <th>PassengerId</th>\n",
              "      <th>Survived</th>\n",
              "      <th>Age</th>\n",
              "      <th>SibSp</th>\n",
              "      <th>Parch</th>\n",
              "      <th>Fare</th>\n",
              "    </tr>\n",
              "    <tr>\n",
              "      <th>Pclass</th>\n",
              "      <th></th>\n",
              "      <th></th>\n",
              "      <th></th>\n",
              "      <th></th>\n",
              "      <th></th>\n",
              "      <th></th>\n",
              "    </tr>\n",
              "  </thead>\n",
              "  <tbody>\n",
              "    <tr>\n",
              "      <th>1</th>\n",
              "      <td>461.597222</td>\n",
              "      <td>0.629630</td>\n",
              "      <td>38.233441</td>\n",
              "      <td>0.416667</td>\n",
              "      <td>0.356481</td>\n",
              "      <td>84.154687</td>\n",
              "    </tr>\n",
              "    <tr>\n",
              "      <th>2</th>\n",
              "      <td>445.956522</td>\n",
              "      <td>0.472826</td>\n",
              "      <td>29.877630</td>\n",
              "      <td>0.402174</td>\n",
              "      <td>0.380435</td>\n",
              "      <td>20.662183</td>\n",
              "    </tr>\n",
              "    <tr>\n",
              "      <th>3</th>\n",
              "      <td>439.154786</td>\n",
              "      <td>0.242363</td>\n",
              "      <td>25.140620</td>\n",
              "      <td>0.615071</td>\n",
              "      <td>0.393075</td>\n",
              "      <td>13.675550</td>\n",
              "    </tr>\n",
              "  </tbody>\n",
              "</table>\n",
              "</div>"
            ],
            "text/plain": [
              "        PassengerId  Survived        Age     SibSp     Parch       Fare\n",
              "Pclass                                                                 \n",
              "1        461.597222  0.629630  38.233441  0.416667  0.356481  84.154687\n",
              "2        445.956522  0.472826  29.877630  0.402174  0.380435  20.662183\n",
              "3        439.154786  0.242363  25.140620  0.615071  0.393075  13.675550"
            ]
          },
          "metadata": {
            "tags": []
          },
          "execution_count": 13
        }
      ]
    },
    {
      "cell_type": "markdown",
      "metadata": {
        "id": "ODSVpCOCbili",
        "colab_type": "text"
      },
      "source": [
        "From the result above, we notice that the average age and fare change depending on the class, so this will be important when fixing the missing value using some stastical model, such as the mean."
      ]
    },
    {
      "cell_type": "markdown",
      "metadata": {
        "id": "BMpuo1sQYLbn",
        "colab_type": "text"
      },
      "source": [
        "Now let's analyze how the number of survivors are related to some  features.\n",
        "\n",
        "In the chart below, we notice that passengers from class 1 and 2, mostly women, are more likely to survive than passanges from class 3."
      ]
    },
    {
      "cell_type": "code",
      "metadata": {
        "id": "QuZxk0sJYpSB",
        "colab_type": "code",
        "outputId": "1a0370bc-1708-4e1c-ef9e-03c67ffae6cc",
        "colab": {
          "base_uri": "https://localhost:8080/",
          "height": 297
        }
      },
      "source": [
        "g = sns.catplot(x=\"Sex\", hue=\"Pclass\", col=\"Survived\", data=train, kind=\"count\", height=4, aspect=.7)"
      ],
      "execution_count": 14,
      "outputs": [
        {
          "output_type": "display_data",
          "data": {
            "image/png": "[encoded data removed]",
            "text/plain": [
              "<Figure size 445.575x288 with 2 Axes>"
            ]
          },
          "metadata": {
            "tags": []
          }
        }
      ]
    },
    {
      "cell_type": "markdown",
      "metadata": {
        "id": "lQHPMrXqSiUN",
        "colab_type": "text"
      },
      "source": [
        "The section below will create a copy of the original training dataset (for visualization only) and will fix the missing valules for the columns seen before. "
      ]
    },
    {
      "cell_type": "code",
      "metadata": {
        "id": "IRp00TgQ2JND",
        "colab_type": "code",
        "outputId": "91c2e04b-0af0-4f8f-cdbe-d680ad60d70f",
        "colab": {
          "base_uri": "https://localhost:8080/",
          "height": 217
        }
      },
      "source": [
        "# Make a copy of the original dataset.\n",
        "train_aux = train.copy()\n",
        "\n",
        "# Drop passenger id (useless).\n",
        "\n",
        "train_aux = train_aux.drop('PassengerId', axis=1)\n",
        "\n",
        "# Define the mean age separated by class.\n",
        "c1_age_mean = train_aux.loc[train_aux.Pclass == 1, \"Age\"].mean()\n",
        "c2_age_mean = train_aux.loc[train_aux.Pclass == 2, \"Age\"].mean()\n",
        "c3_age_mean = train_aux.loc[train_aux.Pclass == 3, \"Age\"].mean()\n",
        "\n",
        "# Fixing null values in column Age using the mean for each class.\n",
        "train_aux.loc[train_aux.Pclass == 1, \"Age\"] = train_aux.loc[train_aux.Pclass == 1, \"Age\"].fillna(c1_age_mean)\n",
        "train_aux.loc[train_aux.Pclass == 2, \"Age\"] = train_aux.loc[train_aux.Pclass == 2, \"Age\"].fillna(c2_age_mean)\n",
        "train_aux.loc[train_aux.Pclass == 3, \"Age\"] = train_aux.loc[train_aux.Pclass == 3, \"Age\"].fillna(c3_age_mean)\n",
        "\n",
        "# Fixing null values in column Cabin (call the missing Cabin as Unknown).\n",
        "cabin_inputer = SimpleImputer(missing_values=np.nan, strategy=\"constant\", fill_value=\"Unknown\")\n",
        "train_aux.Cabin = cabin_inputer.fit_transform(train_aux[[\"Cabin\"]])\n",
        "\n",
        "# Fixing null values in column Embarked (set the missing values using the mode).\n",
        "emb_inputer = SimpleImputer(missing_values=np.nan, strategy=\"most_frequent\")\n",
        "train_aux.Embarked = emb_inputer.fit_transform(train_aux[[\"Embarked\"]])\n",
        "\n",
        "# Verifying the columns don't have any remaining null value.\n",
        "train_aux.isnull().sum()"
      ],
      "execution_count": 15,
      "outputs": [
        {
          "output_type": "execute_result",
          "data": {
            "text/plain": [
              "Survived    0\n",
              "Pclass      0\n",
              "Name        0\n",
              "Sex         0\n",
              "Age         0\n",
              "SibSp       0\n",
              "Parch       0\n",
              "Ticket      0\n",
              "Fare        0\n",
              "Cabin       0\n",
              "Embarked    0\n",
              "dtype: int64"
            ]
          },
          "metadata": {
            "tags": []
          },
          "execution_count": 15
        }
      ]
    },
    {
      "cell_type": "markdown",
      "metadata": {
        "id": "yIy_kMnAidKh",
        "colab_type": "text"
      },
      "source": [
        "Another column that needs to be improved is the \"Cabin\", that contains a string and has a lot of unknown values. To simplify it, each cabin can be represented by the first letter (U will represents Unknown)."
      ]
    },
    {
      "cell_type": "code",
      "metadata": {
        "id": "sy5Wv1iwixXh",
        "colab_type": "code",
        "outputId": "1ae4daca-2a34-4445-95bb-174cb4efad5b",
        "colab": {
          "base_uri": "https://localhost:8080/",
          "height": 246
        }
      },
      "source": [
        "# Use the first char of the string to represent the Cabin.\n",
        "train_aux.Cabin = train_aux.Cabin.str[0:1]\n",
        "train_aux.head()"
      ],
      "execution_count": 16,
      "outputs": [
        {
          "output_type": "execute_result",
          "data": {
            "text/html": [
              "<div>\n",
              "<style scoped>\n",
              "    .dataframe tbody tr th:only-of-type {\n",
              "        vertical-align: middle;\n",
              "    }\n",
              "\n",
              "    .dataframe tbody tr th {\n",
              "        vertical-align: top;\n",
              "    }\n",
              "\n",
              "    .dataframe thead th {\n",
              "        text-align: right;\n",
              "    }\n",
              "</style>\n",
              "<table border=\"1\" class=\"dataframe\">\n",
              "  <thead>\n",
              "    <tr style=\"text-align: right;\">\n",
              "      <th></th>\n",
              "      <th>Survived</th>\n",
              "      <th>Pclass</th>\n",
              "      <th>Name</th>\n",
              "      <th>Sex</th>\n",
              "      <th>Age</th>\n",
              "      <th>SibSp</th>\n",
              "      <th>Parch</th>\n",
              "      <th>Ticket</th>\n",
              "      <th>Fare</th>\n",
              "      <th>Cabin</th>\n",
              "      <th>Embarked</th>\n",
              "    </tr>\n",
              "  </thead>\n",
              "  <tbody>\n",
              "    <tr>\n",
              "      <th>0</th>\n",
              "      <td>0</td>\n",
              "      <td>3</td>\n",
              "      <td>Braund, Mr. Owen Harris</td>\n",
              "      <td>male</td>\n",
              "      <td>22.0</td>\n",
              "      <td>1</td>\n",
              "      <td>0</td>\n",
              "      <td>A/5 21171</td>\n",
              "      <td>7.2500</td>\n",
              "      <td>U</td>\n",
              "      <td>S</td>\n",
              "    </tr>\n",
              "    <tr>\n",
              "      <th>1</th>\n",
              "      <td>1</td>\n",
              "      <td>1</td>\n",
              "      <td>Cumings, Mrs. John Bradley (Florence Briggs Th...</td>\n",
              "      <td>female</td>\n",
              "      <td>38.0</td>\n",
              "      <td>1</td>\n",
              "      <td>0</td>\n",
              "      <td>PC 17599</td>\n",
              "      <td>71.2833</td>\n",
              "      <td>C</td>\n",
              "      <td>C</td>\n",
              "    </tr>\n",
              "    <tr>\n",
              "      <th>2</th>\n",
              "      <td>1</td>\n",
              "      <td>3</td>\n",
              "      <td>Heikkinen, Miss. Laina</td>\n",
              "      <td>female</td>\n",
              "      <td>26.0</td>\n",
              "      <td>0</td>\n",
              "      <td>0</td>\n",
              "      <td>STON/O2. 3101282</td>\n",
              "      <td>7.9250</td>\n",
              "      <td>U</td>\n",
              "      <td>S</td>\n",
              "    </tr>\n",
              "    <tr>\n",
              "      <th>3</th>\n",
              "      <td>1</td>\n",
              "      <td>1</td>\n",
              "      <td>Futrelle, Mrs. Jacques Heath (Lily May Peel)</td>\n",
              "      <td>female</td>\n",
              "      <td>35.0</td>\n",
              "      <td>1</td>\n",
              "      <td>0</td>\n",
              "      <td>113803</td>\n",
              "      <td>53.1000</td>\n",
              "      <td>C</td>\n",
              "      <td>S</td>\n",
              "    </tr>\n",
              "    <tr>\n",
              "      <th>4</th>\n",
              "      <td>0</td>\n",
              "      <td>3</td>\n",
              "      <td>Allen, Mr. William Henry</td>\n",
              "      <td>male</td>\n",
              "      <td>35.0</td>\n",
              "      <td>0</td>\n",
              "      <td>0</td>\n",
              "      <td>373450</td>\n",
              "      <td>8.0500</td>\n",
              "      <td>U</td>\n",
              "      <td>S</td>\n",
              "    </tr>\n",
              "  </tbody>\n",
              "</table>\n",
              "</div>"
            ],
            "text/plain": [
              "   Survived  Pclass  ... Cabin Embarked\n",
              "0         0       3  ...     U        S\n",
              "1         1       1  ...     C        C\n",
              "2         1       3  ...     U        S\n",
              "3         1       1  ...     C        S\n",
              "4         0       3  ...     U        S\n",
              "\n",
              "[5 rows x 11 columns]"
            ]
          },
          "metadata": {
            "tags": []
          },
          "execution_count": 16
        }
      ]
    },
    {
      "cell_type": "markdown",
      "metadata": {
        "id": "5GeznyvrjrH2",
        "colab_type": "text"
      },
      "source": [
        "By analyzing the chart below, we can see that some cabins had more survivors than others."
      ]
    },
    {
      "cell_type": "code",
      "metadata": {
        "id": "2fcrwK69jMSq",
        "colab_type": "code",
        "outputId": "95de31d6-8560-4373-a3b2-e566192db393",
        "colab": {
          "base_uri": "https://localhost:8080/",
          "height": 385
        }
      },
      "source": [
        "sns.catplot(x=\"Cabin\", hue=\"Survived\", data=train_aux, kind=\"count\")"
      ],
      "execution_count": 17,
      "outputs": [
        {
          "output_type": "execute_result",
          "data": {
            "text/plain": [
              "<seaborn.axisgrid.FacetGrid at 0x7ffa67c28240>"
            ]
          },
          "metadata": {
            "tags": []
          },
          "execution_count": 17
        },
        {
          "output_type": "display_data",
          "data": {
            "image/png": "[encoded data removed]",
            "text/plain": [
              "<Figure size 411.875x360 with 1 Axes>"
            ]
          },
          "metadata": {
            "tags": []
          }
        }
      ]
    },
    {
      "cell_type": "markdown",
      "metadata": {
        "id": "1Zml1kbjkFFE",
        "colab_type": "text"
      },
      "source": [
        "The column name can also be simplified. It's possible to realize that all the names have a prefix (Mr., Miss., Dr., etc), which represents social class of that person. So this information will be used to replace to full name."
      ]
    },
    {
      "cell_type": "code",
      "metadata": {
        "id": "6RyJQZAqkhha",
        "colab_type": "code",
        "outputId": "3d0365d9-521a-4a06-fcad-3dc85d549eb5",
        "colab": {
          "base_uri": "https://localhost:8080/",
          "height": 318
        }
      },
      "source": [
        "train_aux.Name = train_aux.Name.str.extract(' ([A-Za-z]+)\\.', expand=False)\n",
        "train_aux.Name.value_counts()"
      ],
      "execution_count": 18,
      "outputs": [
        {
          "output_type": "execute_result",
          "data": {
            "text/plain": [
              "Mr          517\n",
              "Miss        182\n",
              "Mrs         125\n",
              "Master       40\n",
              "Dr            7\n",
              "Rev           6\n",
              "Major         2\n",
              "Col           2\n",
              "Mlle          2\n",
              "Mme           1\n",
              "Jonkheer      1\n",
              "Sir           1\n",
              "Capt          1\n",
              "Lady          1\n",
              "Countess      1\n",
              "Ms            1\n",
              "Don           1\n",
              "Name: Name, dtype: int64"
            ]
          },
          "metadata": {
            "tags": []
          },
          "execution_count": 18
        }
      ]
    },
    {
      "cell_type": "markdown",
      "metadata": {
        "id": "7PmnD18SlGGl",
        "colab_type": "text"
      },
      "source": [
        "Since there are so many classes with only one title, they will be grouped as \"Other\"."
      ]
    },
    {
      "cell_type": "code",
      "metadata": {
        "id": "8Qq5y5dKlNFc",
        "colab_type": "code",
        "colab": {}
      },
      "source": [
        "# Replace class other than \"Mr\", \"Miss\", \"Mrs\", \"Master\" as Other.\n",
        "train_aux.loc[~train_aux.Name.isin([\"Mr\", \"Miss\", \"Mrs\", \"Master\"]), \"Name\"] = \"Other\""
      ],
      "execution_count": 0,
      "outputs": []
    },
    {
      "cell_type": "markdown",
      "metadata": {
        "id": "CcrxGijST8YW",
        "colab_type": "text"
      },
      "source": [
        "Now we can see the number of survivors based on the social class of each person."
      ]
    },
    {
      "cell_type": "code",
      "metadata": {
        "id": "7B6cx3opk_L2",
        "colab_type": "code",
        "outputId": "059518f9-e2e1-4582-916e-e034a2b50755",
        "colab": {
          "base_uri": "https://localhost:8080/",
          "height": 385
        }
      },
      "source": [
        "sns.catplot(x=\"Name\", hue=\"Survived\", data=train_aux, kind=\"count\")"
      ],
      "execution_count": 20,
      "outputs": [
        {
          "output_type": "execute_result",
          "data": {
            "text/plain": [
              "<seaborn.axisgrid.FacetGrid at 0x7ffa67b170b8>"
            ]
          },
          "metadata": {
            "tags": []
          },
          "execution_count": 20
        },
        {
          "output_type": "display_data",
          "data": {
            "image/png": "[encoded data removed]",
            "text/plain": [
              "<Figure size 411.875x360 with 1 Axes>"
            ]
          },
          "metadata": {
            "tags": []
          }
        }
      ]
    },
    {
      "cell_type": "markdown",
      "metadata": {
        "id": "rhQzLf9lwIyw",
        "colab_type": "text"
      },
      "source": [
        "The last remaining column to be processed is the \"Ticket\". We will use the first char if it starts with a char or the word \"NUM\" if it's only numeric value."
      ]
    },
    {
      "cell_type": "code",
      "metadata": {
        "id": "XZKBT4SwwF0o",
        "colab_type": "code",
        "colab": {}
      },
      "source": [
        "def ticket_type(ticket):\n",
        "  result = ticket[0:1]\n",
        "  # Try to convert to a number. If fails, it's a string.\n",
        "  try:\n",
        "    int(result)\n",
        "    result = 'NUM'\n",
        "  except:\n",
        "    pass\n",
        "  return result\n",
        "\n",
        "train_aux.Ticket = train_aux.Ticket.apply(ticket_type)"
      ],
      "execution_count": 0,
      "outputs": []
    },
    {
      "cell_type": "markdown",
      "metadata": {
        "id": "U0B6l3VoUXuf",
        "colab_type": "text"
      },
      "source": [
        "Again, we can see how the refactored column is related to the number of survivors."
      ]
    },
    {
      "cell_type": "code",
      "metadata": {
        "id": "REsomOpCwoEM",
        "colab_type": "code",
        "outputId": "81cf16eb-ee9e-45d5-a8d0-909ad8f833cc",
        "colab": {
          "base_uri": "https://localhost:8080/",
          "height": 385
        }
      },
      "source": [
        "sns.catplot(x=\"Ticket\", hue=\"Survived\", data=train_aux, kind=\"count\")"
      ],
      "execution_count": 22,
      "outputs": [
        {
          "output_type": "execute_result",
          "data": {
            "text/plain": [
              "<seaborn.axisgrid.FacetGrid at 0x7ffa67c35fd0>"
            ]
          },
          "metadata": {
            "tags": []
          },
          "execution_count": 22
        },
        {
          "output_type": "display_data",
          "data": {
            "image/png": "[encoded data removed]",
            "text/plain": [
              "<Figure size 411.875x360 with 1 Axes>"
            ]
          },
          "metadata": {
            "tags": []
          }
        }
      ]
    },
    {
      "cell_type": "markdown",
      "metadata": {
        "id": "elBUfdmJfEEK",
        "colab_type": "text"
      },
      "source": [
        "Now we will prepare the dataset to convert all categorical values to numerical values in order to be able to calculate the correlation of all features with the target column."
      ]
    },
    {
      "cell_type": "code",
      "metadata": {
        "id": "ix6FBXY9erP1",
        "colab_type": "code",
        "outputId": "37fb1a65-8754-413c-c8c7-c8ee7e6f491c",
        "colab": {
          "base_uri": "https://localhost:8080/",
          "height": 196
        }
      },
      "source": [
        "label_enc = LabelEncoder()\n",
        "\n",
        "# Converting Sex colum to categorical.\n",
        "train_aux.Sex = label_enc.fit_transform(train_aux.Sex.to_list())\n",
        "\n",
        "# Converting Embarked colum to categorical.\n",
        "train_aux.Embarked = label_enc.fit_transform(train_aux.Embarked.to_list())\n",
        "\n",
        "# Converting Cabin to categorial.\n",
        "train_aux.Cabin = label_enc.fit_transform(train_aux.Cabin.to_list())\n",
        "\n",
        "# Converting Name to categorial.\n",
        "train_aux.Name = label_enc.fit_transform(train_aux.Name.to_list())\n",
        "\n",
        "# Converting Ticket to categorial.\n",
        "train_aux.Ticket = label_enc.fit_transform(train_aux.Ticket.to_list())\n",
        "\n",
        "train_aux.head()"
      ],
      "execution_count": 23,
      "outputs": [
        {
          "output_type": "execute_result",
          "data": {
            "text/html": [
              "<div>\n",
              "<style scoped>\n",
              "    .dataframe tbody tr th:only-of-type {\n",
              "        vertical-align: middle;\n",
              "    }\n",
              "\n",
              "    .dataframe tbody tr th {\n",
              "        vertical-align: top;\n",
              "    }\n",
              "\n",
              "    .dataframe thead th {\n",
              "        text-align: right;\n",
              "    }\n",
              "</style>\n",
              "<table border=\"1\" class=\"dataframe\">\n",
              "  <thead>\n",
              "    <tr style=\"text-align: right;\">\n",
              "      <th></th>\n",
              "      <th>Survived</th>\n",
              "      <th>Pclass</th>\n",
              "      <th>Name</th>\n",
              "      <th>Sex</th>\n",
              "      <th>Age</th>\n",
              "      <th>SibSp</th>\n",
              "      <th>Parch</th>\n",
              "      <th>Ticket</th>\n",
              "      <th>Fare</th>\n",
              "      <th>Cabin</th>\n",
              "      <th>Embarked</th>\n",
              "    </tr>\n",
              "  </thead>\n",
              "  <tbody>\n",
              "    <tr>\n",
              "      <th>0</th>\n",
              "      <td>0</td>\n",
              "      <td>3</td>\n",
              "      <td>2</td>\n",
              "      <td>1</td>\n",
              "      <td>22.0</td>\n",
              "      <td>1</td>\n",
              "      <td>0</td>\n",
              "      <td>0</td>\n",
              "      <td>7.2500</td>\n",
              "      <td>8</td>\n",
              "      <td>2</td>\n",
              "    </tr>\n",
              "    <tr>\n",
              "      <th>1</th>\n",
              "      <td>1</td>\n",
              "      <td>1</td>\n",
              "      <td>3</td>\n",
              "      <td>0</td>\n",
              "      <td>38.0</td>\n",
              "      <td>1</td>\n",
              "      <td>0</td>\n",
              "      <td>5</td>\n",
              "      <td>71.2833</td>\n",
              "      <td>2</td>\n",
              "      <td>0</td>\n",
              "    </tr>\n",
              "    <tr>\n",
              "      <th>2</th>\n",
              "      <td>1</td>\n",
              "      <td>3</td>\n",
              "      <td>1</td>\n",
              "      <td>0</td>\n",
              "      <td>26.0</td>\n",
              "      <td>0</td>\n",
              "      <td>0</td>\n",
              "      <td>6</td>\n",
              "      <td>7.9250</td>\n",
              "      <td>8</td>\n",
              "      <td>2</td>\n",
              "    </tr>\n",
              "    <tr>\n",
              "      <th>3</th>\n",
              "      <td>1</td>\n",
              "      <td>1</td>\n",
              "      <td>3</td>\n",
              "      <td>0</td>\n",
              "      <td>35.0</td>\n",
              "      <td>1</td>\n",
              "      <td>0</td>\n",
              "      <td>4</td>\n",
              "      <td>53.1000</td>\n",
              "      <td>2</td>\n",
              "      <td>2</td>\n",
              "    </tr>\n",
              "    <tr>\n",
              "      <th>4</th>\n",
              "      <td>0</td>\n",
              "      <td>3</td>\n",
              "      <td>2</td>\n",
              "      <td>1</td>\n",
              "      <td>35.0</td>\n",
              "      <td>0</td>\n",
              "      <td>0</td>\n",
              "      <td>4</td>\n",
              "      <td>8.0500</td>\n",
              "      <td>8</td>\n",
              "      <td>2</td>\n",
              "    </tr>\n",
              "  </tbody>\n",
              "</table>\n",
              "</div>"
            ],
            "text/plain": [
              "   Survived  Pclass  Name  Sex   Age  ...  Parch  Ticket     Fare  Cabin  Embarked\n",
              "0         0       3     2    1  22.0  ...      0       0   7.2500      8         2\n",
              "1         1       1     3    0  38.0  ...      0       5  71.2833      2         0\n",
              "2         1       3     1    0  26.0  ...      0       6   7.9250      8         2\n",
              "3         1       1     3    0  35.0  ...      0       4  53.1000      2         2\n",
              "4         0       3     2    1  35.0  ...      0       4   8.0500      8         2\n",
              "\n",
              "[5 rows x 11 columns]"
            ]
          },
          "metadata": {
            "tags": []
          },
          "execution_count": 23
        }
      ]
    },
    {
      "cell_type": "markdown",
      "metadata": {
        "id": "-ZE-yK-Lqit9",
        "colab_type": "text"
      },
      "source": [
        "The next step is about seeing how the columns are correlated to each other."
      ]
    },
    {
      "cell_type": "code",
      "metadata": {
        "id": "MgV0guv7qoku",
        "colab_type": "code",
        "outputId": "fac5240e-0ca2-457f-e075-88ed21a99f40",
        "colab": {
          "base_uri": "https://localhost:8080/",
          "height": 521
        }
      },
      "source": [
        "plt.figure(figsize = (8, 8))\n",
        "sns.heatmap(train_aux.corr(), cmap=(\"RdBu_r\"), annot=True, fmt='.2f')\n",
        "plt.xticks(rotation=45) \n",
        "plt.yticks(rotation=0) \n",
        "plt.show()"
      ],
      "execution_count": 24,
      "outputs": [
        {
          "output_type": "display_data",
          "data": {
            "image/png": "[encoded data removed]",
            "text/plain": [
              "<Figure size 576x576 with 2 Axes>"
            ]
          },
          "metadata": {
            "tags": []
          }
        }
      ]
    },
    {
      "cell_type": "markdown",
      "metadata": {
        "id": "XdF7knq2q0Cm",
        "colab_type": "text"
      },
      "source": [
        "From the heatmap above, we realize the columns \"Sex\", \"Pclass\", \"Fare\", and \"Cabin\" are the ones that have more correlation with the target column."
      ]
    },
    {
      "cell_type": "markdown",
      "metadata": {
        "id": "6KWSLY7u35Hc",
        "colab_type": "text"
      },
      "source": [
        "**2 - Preparing the training and test dataset**\n",
        "\n",
        "In this section we will do some feature engineering in the original datasets based on the previous results. Moreover, we will reduce the number of ranges of \"Age\" and \"Fare\", as well create other columns based on information of the existing ones.\n",
        "\n",
        "The first step is to apply the same strategies applied before (it was done by using a temporary copy of the original dataset). \n",
        "\n"
      ]
    },
    {
      "cell_type": "code",
      "metadata": {
        "id": "BGlOf2TV7poS",
        "colab_type": "code",
        "colab": {}
      },
      "source": [
        "# These are the datasets to be used in the model.\n",
        "train_p = train.copy()\n",
        "test_p = test.copy()\n",
        "\n",
        "# Drop passenger id (useless).\n",
        "train_p = train_p.drop('PassengerId', axis=1)\n",
        "test_p = test_p.drop('PassengerId', axis=1)\n",
        "\n",
        "# Fixing null values in column Age using the mean for each Pclass.\n",
        "train_p.loc[train_p.Pclass == 1, \"Age\"] = train_p.loc[train_p.Pclass == 1, \"Age\"].fillna(int(train_p.loc[train_p.Pclass == 1, \"Age\"].mean()))\n",
        "train_p.loc[train_p.Pclass == 2, \"Age\"] = train_p.loc[train_p.Pclass == 2, \"Age\"].fillna(int(train_p.loc[train_p.Pclass == 2, \"Age\"].mean()))\n",
        "train_p.loc[train_p.Pclass == 3, \"Age\"] = train_p.loc[train_p.Pclass == 3, \"Age\"].fillna(int(train_p.loc[train_p.Pclass == 3, \"Age\"].mean()))\n",
        "\n",
        "test_p.loc[test_p.Pclass == 1, \"Age\"] = test_p.loc[test_p.Pclass == 1, \"Age\"].fillna(int(test_p.loc[test_p.Pclass == 1, \"Age\"].mean()))\n",
        "test_p.loc[test_p.Pclass == 2, \"Age\"] = test_p.loc[test_p.Pclass == 2, \"Age\"].fillna(int(test_p.loc[test_p.Pclass == 2, \"Age\"].mean()))\n",
        "test_p.loc[test_p.Pclass == 3, \"Age\"] = test_p.loc[test_p.Pclass == 3, \"Age\"].fillna(int(test_p.loc[test_p.Pclass == 3, \"Age\"].mean()))\n",
        "\n",
        "# Fixing null values in column Cabin.\n",
        "cabin_inputer = SimpleImputer(missing_values=np.nan, strategy=\"constant\", fill_value=\"Unknown\")\n",
        "train_p.Cabin = cabin_inputer.fit_transform(train_p[[\"Cabin\"]])\n",
        "test_p.Cabin = cabin_inputer.fit_transform(test_p[[\"Cabin\"]])\n",
        "\n",
        "# Fixing null values in column Embarked (missing only in train).\n",
        "emb_inputer = SimpleImputer(missing_values=np.nan, strategy=\"most_frequent\")\n",
        "train_p.Embarked = emb_inputer.fit_transform(train_p[[\"Embarked\"]])\n",
        "\n",
        "# Fixing null values in Fare (missing only in test).\n",
        "fare_inputer = SimpleImputer(missing_values=np.nan, strategy=\"most_frequent\")\n",
        "test_p.Fare = fare_inputer.fit_transform(test_p[[\"Fare\"]])\n",
        "\n",
        "# Processing colums with text.\n",
        "train_p.Cabin = train_p.Cabin.str[0:1]\n",
        "test_p.Cabin = test_p.Cabin.str[0:1]\n",
        "\n",
        "train_p.Name = train_p.Name.str.extract(' ([A-Za-z]+)\\.', expand=False)\n",
        "train_p.loc[~train_p.Name.isin([\"Mr\", \"Miss\", \"Mrs\", \"Master\", \"Dr\", \"Rev\"]), \"Name\"] = \"Other\"\n",
        "test_p.Name = test_p.Name.str.extract(' ([A-Za-z]+)\\.', expand=False)\n",
        "test_p.loc[~test_p.Name.isin([\"Mr\", \"Miss\", \"Mrs\", \"Master\", \"Dr\", \"Rev\"]), \"Name\"] = \"Other\"\n",
        "\n",
        "train_p.Ticket = train_p.Ticket.apply(ticket_type)\n",
        "test_p.Ticket = test_p.Ticket.apply(ticket_type)"
      ],
      "execution_count": 0,
      "outputs": []
    },
    {
      "cell_type": "code",
      "metadata": {
        "id": "1vd5xOhptOBT",
        "colab_type": "code",
        "outputId": "eaae43c9-f6cc-4d2e-d9a5-69ddb8def434",
        "colab": {
          "base_uri": "https://localhost:8080/",
          "height": 196
        }
      },
      "source": [
        "train_p.head()"
      ],
      "execution_count": 26,
      "outputs": [
        {
          "output_type": "execute_result",
          "data": {
            "text/html": [
              "<div>\n",
              "<style scoped>\n",
              "    .dataframe tbody tr th:only-of-type {\n",
              "        vertical-align: middle;\n",
              "    }\n",
              "\n",
              "    .dataframe tbody tr th {\n",
              "        vertical-align: top;\n",
              "    }\n",
              "\n",
              "    .dataframe thead th {\n",
              "        text-align: right;\n",
              "    }\n",
              "</style>\n",
              "<table border=\"1\" class=\"dataframe\">\n",
              "  <thead>\n",
              "    <tr style=\"text-align: right;\">\n",
              "      <th></th>\n",
              "      <th>Survived</th>\n",
              "      <th>Pclass</th>\n",
              "      <th>Name</th>\n",
              "      <th>Sex</th>\n",
              "      <th>Age</th>\n",
              "      <th>SibSp</th>\n",
              "      <th>Parch</th>\n",
              "      <th>Ticket</th>\n",
              "      <th>Fare</th>\n",
              "      <th>Cabin</th>\n",
              "      <th>Embarked</th>\n",
              "    </tr>\n",
              "  </thead>\n",
              "  <tbody>\n",
              "    <tr>\n",
              "      <th>0</th>\n",
              "      <td>0</td>\n",
              "      <td>3</td>\n",
              "      <td>Mr</td>\n",
              "      <td>male</td>\n",
              "      <td>22.0</td>\n",
              "      <td>1</td>\n",
              "      <td>0</td>\n",
              "      <td>A</td>\n",
              "      <td>7.2500</td>\n",
              "      <td>U</td>\n",
              "      <td>S</td>\n",
              "    </tr>\n",
              "    <tr>\n",
              "      <th>1</th>\n",
              "      <td>1</td>\n",
              "      <td>1</td>\n",
              "      <td>Mrs</td>\n",
              "      <td>female</td>\n",
              "      <td>38.0</td>\n",
              "      <td>1</td>\n",
              "      <td>0</td>\n",
              "      <td>P</td>\n",
              "      <td>71.2833</td>\n",
              "      <td>C</td>\n",
              "      <td>C</td>\n",
              "    </tr>\n",
              "    <tr>\n",
              "      <th>2</th>\n",
              "      <td>1</td>\n",
              "      <td>3</td>\n",
              "      <td>Miss</td>\n",
              "      <td>female</td>\n",
              "      <td>26.0</td>\n",
              "      <td>0</td>\n",
              "      <td>0</td>\n",
              "      <td>S</td>\n",
              "      <td>7.9250</td>\n",
              "      <td>U</td>\n",
              "      <td>S</td>\n",
              "    </tr>\n",
              "    <tr>\n",
              "      <th>3</th>\n",
              "      <td>1</td>\n",
              "      <td>1</td>\n",
              "      <td>Mrs</td>\n",
              "      <td>female</td>\n",
              "      <td>35.0</td>\n",
              "      <td>1</td>\n",
              "      <td>0</td>\n",
              "      <td>NUM</td>\n",
              "      <td>53.1000</td>\n",
              "      <td>C</td>\n",
              "      <td>S</td>\n",
              "    </tr>\n",
              "    <tr>\n",
              "      <th>4</th>\n",
              "      <td>0</td>\n",
              "      <td>3</td>\n",
              "      <td>Mr</td>\n",
              "      <td>male</td>\n",
              "      <td>35.0</td>\n",
              "      <td>0</td>\n",
              "      <td>0</td>\n",
              "      <td>NUM</td>\n",
              "      <td>8.0500</td>\n",
              "      <td>U</td>\n",
              "      <td>S</td>\n",
              "    </tr>\n",
              "  </tbody>\n",
              "</table>\n",
              "</div>"
            ],
            "text/plain": [
              "   Survived  Pclass  Name     Sex   Age  ...  Parch  Ticket     Fare  Cabin Embarked\n",
              "0         0       3    Mr    male  22.0  ...      0       A   7.2500      U        S\n",
              "1         1       1   Mrs  female  38.0  ...      0       P  71.2833      C        C\n",
              "2         1       3  Miss  female  26.0  ...      0       S   7.9250      U        S\n",
              "3         1       1   Mrs  female  35.0  ...      0     NUM  53.1000      C        S\n",
              "4         0       3    Mr    male  35.0  ...      0     NUM   8.0500      U        S\n",
              "\n",
              "[5 rows x 11 columns]"
            ]
          },
          "metadata": {
            "tags": []
          },
          "execution_count": 26
        }
      ]
    },
    {
      "cell_type": "markdown",
      "metadata": {
        "id": "ieq62iQRxiOP",
        "colab_type": "text"
      },
      "source": [
        "The following is step is about creating new features based on the existing ones. We will sum the number of siblings, spouses, children, and parents and call the result as the number of relatives. Also, if this number is 0, we will consider that the passenger was traveling alone."
      ]
    },
    {
      "cell_type": "code",
      "metadata": {
        "id": "MO6jpL-AxtYl",
        "colab_type": "code",
        "colab": {}
      },
      "source": [
        "# Dealing with number of siblings/ spouses and parentes/ children.\n",
        "train_p[\"NumRelatives\"] = train_p[\"SibSp\"] + train_p[\"Parch\"]\n",
        "test_p[\"NumRelatives\"] = test_p[\"SibSp\"] + test_p[\"Parch\"]\n",
        "\n",
        "# Defining if the passenger was travelling alone.\n",
        "train_p[\"Alone\"] = \"Yes\"\n",
        "train_p.loc[train_p[\"NumRelatives\"] > 0, \"Alone\"] = \"No\"\n",
        "test_p[\"Alone\"] = \"Yes\"\n",
        "test_p.loc[test_p[\"NumRelatives\"] > 0, \"Alone\"] = \"No\"\n",
        "\n",
        "# Creating categories for Age and Fare.\n",
        "age_points = [0, 18, 30, 60, 100]\n",
        "age_names = [\"Child\", \"YoungAdult\", \"Adult\", \"Senior\"]\n",
        "train_p[\"AgeCat\"] = pd.cut(train_p[\"Age\"], age_points, labels=age_names)\n",
        "test_p[\"AgeCat\"] = pd.cut(test_p[\"Age\"], age_points, labels=age_names)\n",
        "\n",
        "fare_points = [-1, 15, 60, 300, 1000]\n",
        "fare_names = [\"Cheap\",  \"Regular\", \"Business\", \"First\"]\n",
        "train_p[\"FareCat\"] = pd.cut(train_p[\"Fare\"], fare_points, labels=fare_names)\n",
        "test_p[\"FareCat\"] = pd.cut(test_p[\"Fare\"], fare_points, labels=fare_names)"
      ],
      "execution_count": 0,
      "outputs": []
    },
    {
      "cell_type": "markdown",
      "metadata": {
        "id": "bOYCAJIATFhP",
        "colab_type": "text"
      },
      "source": [
        "Now let's see how the new categories are related to the number of survivors."
      ]
    },
    {
      "cell_type": "code",
      "metadata": {
        "id": "xR_vNrBQSr66",
        "colab_type": "code",
        "outputId": "29438521-fdaf-4d6c-dd52-db6d797ff192",
        "colab": {
          "base_uri": "https://localhost:8080/",
          "height": 100
        }
      },
      "source": [
        "train_p.AgeCat.value_counts()"
      ],
      "execution_count": 28,
      "outputs": [
        {
          "output_type": "execute_result",
          "data": {
            "text/plain": [
              "YoungAdult    417\n",
              "Adult         313\n",
              "Child         139\n",
              "Senior         22\n",
              "Name: AgeCat, dtype: int64"
            ]
          },
          "metadata": {
            "tags": []
          },
          "execution_count": 28
        }
      ]
    },
    {
      "cell_type": "code",
      "metadata": {
        "id": "CrkY3MqASvJd",
        "colab_type": "code",
        "outputId": "02d525a4-4e52-4107-bc82-de27e4fe0ad9",
        "colab": {
          "base_uri": "https://localhost:8080/",
          "height": 385
        }
      },
      "source": [
        "sns.catplot(x=\"AgeCat\", hue=\"Survived\", data=train_p, kind=\"count\")"
      ],
      "execution_count": 29,
      "outputs": [
        {
          "output_type": "execute_result",
          "data": {
            "text/plain": [
              "<seaborn.axisgrid.FacetGrid at 0x7ffa6bf0fe80>"
            ]
          },
          "metadata": {
            "tags": []
          },
          "execution_count": 29
        },
        {
          "output_type": "display_data",
          "data": {
            "image/png": "[encoded data removed]",
            "text/plain": [
              "<Figure size 411.875x360 with 1 Axes>"
            ]
          },
          "metadata": {
            "tags": []
          }
        }
      ]
    },
    {
      "cell_type": "code",
      "metadata": {
        "id": "B0ZG1AAL0jvg",
        "colab_type": "code",
        "outputId": "bbe82582-97a7-42f8-ff54-ffbf11d1a735",
        "colab": {
          "base_uri": "https://localhost:8080/",
          "height": 100
        }
      },
      "source": [
        "train_p.FareCat.value_counts()"
      ],
      "execution_count": 30,
      "outputs": [
        {
          "output_type": "execute_result",
          "data": {
            "text/plain": [
              "Cheap       458\n",
              "Regular     311\n",
              "Business    119\n",
              "First         3\n",
              "Name: FareCat, dtype: int64"
            ]
          },
          "metadata": {
            "tags": []
          },
          "execution_count": 30
        }
      ]
    },
    {
      "cell_type": "code",
      "metadata": {
        "id": "ASlfSje0yfYM",
        "colab_type": "code",
        "outputId": "8a37d689-5dca-4537-a0b2-83ec169c677a",
        "colab": {
          "base_uri": "https://localhost:8080/",
          "height": 385
        }
      },
      "source": [
        "sns.catplot(x=\"FareCat\", hue=\"Survived\", data=train_p, kind=\"count\")"
      ],
      "execution_count": 31,
      "outputs": [
        {
          "output_type": "execute_result",
          "data": {
            "text/plain": [
              "<seaborn.axisgrid.FacetGrid at 0x7ffa67964240>"
            ]
          },
          "metadata": {
            "tags": []
          },
          "execution_count": 31
        },
        {
          "output_type": "display_data",
          "data": {
            "image/png": "[encoded data removed]",
            "text/plain": [
              "<Figure size 411.875x360 with 1 Axes>"
            ]
          },
          "metadata": {
            "tags": []
          }
        }
      ]
    },
    {
      "cell_type": "markdown",
      "metadata": {
        "id": "ckeATnmQVwD-",
        "colab_type": "text"
      },
      "source": [
        "The first chart above shows that child and young adults are more likely to survive. The second one shows that the passengers from most expensive classes survived more than the ones from the cheaper classes."
      ]
    },
    {
      "cell_type": "markdown",
      "metadata": {
        "id": "SS7S-WLpTTv8",
        "colab_type": "text"
      },
      "source": [
        "Let's see how the dataset is looking like now."
      ]
    },
    {
      "cell_type": "code",
      "metadata": {
        "colab_type": "code",
        "outputId": "5f52863f-252c-465d-bb28-2c91a2e76c9f",
        "id": "fWbdWfn8TfI1",
        "colab": {
          "base_uri": "https://localhost:8080/",
          "height": 216
        }
      },
      "source": [
        "train_p.head()"
      ],
      "execution_count": 32,
      "outputs": [
        {
          "output_type": "execute_result",
          "data": {
            "text/html": [
              "<div>\n",
              "<style scoped>\n",
              "    .dataframe tbody tr th:only-of-type {\n",
              "        vertical-align: middle;\n",
              "    }\n",
              "\n",
              "    .dataframe tbody tr th {\n",
              "        vertical-align: top;\n",
              "    }\n",
              "\n",
              "    .dataframe thead th {\n",
              "        text-align: right;\n",
              "    }\n",
              "</style>\n",
              "<table border=\"1\" class=\"dataframe\">\n",
              "  <thead>\n",
              "    <tr style=\"text-align: right;\">\n",
              "      <th></th>\n",
              "      <th>Survived</th>\n",
              "      <th>Pclass</th>\n",
              "      <th>Name</th>\n",
              "      <th>Sex</th>\n",
              "      <th>Age</th>\n",
              "      <th>SibSp</th>\n",
              "      <th>Parch</th>\n",
              "      <th>Ticket</th>\n",
              "      <th>Fare</th>\n",
              "      <th>Cabin</th>\n",
              "      <th>Embarked</th>\n",
              "      <th>NumRelatives</th>\n",
              "      <th>Alone</th>\n",
              "      <th>AgeCat</th>\n",
              "      <th>FareCat</th>\n",
              "    </tr>\n",
              "  </thead>\n",
              "  <tbody>\n",
              "    <tr>\n",
              "      <th>0</th>\n",
              "      <td>0</td>\n",
              "      <td>3</td>\n",
              "      <td>Mr</td>\n",
              "      <td>male</td>\n",
              "      <td>22.0</td>\n",
              "      <td>1</td>\n",
              "      <td>0</td>\n",
              "      <td>A</td>\n",
              "      <td>7.2500</td>\n",
              "      <td>U</td>\n",
              "      <td>S</td>\n",
              "      <td>1</td>\n",
              "      <td>No</td>\n",
              "      <td>YoungAdult</td>\n",
              "      <td>Cheap</td>\n",
              "    </tr>\n",
              "    <tr>\n",
              "      <th>1</th>\n",
              "      <td>1</td>\n",
              "      <td>1</td>\n",
              "      <td>Mrs</td>\n",
              "      <td>female</td>\n",
              "      <td>38.0</td>\n",
              "      <td>1</td>\n",
              "      <td>0</td>\n",
              "      <td>P</td>\n",
              "      <td>71.2833</td>\n",
              "      <td>C</td>\n",
              "      <td>C</td>\n",
              "      <td>1</td>\n",
              "      <td>No</td>\n",
              "      <td>Adult</td>\n",
              "      <td>Business</td>\n",
              "    </tr>\n",
              "    <tr>\n",
              "      <th>2</th>\n",
              "      <td>1</td>\n",
              "      <td>3</td>\n",
              "      <td>Miss</td>\n",
              "      <td>female</td>\n",
              "      <td>26.0</td>\n",
              "      <td>0</td>\n",
              "      <td>0</td>\n",
              "      <td>S</td>\n",
              "      <td>7.9250</td>\n",
              "      <td>U</td>\n",
              "      <td>S</td>\n",
              "      <td>0</td>\n",
              "      <td>Yes</td>\n",
              "      <td>YoungAdult</td>\n",
              "      <td>Cheap</td>\n",
              "    </tr>\n",
              "    <tr>\n",
              "      <th>3</th>\n",
              "      <td>1</td>\n",
              "      <td>1</td>\n",
              "      <td>Mrs</td>\n",
              "      <td>female</td>\n",
              "      <td>35.0</td>\n",
              "      <td>1</td>\n",
              "      <td>0</td>\n",
              "      <td>NUM</td>\n",
              "      <td>53.1000</td>\n",
              "      <td>C</td>\n",
              "      <td>S</td>\n",
              "      <td>1</td>\n",
              "      <td>No</td>\n",
              "      <td>Adult</td>\n",
              "      <td>Regular</td>\n",
              "    </tr>\n",
              "    <tr>\n",
              "      <th>4</th>\n",
              "      <td>0</td>\n",
              "      <td>3</td>\n",
              "      <td>Mr</td>\n",
              "      <td>male</td>\n",
              "      <td>35.0</td>\n",
              "      <td>0</td>\n",
              "      <td>0</td>\n",
              "      <td>NUM</td>\n",
              "      <td>8.0500</td>\n",
              "      <td>U</td>\n",
              "      <td>S</td>\n",
              "      <td>0</td>\n",
              "      <td>Yes</td>\n",
              "      <td>Adult</td>\n",
              "      <td>Cheap</td>\n",
              "    </tr>\n",
              "  </tbody>\n",
              "</table>\n",
              "</div>"
            ],
            "text/plain": [
              "   Survived  Pclass  Name     Sex  ...  NumRelatives  Alone      AgeCat   FareCat\n",
              "0         0       3    Mr    male  ...             1     No  YoungAdult     Cheap\n",
              "1         1       1   Mrs  female  ...             1     No       Adult  Business\n",
              "2         1       3  Miss  female  ...             0    Yes  YoungAdult     Cheap\n",
              "3         1       1   Mrs  female  ...             1     No       Adult   Regular\n",
              "4         0       3    Mr    male  ...             0    Yes       Adult     Cheap\n",
              "\n",
              "[5 rows x 15 columns]"
            ]
          },
          "metadata": {
            "tags": []
          },
          "execution_count": 32
        }
      ]
    },
    {
      "cell_type": "markdown",
      "metadata": {
        "id": "KkyevPx9ThWQ",
        "colab_type": "text"
      },
      "source": [
        "The goal now is to convert the category features to numerical values and finally to scale the values (normalization). This is going to be done by using one hot encoding. Nevertheless, before doing this we need to improve the Pclass feature, because it's a kind of categorical column although the column itself is represented as numeric."
      ]
    },
    {
      "cell_type": "code",
      "metadata": {
        "id": "sBvvljhvUZL6",
        "colab_type": "code",
        "outputId": "4a827260-23e3-4e3e-9045-a51d94220706",
        "colab": {
          "base_uri": "https://localhost:8080/",
          "height": 196
        }
      },
      "source": [
        "train_p['Pclass'] = train_p['Pclass'].map({1: 'First', 2: 'Second', 3: 'Third'})\n",
        "test_p['Pclass'] = test_p['Pclass'].map({1: 'First', 2: 'Second', 3: 'Third'})\n",
        "\n",
        "# Viewing the new Pclass.\n",
        "train_p[[\"Pclass\"]].head()"
      ],
      "execution_count": 33,
      "outputs": [
        {
          "output_type": "execute_result",
          "data": {
            "text/html": [
              "<div>\n",
              "<style scoped>\n",
              "    .dataframe tbody tr th:only-of-type {\n",
              "        vertical-align: middle;\n",
              "    }\n",
              "\n",
              "    .dataframe tbody tr th {\n",
              "        vertical-align: top;\n",
              "    }\n",
              "\n",
              "    .dataframe thead th {\n",
              "        text-align: right;\n",
              "    }\n",
              "</style>\n",
              "<table border=\"1\" class=\"dataframe\">\n",
              "  <thead>\n",
              "    <tr style=\"text-align: right;\">\n",
              "      <th></th>\n",
              "      <th>Pclass</th>\n",
              "    </tr>\n",
              "  </thead>\n",
              "  <tbody>\n",
              "    <tr>\n",
              "      <th>0</th>\n",
              "      <td>Third</td>\n",
              "    </tr>\n",
              "    <tr>\n",
              "      <th>1</th>\n",
              "      <td>First</td>\n",
              "    </tr>\n",
              "    <tr>\n",
              "      <th>2</th>\n",
              "      <td>Third</td>\n",
              "    </tr>\n",
              "    <tr>\n",
              "      <th>3</th>\n",
              "      <td>First</td>\n",
              "    </tr>\n",
              "    <tr>\n",
              "      <th>4</th>\n",
              "      <td>Third</td>\n",
              "    </tr>\n",
              "  </tbody>\n",
              "</table>\n",
              "</div>"
            ],
            "text/plain": [
              "  Pclass\n",
              "0  Third\n",
              "1  First\n",
              "2  Third\n",
              "3  First\n",
              "4  Third"
            ]
          },
          "metadata": {
            "tags": []
          },
          "execution_count": 33
        }
      ]
    },
    {
      "cell_type": "markdown",
      "metadata": {
        "id": "vHMuIgl2XJ09",
        "colab_type": "text"
      },
      "source": [
        "With the columns ready, we can separate the features from the target column and remove redundant columns."
      ]
    },
    {
      "cell_type": "code",
      "metadata": {
        "id": "CNSS5lU9Sy6J",
        "colab_type": "code",
        "colab": {}
      },
      "source": [
        "# Separating features of the target column.\n",
        "target = train_p[\"Survived\"]\n",
        "train_p = train_p.drop(\"Survived\", axis=1)\n",
        "\n",
        "# Removing redundant columns.\n",
        "train_p = train_p.drop(labels=[\"SibSp\", \"Parch\",], axis=1)\n",
        "test_p = test_p.drop(labels=[\"SibSp\", \"Parch\",], axis=1)"
      ],
      "execution_count": 0,
      "outputs": []
    },
    {
      "cell_type": "markdown",
      "metadata": {
        "id": "b9hW_JemXAqs",
        "colab_type": "text"
      },
      "source": [
        "Finally, we can encode all categorial features and normalize all numerical columns."
      ]
    },
    {
      "cell_type": "code",
      "metadata": {
        "id": "tUzcf_qLTuyq",
        "colab_type": "code",
        "colab": {}
      },
      "source": [
        "# Encode the Ticket and Cabin using regular LabelEncode bacause they have so many categories.\n",
        "train_p[[\"Ticket\"]] = train_p[[\"Ticket\"]].apply(lambda col: label_enc.fit_transform(col))\n",
        "test_p[[\"Ticket\"]] = test_p[[\"Ticket\"]].apply(lambda col: label_enc.fit_transform(col))\n",
        "\n",
        "train_p[[\"Cabin\"]] = train_p[[\"Cabin\"]].apply(lambda col: label_enc.fit_transform(col))\n",
        "test_p[[\"Cabin\"]] = test_p[[\"Cabin\"]].apply(lambda col: label_enc.fit_transform(col))\n",
        "\n",
        "# Join datasets to create the all the columns properly (without doing this, the test dataset would have less columns).\n",
        "temp = pd.concat([train_p, test_p])\n",
        "\n",
        "# Get all categorical and numerical columns.\n",
        "categorical_features = temp.select_dtypes(include=[\"object\", \"category\"]).columns\n",
        "numerical_features = temp.select_dtypes(include=[\"int64\",\"float64\"]).columns\n",
        "\n",
        "# Convert the categorical columns using one hot encoding.\n",
        "temp = pd.get_dummies(temp, drop_first=True, columns=categorical_features)\n",
        "\n",
        "# le = LabelEncoder()\n",
        "# temp[categorical_features] = temp[categorical_features].apply(lambda col: le.fit_transform(col))\n",
        "\n",
        "# Separate the datasets again.\n",
        "train_p = temp.iloc[:891].copy()\n",
        "test_p = temp.iloc[891:].copy()\n",
        "\n",
        "# Normalize the numerical columns.\n",
        "scaler = StandardScaler()\n",
        "train_p[train_p.columns] = scaler.fit_transform(train_p[train_p.columns])\n",
        "test_p[test_p.columns] = scaler.fit_transform(test_p[test_p.columns])"
      ],
      "execution_count": 0,
      "outputs": []
    },
    {
      "cell_type": "markdown",
      "metadata": {
        "id": "fbyM2yQkftjv",
        "colab_type": "text"
      },
      "source": [
        "Final version of train and test datasets."
      ]
    },
    {
      "cell_type": "code",
      "metadata": {
        "id": "Vast_-VtdmKT",
        "colab_type": "code",
        "outputId": "5dde3b73-9034-4ac0-b5b8-54697e552647",
        "colab": {
          "base_uri": "https://localhost:8080/",
          "height": 216
        }
      },
      "source": [
        "train_p.head()"
      ],
      "execution_count": 36,
      "outputs": [
        {
          "output_type": "execute_result",
          "data": {
            "text/html": [
              "<div>\n",
              "<style scoped>\n",
              "    .dataframe tbody tr th:only-of-type {\n",
              "        vertical-align: middle;\n",
              "    }\n",
              "\n",
              "    .dataframe tbody tr th {\n",
              "        vertical-align: top;\n",
              "    }\n",
              "\n",
              "    .dataframe thead th {\n",
              "        text-align: right;\n",
              "    }\n",
              "</style>\n",
              "<table border=\"1\" class=\"dataframe\">\n",
              "  <thead>\n",
              "    <tr style=\"text-align: right;\">\n",
              "      <th></th>\n",
              "      <th>Age</th>\n",
              "      <th>Ticket</th>\n",
              "      <th>Fare</th>\n",
              "      <th>Cabin</th>\n",
              "      <th>NumRelatives</th>\n",
              "      <th>Pclass_Second</th>\n",
              "      <th>Pclass_Third</th>\n",
              "      <th>Name_Master</th>\n",
              "      <th>Name_Miss</th>\n",
              "      <th>Name_Mr</th>\n",
              "      <th>Name_Mrs</th>\n",
              "      <th>Name_Other</th>\n",
              "      <th>Name_Rev</th>\n",
              "      <th>Sex_male</th>\n",
              "      <th>Embarked_Q</th>\n",
              "      <th>Embarked_S</th>\n",
              "      <th>Alone_Yes</th>\n",
              "      <th>AgeCat_YoungAdult</th>\n",
              "      <th>AgeCat_Adult</th>\n",
              "      <th>AgeCat_Senior</th>\n",
              "      <th>FareCat_Regular</th>\n",
              "      <th>FareCat_Business</th>\n",
              "      <th>FareCat_First</th>\n",
              "    </tr>\n",
              "  </thead>\n",
              "  <tbody>\n",
              "    <tr>\n",
              "      <th>0</th>\n",
              "      <td>-0.549259</td>\n",
              "      <td>-3.201444</td>\n",
              "      <td>-0.502445</td>\n",
              "      <td>0.522067</td>\n",
              "      <td>0.059160</td>\n",
              "      <td>-0.510152</td>\n",
              "      <td>0.902587</td>\n",
              "      <td>-0.216803</td>\n",
              "      <td>-0.506655</td>\n",
              "      <td>0.850532</td>\n",
              "      <td>-0.403962</td>\n",
              "      <td>-0.126347</td>\n",
              "      <td>-0.082339</td>\n",
              "      <td>0.737695</td>\n",
              "      <td>-0.307562</td>\n",
              "      <td>0.615838</td>\n",
              "      <td>-1.231645</td>\n",
              "      <td>1.066157</td>\n",
              "      <td>-0.735882</td>\n",
              "      <td>-0.159111</td>\n",
              "      <td>-0.732261</td>\n",
              "      <td>-0.392613</td>\n",
              "      <td>-0.058124</td>\n",
              "    </tr>\n",
              "    <tr>\n",
              "      <th>1</th>\n",
              "      <td>0.662445</td>\n",
              "      <td>0.846933</td>\n",
              "      <td>0.786845</td>\n",
              "      <td>-1.917594</td>\n",
              "      <td>0.059160</td>\n",
              "      <td>-0.510152</td>\n",
              "      <td>-1.107926</td>\n",
              "      <td>-0.216803</td>\n",
              "      <td>-0.506655</td>\n",
              "      <td>-1.175735</td>\n",
              "      <td>2.475480</td>\n",
              "      <td>-0.126347</td>\n",
              "      <td>-0.082339</td>\n",
              "      <td>-1.355574</td>\n",
              "      <td>-0.307562</td>\n",
              "      <td>-1.623803</td>\n",
              "      <td>-1.231645</td>\n",
              "      <td>-0.937948</td>\n",
              "      <td>1.358913</td>\n",
              "      <td>-0.159111</td>\n",
              "      <td>-0.732261</td>\n",
              "      <td>2.547037</td>\n",
              "      <td>-0.058124</td>\n",
              "    </tr>\n",
              "    <tr>\n",
              "      <th>2</th>\n",
              "      <td>-0.246333</td>\n",
              "      <td>1.656609</td>\n",
              "      <td>-0.488854</td>\n",
              "      <td>0.522067</td>\n",
              "      <td>-0.560975</td>\n",
              "      <td>-0.510152</td>\n",
              "      <td>0.902587</td>\n",
              "      <td>-0.216803</td>\n",
              "      <td>1.973729</td>\n",
              "      <td>-1.175735</td>\n",
              "      <td>-0.403962</td>\n",
              "      <td>-0.126347</td>\n",
              "      <td>-0.082339</td>\n",
              "      <td>-1.355574</td>\n",
              "      <td>-0.307562</td>\n",
              "      <td>0.615838</td>\n",
              "      <td>0.811922</td>\n",
              "      <td>1.066157</td>\n",
              "      <td>-0.735882</td>\n",
              "      <td>-0.159111</td>\n",
              "      <td>-0.732261</td>\n",
              "      <td>-0.392613</td>\n",
              "      <td>-0.058124</td>\n",
              "    </tr>\n",
              "    <tr>\n",
              "      <th>3</th>\n",
              "      <td>0.435251</td>\n",
              "      <td>0.037258</td>\n",
              "      <td>0.420730</td>\n",
              "      <td>-1.917594</td>\n",
              "      <td>0.059160</td>\n",
              "      <td>-0.510152</td>\n",
              "      <td>-1.107926</td>\n",
              "      <td>-0.216803</td>\n",
              "      <td>-0.506655</td>\n",
              "      <td>-1.175735</td>\n",
              "      <td>2.475480</td>\n",
              "      <td>-0.126347</td>\n",
              "      <td>-0.082339</td>\n",
              "      <td>-1.355574</td>\n",
              "      <td>-0.307562</td>\n",
              "      <td>0.615838</td>\n",
              "      <td>-1.231645</td>\n",
              "      <td>-0.937948</td>\n",
              "      <td>1.358913</td>\n",
              "      <td>-0.159111</td>\n",
              "      <td>1.365632</td>\n",
              "      <td>-0.392613</td>\n",
              "      <td>-0.058124</td>\n",
              "    </tr>\n",
              "    <tr>\n",
              "      <th>4</th>\n",
              "      <td>0.435251</td>\n",
              "      <td>0.037258</td>\n",
              "      <td>-0.486337</td>\n",
              "      <td>0.522067</td>\n",
              "      <td>-0.560975</td>\n",
              "      <td>-0.510152</td>\n",
              "      <td>0.902587</td>\n",
              "      <td>-0.216803</td>\n",
              "      <td>-0.506655</td>\n",
              "      <td>0.850532</td>\n",
              "      <td>-0.403962</td>\n",
              "      <td>-0.126347</td>\n",
              "      <td>-0.082339</td>\n",
              "      <td>0.737695</td>\n",
              "      <td>-0.307562</td>\n",
              "      <td>0.615838</td>\n",
              "      <td>0.811922</td>\n",
              "      <td>-0.937948</td>\n",
              "      <td>1.358913</td>\n",
              "      <td>-0.159111</td>\n",
              "      <td>-0.732261</td>\n",
              "      <td>-0.392613</td>\n",
              "      <td>-0.058124</td>\n",
              "    </tr>\n",
              "  </tbody>\n",
              "</table>\n",
              "</div>"
            ],
            "text/plain": [
              "        Age    Ticket  ...  FareCat_Business  FareCat_First\n",
              "0 -0.549259 -3.201444  ...         -0.392613      -0.058124\n",
              "1  0.662445  0.846933  ...          2.547037      -0.058124\n",
              "2 -0.246333  1.656609  ...         -0.392613      -0.058124\n",
              "3  0.435251  0.037258  ...         -0.392613      -0.058124\n",
              "4  0.435251  0.037258  ...         -0.392613      -0.058124\n",
              "\n",
              "[5 rows x 23 columns]"
            ]
          },
          "metadata": {
            "tags": []
          },
          "execution_count": 36
        }
      ]
    },
    {
      "cell_type": "code",
      "metadata": {
        "id": "AtnCaoUNgAcL",
        "colab_type": "code",
        "outputId": "eb06b5fe-cea0-49db-a8b9-56c17cc875e3",
        "colab": {
          "base_uri": "https://localhost:8080/",
          "height": 216
        }
      },
      "source": [
        "test_p.head()"
      ],
      "execution_count": 37,
      "outputs": [
        {
          "output_type": "execute_result",
          "data": {
            "text/html": [
              "<div>\n",
              "<style scoped>\n",
              "    .dataframe tbody tr th:only-of-type {\n",
              "        vertical-align: middle;\n",
              "    }\n",
              "\n",
              "    .dataframe tbody tr th {\n",
              "        vertical-align: top;\n",
              "    }\n",
              "\n",
              "    .dataframe thead th {\n",
              "        text-align: right;\n",
              "    }\n",
              "</style>\n",
              "<table border=\"1\" class=\"dataframe\">\n",
              "  <thead>\n",
              "    <tr style=\"text-align: right;\">\n",
              "      <th></th>\n",
              "      <th>Age</th>\n",
              "      <th>Ticket</th>\n",
              "      <th>Fare</th>\n",
              "      <th>Cabin</th>\n",
              "      <th>NumRelatives</th>\n",
              "      <th>Pclass_Second</th>\n",
              "      <th>Pclass_Third</th>\n",
              "      <th>Name_Master</th>\n",
              "      <th>Name_Miss</th>\n",
              "      <th>Name_Mr</th>\n",
              "      <th>Name_Mrs</th>\n",
              "      <th>Name_Other</th>\n",
              "      <th>Name_Rev</th>\n",
              "      <th>Sex_male</th>\n",
              "      <th>Embarked_Q</th>\n",
              "      <th>Embarked_S</th>\n",
              "      <th>Alone_Yes</th>\n",
              "      <th>AgeCat_YoungAdult</th>\n",
              "      <th>AgeCat_Adult</th>\n",
              "      <th>AgeCat_Senior</th>\n",
              "      <th>FareCat_Regular</th>\n",
              "      <th>FareCat_Business</th>\n",
              "      <th>FareCat_First</th>\n",
              "    </tr>\n",
              "  </thead>\n",
              "  <tbody>\n",
              "    <tr>\n",
              "      <th>0</th>\n",
              "      <td>0.396252</td>\n",
              "      <td>0.069338</td>\n",
              "      <td>-0.497063</td>\n",
              "      <td>0.500456</td>\n",
              "      <td>-0.553443</td>\n",
              "      <td>-0.534933</td>\n",
              "      <td>0.957826</td>\n",
              "      <td>-0.229993</td>\n",
              "      <td>-0.478969</td>\n",
              "      <td>0.861201</td>\n",
              "      <td>-0.456172</td>\n",
              "      <td>-0.098295</td>\n",
              "      <td>-0.069338</td>\n",
              "      <td>0.755929</td>\n",
              "      <td>2.843757</td>\n",
              "      <td>-1.350676</td>\n",
              "      <td>0.807573</td>\n",
              "      <td>-1.069388</td>\n",
              "      <td>1.488417</td>\n",
              "      <td>-0.164399</td>\n",
              "      <td>-0.709646</td>\n",
              "      <td>-0.413362</td>\n",
              "      <td>-0.04897</td>\n",
              "    </tr>\n",
              "    <tr>\n",
              "      <th>1</th>\n",
              "      <td>1.362608</td>\n",
              "      <td>0.069338</td>\n",
              "      <td>-0.511926</td>\n",
              "      <td>0.500456</td>\n",
              "      <td>0.105643</td>\n",
              "      <td>-0.534933</td>\n",
              "      <td>0.957826</td>\n",
              "      <td>-0.229993</td>\n",
              "      <td>-0.478969</td>\n",
              "      <td>-1.161169</td>\n",
              "      <td>2.192158</td>\n",
              "      <td>-0.098295</td>\n",
              "      <td>-0.069338</td>\n",
              "      <td>-1.322876</td>\n",
              "      <td>-0.351647</td>\n",
              "      <td>0.740370</td>\n",
              "      <td>-1.238278</td>\n",
              "      <td>-1.069388</td>\n",
              "      <td>1.488417</td>\n",
              "      <td>-0.164399</td>\n",
              "      <td>-0.709646</td>\n",
              "      <td>-0.413362</td>\n",
              "      <td>-0.04897</td>\n",
              "    </tr>\n",
              "    <tr>\n",
              "      <th>2</th>\n",
              "      <td>2.522236</td>\n",
              "      <td>0.069338</td>\n",
              "      <td>-0.463754</td>\n",
              "      <td>0.500456</td>\n",
              "      <td>-0.553443</td>\n",
              "      <td>1.869391</td>\n",
              "      <td>-1.044031</td>\n",
              "      <td>-0.229993</td>\n",
              "      <td>-0.478969</td>\n",
              "      <td>0.861201</td>\n",
              "      <td>-0.456172</td>\n",
              "      <td>-0.098295</td>\n",
              "      <td>-0.069338</td>\n",
              "      <td>0.755929</td>\n",
              "      <td>2.843757</td>\n",
              "      <td>-1.350676</td>\n",
              "      <td>0.807573</td>\n",
              "      <td>-1.069388</td>\n",
              "      <td>-0.671855</td>\n",
              "      <td>6.082763</td>\n",
              "      <td>-0.709646</td>\n",
              "      <td>-0.413362</td>\n",
              "      <td>-0.04897</td>\n",
              "    </tr>\n",
              "    <tr>\n",
              "      <th>3</th>\n",
              "      <td>-0.183561</td>\n",
              "      <td>0.069338</td>\n",
              "      <td>-0.482127</td>\n",
              "      <td>0.500456</td>\n",
              "      <td>-0.553443</td>\n",
              "      <td>-0.534933</td>\n",
              "      <td>0.957826</td>\n",
              "      <td>-0.229993</td>\n",
              "      <td>-0.478969</td>\n",
              "      <td>0.861201</td>\n",
              "      <td>-0.456172</td>\n",
              "      <td>-0.098295</td>\n",
              "      <td>-0.069338</td>\n",
              "      <td>0.755929</td>\n",
              "      <td>-0.351647</td>\n",
              "      <td>0.740370</td>\n",
              "      <td>0.807573</td>\n",
              "      <td>0.935115</td>\n",
              "      <td>-0.671855</td>\n",
              "      <td>-0.164399</td>\n",
              "      <td>-0.709646</td>\n",
              "      <td>-0.413362</td>\n",
              "      <td>-0.04897</td>\n",
              "    </tr>\n",
              "    <tr>\n",
              "      <th>4</th>\n",
              "      <td>-0.570104</td>\n",
              "      <td>0.069338</td>\n",
              "      <td>-0.417151</td>\n",
              "      <td>0.500456</td>\n",
              "      <td>0.764728</td>\n",
              "      <td>-0.534933</td>\n",
              "      <td>0.957826</td>\n",
              "      <td>-0.229993</td>\n",
              "      <td>-0.478969</td>\n",
              "      <td>-1.161169</td>\n",
              "      <td>2.192158</td>\n",
              "      <td>-0.098295</td>\n",
              "      <td>-0.069338</td>\n",
              "      <td>-1.322876</td>\n",
              "      <td>-0.351647</td>\n",
              "      <td>0.740370</td>\n",
              "      <td>-1.238278</td>\n",
              "      <td>0.935115</td>\n",
              "      <td>-0.671855</td>\n",
              "      <td>-0.164399</td>\n",
              "      <td>-0.709646</td>\n",
              "      <td>-0.413362</td>\n",
              "      <td>-0.04897</td>\n",
              "    </tr>\n",
              "  </tbody>\n",
              "</table>\n",
              "</div>"
            ],
            "text/plain": [
              "        Age    Ticket  ...  FareCat_Business  FareCat_First\n",
              "0  0.396252  0.069338  ...         -0.413362       -0.04897\n",
              "1  1.362608  0.069338  ...         -0.413362       -0.04897\n",
              "2  2.522236  0.069338  ...         -0.413362       -0.04897\n",
              "3 -0.183561  0.069338  ...         -0.413362       -0.04897\n",
              "4 -0.570104  0.069338  ...         -0.413362       -0.04897\n",
              "\n",
              "[5 rows x 23 columns]"
            ]
          },
          "metadata": {
            "tags": []
          },
          "execution_count": 37
        }
      ]
    },
    {
      "cell_type": "markdown",
      "metadata": {
        "id": "rAYwP3qT4Jtm",
        "colab_type": "text"
      },
      "source": [
        "**3 - Creating and training the model**"
      ]
    },
    {
      "cell_type": "markdown",
      "metadata": {
        "id": "vZB5y0KB78wp",
        "colab_type": "text"
      },
      "source": [
        "Firstly, we will train a RandomForest in order to analyze the feature importance."
      ]
    },
    {
      "cell_type": "code",
      "metadata": {
        "id": "FqBVeTkqkYtD",
        "colab_type": "code",
        "outputId": "0e2e9b33-0a22-40d6-d7b8-507c38937a75",
        "colab": {
          "base_uri": "https://localhost:8080/",
          "height": 756
        }
      },
      "source": [
        "seed = 42\n",
        "num_folds = 10\n",
        "scoring = {'Accuracy': make_scorer(accuracy_score)}\n",
        "\n",
        "kfold = StratifiedKFold(n_splits=num_folds,random_state=seed)\n",
        "rfc = RandomForestClassifier(oob_score = True, bootstrap = True)\n",
        "\n",
        "# Creating the traininig and testing sets.\n",
        "X_train, X_test, y_train, y_test = train_test_split(train_p,\n",
        "                                                    target,\n",
        "                                                    test_size=0.20,\n",
        "                                                    random_state=seed,\n",
        "                                                    shuffle=True,\n",
        "                                                    stratify=target)\n",
        "\n",
        "search_space = {\n",
        "    'n_estimators': [20, 50, 100],\n",
        "    'min_samples_split': [2, 4, 8],\n",
        "    'min_samples_leaf': [1, 2, 4],\n",
        "}\n",
        "\n",
        "grid = GridSearchCV(estimator=rfc, \n",
        "                    param_grid=search_space,\n",
        "                    cv=kfold,\n",
        "                    scoring=scoring,\n",
        "                    return_train_score=True,\n",
        "                    n_jobs=-1,\n",
        "                    refit=\"Accuracy\")\n",
        "\n",
        "\n",
        "# Train the RandomForest.\n",
        "best_model = grid.fit(X_train, y_train)\n",
        "\n",
        "estimator = best_model.best_estimator_\n",
        "print(estimator)\n",
        "\n",
        "# Showing first result.\n",
        "predict = estimator.predict(X_test)\n",
        "print(accuracy_score(y_test, predict))\n",
        "print(confusion_matrix(y_test, predict))\n",
        "print(classification_report(y_test, predict))\n",
        "\n",
        "# # Utilizando a biblioteca ELI5, exibe a feature importance da RandomForest.\n",
        "eli5.show_weights(estimator, show_feature_values=True, feature_names=X_train.columns.to_list())"
      ],
      "execution_count": 38,
      "outputs": [
        {
          "output_type": "stream",
          "text": [
            "RandomForestClassifier(bootstrap=True, class_weight=None, criterion='gini',\n",
            "                       max_depth=None, max_features='auto', max_leaf_nodes=None,\n",
            "                       min_impurity_decrease=0.0, min_impurity_split=None,\n",
            "                       min_samples_leaf=4, min_samples_split=2,\n",
            "                       min_weight_fraction_leaf=0.0, n_estimators=20,\n",
            "                       n_jobs=None, oob_score=True, random_state=None,\n",
            "                       verbose=0, warm_start=False)\n",
            "0.8212290502793296\n",
            "[[97 13]\n",
            " [19 50]]\n",
            "              precision    recall  f1-score   support\n",
            "\n",
            "           0       0.84      0.88      0.86       110\n",
            "           1       0.79      0.72      0.76        69\n",
            "\n",
            "    accuracy                           0.82       179\n",
            "   macro avg       0.81      0.80      0.81       179\n",
            "weighted avg       0.82      0.82      0.82       179\n",
            "\n"
          ],
          "name": "stdout"
        },
        {
          "output_type": "stream",
          "text": [
            "/usr/local/lib/python3.6/dist-packages/sklearn/model_selection/_search.py:814: DeprecationWarning: The default of the `iid` parameter will change from True to False in version 0.22 and will be removed in 0.24. This will change numeric results when test-set sizes are unequal.\n",
            "  DeprecationWarning)\n"
          ],
          "name": "stderr"
        },
        {
          "output_type": "execute_result",
          "data": {
            "text/html": [
              "\n",
              "    <style>\n",
              "    table.eli5-weights tr:hover {\n",
              "        filter: brightness(85%);\n",
              "    }\n",
              "</style>\n",
              "\n",
              "\n",
              "\n",
              "    \n",
              "\n",
              "    \n",
              "\n",
              "    \n",
              "\n",
              "    \n",
              "\n",
              "    \n",
              "\n",
              "    \n",
              "\n",
              "\n",
              "    \n",
              "\n",
              "    \n",
              "\n",
              "    \n",
              "\n",
              "    \n",
              "\n",
              "    \n",
              "\n",
              "    \n",
              "\n",
              "\n",
              "    \n",
              "\n",
              "    \n",
              "\n",
              "    \n",
              "\n",
              "    \n",
              "\n",
              "    \n",
              "        <table class=\"eli5-weights eli5-feature-importances\" style=\"border-collapse: collapse; border: none; margin-top: 0em; table-layout: auto;\">\n",
              "    <thead>\n",
              "    <tr style=\"border: none;\">\n",
              "        <th style=\"padding: 0 1em 0 0.5em; text-align: right; border: none;\">Weight</th>\n",
              "        <th style=\"padding: 0 0.5em 0 0.5em; text-align: left; border: none;\">Feature</th>\n",
              "    </tr>\n",
              "    </thead>\n",
              "    <tbody>\n",
              "    \n",
              "        <tr style=\"background-color: hsl(120, 100.00%, 80.00%); border: none;\">\n",
              "            <td style=\"padding: 0 1em 0 0.5em; text-align: right; border: none;\">\n",
              "                0.1981\n",
              "                \n",
              "                    &plusmn; 0.3452\n",
              "                \n",
              "            </td>\n",
              "            <td style=\"padding: 0 0.5em 0 0.5em; text-align: left; border: none;\">\n",
              "                Name_Mr\n",
              "            </td>\n",
              "        </tr>\n",
              "    \n",
              "        <tr style=\"background-color: hsl(120, 100.00%, 84.58%); border: none;\">\n",
              "            <td style=\"padding: 0 1em 0 0.5em; text-align: right; border: none;\">\n",
              "                0.1366\n",
              "                \n",
              "                    &plusmn; 0.3453\n",
              "                \n",
              "            </td>\n",
              "            <td style=\"padding: 0 0.5em 0 0.5em; text-align: left; border: none;\">\n",
              "                Sex_male\n",
              "            </td>\n",
              "        </tr>\n",
              "    \n",
              "        <tr style=\"background-color: hsl(120, 100.00%, 84.90%); border: none;\">\n",
              "            <td style=\"padding: 0 1em 0 0.5em; text-align: right; border: none;\">\n",
              "                0.1326\n",
              "                \n",
              "                    &plusmn; 0.1199\n",
              "                \n",
              "            </td>\n",
              "            <td style=\"padding: 0 0.5em 0 0.5em; text-align: left; border: none;\">\n",
              "                Fare\n",
              "            </td>\n",
              "        </tr>\n",
              "    \n",
              "        <tr style=\"background-color: hsl(120, 100.00%, 88.73%); border: none;\">\n",
              "            <td style=\"padding: 0 1em 0 0.5em; text-align: right; border: none;\">\n",
              "                0.0873\n",
              "                \n",
              "                    &plusmn; 0.1153\n",
              "                \n",
              "            </td>\n",
              "            <td style=\"padding: 0 0.5em 0 0.5em; text-align: left; border: none;\">\n",
              "                Age\n",
              "            </td>\n",
              "        </tr>\n",
              "    \n",
              "        <tr style=\"background-color: hsl(120, 100.00%, 90.77%); border: none;\">\n",
              "            <td style=\"padding: 0 1em 0 0.5em; text-align: right; border: none;\">\n",
              "                0.0656\n",
              "                \n",
              "                    &plusmn; 0.1746\n",
              "                \n",
              "            </td>\n",
              "            <td style=\"padding: 0 0.5em 0 0.5em; text-align: left; border: none;\">\n",
              "                Name_Miss\n",
              "            </td>\n",
              "        </tr>\n",
              "    \n",
              "        <tr style=\"background-color: hsl(120, 100.00%, 90.90%); border: none;\">\n",
              "            <td style=\"padding: 0 1em 0 0.5em; text-align: right; border: none;\">\n",
              "                0.0643\n",
              "                \n",
              "                    &plusmn; 0.1266\n",
              "                \n",
              "            </td>\n",
              "            <td style=\"padding: 0 0.5em 0 0.5em; text-align: left; border: none;\">\n",
              "                Pclass_Third\n",
              "            </td>\n",
              "        </tr>\n",
              "    \n",
              "        <tr style=\"background-color: hsl(120, 100.00%, 91.00%); border: none;\">\n",
              "            <td style=\"padding: 0 1em 0 0.5em; text-align: right; border: none;\">\n",
              "                0.0633\n",
              "                \n",
              "                    &plusmn; 0.1777\n",
              "                \n",
              "            </td>\n",
              "            <td style=\"padding: 0 0.5em 0 0.5em; text-align: left; border: none;\">\n",
              "                Cabin\n",
              "            </td>\n",
              "        </tr>\n",
              "    \n",
              "        <tr style=\"background-color: hsl(120, 100.00%, 91.37%); border: none;\">\n",
              "            <td style=\"padding: 0 1em 0 0.5em; text-align: right; border: none;\">\n",
              "                0.0596\n",
              "                \n",
              "                    &plusmn; 0.1811\n",
              "                \n",
              "            </td>\n",
              "            <td style=\"padding: 0 0.5em 0 0.5em; text-align: left; border: none;\">\n",
              "                Name_Mrs\n",
              "            </td>\n",
              "        </tr>\n",
              "    \n",
              "        <tr style=\"background-color: hsl(120, 100.00%, 92.27%); border: none;\">\n",
              "            <td style=\"padding: 0 1em 0 0.5em; text-align: right; border: none;\">\n",
              "                0.0509\n",
              "                \n",
              "                    &plusmn; 0.0741\n",
              "                \n",
              "            </td>\n",
              "            <td style=\"padding: 0 0.5em 0 0.5em; text-align: left; border: none;\">\n",
              "                NumRelatives\n",
              "            </td>\n",
              "        </tr>\n",
              "    \n",
              "        <tr style=\"background-color: hsl(120, 100.00%, 95.69%); border: none;\">\n",
              "            <td style=\"padding: 0 1em 0 0.5em; text-align: right; border: none;\">\n",
              "                0.0221\n",
              "                \n",
              "                    &plusmn; 0.0440\n",
              "                \n",
              "            </td>\n",
              "            <td style=\"padding: 0 0.5em 0 0.5em; text-align: left; border: none;\">\n",
              "                Embarked_S\n",
              "            </td>\n",
              "        </tr>\n",
              "    \n",
              "        <tr style=\"background-color: hsl(120, 100.00%, 95.87%); border: none;\">\n",
              "            <td style=\"padding: 0 1em 0 0.5em; text-align: right; border: none;\">\n",
              "                0.0208\n",
              "                \n",
              "                    &plusmn; 0.0266\n",
              "                \n",
              "            </td>\n",
              "            <td style=\"padding: 0 0.5em 0 0.5em; text-align: left; border: none;\">\n",
              "                Ticket\n",
              "            </td>\n",
              "        </tr>\n",
              "    \n",
              "        <tr style=\"background-color: hsl(120, 100.00%, 96.02%); border: none;\">\n",
              "            <td style=\"padding: 0 1em 0 0.5em; text-align: right; border: none;\">\n",
              "                0.0197\n",
              "                \n",
              "                    &plusmn; 0.0529\n",
              "                \n",
              "            </td>\n",
              "            <td style=\"padding: 0 0.5em 0 0.5em; text-align: left; border: none;\">\n",
              "                Alone_Yes\n",
              "            </td>\n",
              "        </tr>\n",
              "    \n",
              "        <tr style=\"background-color: hsl(120, 100.00%, 96.54%); border: none;\">\n",
              "            <td style=\"padding: 0 1em 0 0.5em; text-align: right; border: none;\">\n",
              "                0.0161\n",
              "                \n",
              "                    &plusmn; 0.0360\n",
              "                \n",
              "            </td>\n",
              "            <td style=\"padding: 0 0.5em 0 0.5em; text-align: left; border: none;\">\n",
              "                Pclass_Second\n",
              "            </td>\n",
              "        </tr>\n",
              "    \n",
              "        <tr style=\"background-color: hsl(120, 100.00%, 96.78%); border: none;\">\n",
              "            <td style=\"padding: 0 1em 0 0.5em; text-align: right; border: none;\">\n",
              "                0.0146\n",
              "                \n",
              "                    &plusmn; 0.0260\n",
              "                \n",
              "            </td>\n",
              "            <td style=\"padding: 0 0.5em 0 0.5em; text-align: left; border: none;\">\n",
              "                FareCat_Regular\n",
              "            </td>\n",
              "        </tr>\n",
              "    \n",
              "        <tr style=\"background-color: hsl(120, 100.00%, 97.19%); border: none;\">\n",
              "            <td style=\"padding: 0 1em 0 0.5em; text-align: right; border: none;\">\n",
              "                0.0120\n",
              "                \n",
              "                    &plusmn; 0.0210\n",
              "                \n",
              "            </td>\n",
              "            <td style=\"padding: 0 0.5em 0 0.5em; text-align: left; border: none;\">\n",
              "                AgeCat_Adult\n",
              "            </td>\n",
              "        </tr>\n",
              "    \n",
              "        <tr style=\"background-color: hsl(120, 100.00%, 97.76%); border: none;\">\n",
              "            <td style=\"padding: 0 1em 0 0.5em; text-align: right; border: none;\">\n",
              "                0.0087\n",
              "                \n",
              "                    &plusmn; 0.0286\n",
              "                \n",
              "            </td>\n",
              "            <td style=\"padding: 0 0.5em 0 0.5em; text-align: left; border: none;\">\n",
              "                Name_Master\n",
              "            </td>\n",
              "        </tr>\n",
              "    \n",
              "        <tr style=\"background-color: hsl(120, 100.00%, 97.76%); border: none;\">\n",
              "            <td style=\"padding: 0 1em 0 0.5em; text-align: right; border: none;\">\n",
              "                0.0087\n",
              "                \n",
              "                    &plusmn; 0.0219\n",
              "                \n",
              "            </td>\n",
              "            <td style=\"padding: 0 0.5em 0 0.5em; text-align: left; border: none;\">\n",
              "                Embarked_Q\n",
              "            </td>\n",
              "        </tr>\n",
              "    \n",
              "        <tr style=\"background-color: hsl(120, 100.00%, 97.80%); border: none;\">\n",
              "            <td style=\"padding: 0 1em 0 0.5em; text-align: right; border: none;\">\n",
              "                0.0085\n",
              "                \n",
              "                    &plusmn; 0.0189\n",
              "                \n",
              "            </td>\n",
              "            <td style=\"padding: 0 0.5em 0 0.5em; text-align: left; border: none;\">\n",
              "                FareCat_Business\n",
              "            </td>\n",
              "        </tr>\n",
              "    \n",
              "        <tr style=\"background-color: hsl(120, 100.00%, 98.09%); border: none;\">\n",
              "            <td style=\"padding: 0 1em 0 0.5em; text-align: right; border: none;\">\n",
              "                0.0069\n",
              "                \n",
              "                    &plusmn; 0.0188\n",
              "                \n",
              "            </td>\n",
              "            <td style=\"padding: 0 0.5em 0 0.5em; text-align: left; border: none;\">\n",
              "                AgeCat_YoungAdult\n",
              "            </td>\n",
              "        </tr>\n",
              "    \n",
              "        <tr style=\"background-color: hsl(120, 100.00%, 99.35%); border: none;\">\n",
              "            <td style=\"padding: 0 1em 0 0.5em; text-align: right; border: none;\">\n",
              "                0.0015\n",
              "                \n",
              "                    &plusmn; 0.0125\n",
              "                \n",
              "            </td>\n",
              "            <td style=\"padding: 0 0.5em 0 0.5em; text-align: left; border: none;\">\n",
              "                Name_Rev\n",
              "            </td>\n",
              "        </tr>\n",
              "    \n",
              "    \n",
              "        \n",
              "            <tr style=\"background-color: hsl(120, 100.00%, 99.35%); border: none;\">\n",
              "                <td colspan=\"2\" style=\"padding: 0 0.5em 0 0.5em; text-align: center; border: none; white-space: nowrap;\">\n",
              "                    <i>&hellip; 3 more &hellip;</i>\n",
              "                </td>\n",
              "            </tr>\n",
              "        \n",
              "    \n",
              "    </tbody>\n",
              "</table>\n",
              "    \n",
              "\n",
              "    \n",
              "\n",
              "\n",
              "    \n",
              "\n",
              "    \n",
              "\n",
              "    \n",
              "\n",
              "    \n",
              "\n",
              "    \n",
              "\n",
              "    \n",
              "\n",
              "\n",
              "\n"
            ],
            "text/plain": [
              "<IPython.core.display.HTML object>"
            ]
          },
          "metadata": {
            "tags": []
          },
          "execution_count": 38
        }
      ]
    },
    {
      "cell_type": "markdown",
      "metadata": {
        "id": "c7ZmG4ZEZKQM",
        "colab_type": "text"
      },
      "source": [
        "As we can see in the table above, the features related to the social class, the fare, the sex, and the age have the most importance during the classification. We will use this results to suggest different values of K for the SelectKBest during the grid search below. "
      ]
    },
    {
      "cell_type": "code",
      "metadata": {
        "id": "FiWgSSZR4Olw",
        "colab_type": "code",
        "outputId": "f399d7c9-fa52-46ec-8106-ba9b79a999bc",
        "colab": {
          "base_uri": "https://localhost:8080/",
          "height": 33
        }
      },
      "source": [
        "train_final = train_p\n",
        "test_final = test_p\n",
        "\n",
        "# Split the training dataset for the validation of the model.\n",
        "X_train, X_test, y_train, y_test = train_test_split(train_final,\n",
        "                                                    target,\n",
        "                                                    test_size=0.20,\n",
        "                                                    random_state=seed,\n",
        "                                                    shuffle=True,\n",
        "                                                    stratify=target)\n",
        "# Piple line using the SelectKBest and classifier.\n",
        "pipe = Pipeline(\n",
        "    steps=[\n",
        "           ('fs', SelectKBest()),\n",
        "           ('clf', RandomForestClassifier())\n",
        "    ]\n",
        ")\n",
        "\n",
        "# Search space.\n",
        "search_space = [\n",
        "  {\"clf\":[RandomForestClassifier()],\n",
        "    \"clf__n_estimators\": [50, 100],\n",
        "    \"clf__criterion\": [\"entropy\"],\n",
        "    \"clf__max_leaf_nodes\": [64],\n",
        "    \"clf__min_samples_split\": [4],\n",
        "    \"clf__random_state\": [seed],\n",
        "    \"fs__k\": [4, 10, 'all'],\n",
        "    },\n",
        "  {\"clf\":[XGBClassifier()],\n",
        "    \"clf__n_estimators\": [50, 100],\n",
        "    \"clf__max_depth\": [4],\n",
        "    \"clf__learning_rate\": [0.001, 0.01, 0.1],\n",
        "    \"clf__random_state\": [seed],\n",
        "    \"clf__subsample\": [1.0],\n",
        "    \"clf__colsample_bytree\": [1.0],\n",
        "    \"fs__k\": [4, 10, 'all'],\n",
        "    },\n",
        "]\n",
        "\n",
        "# Create the grid search.\n",
        "grid = GridSearchCV(estimator=pipe, \n",
        "                    param_grid=search_space,\n",
        "                    cv=kfold,\n",
        "                    scoring=scoring,\n",
        "                    return_train_score=True,\n",
        "                    n_jobs=-1,\n",
        "                    refit=\"Accuracy\")\n",
        "\n",
        "# Run the grid search.\n",
        "tmp = time.time()\n",
        "best_model = grid.fit(X_train, y_train)\n",
        "print(\"CPU Training Time: %s seconds\" % (str(time.time() - tmp))) "
      ],
      "execution_count": 39,
      "outputs": [
        {
          "output_type": "stream",
          "text": [
            "CPU Training Time: 15.555577039718628 seconds\n"
          ],
          "name": "stdout"
        }
      ]
    },
    {
      "cell_type": "code",
      "metadata": {
        "id": "MtCQqInYDLA6",
        "colab_type": "code",
        "outputId": "1659d741-4cb6-4ff7-94d4-9ef081d507b9",
        "colab": {
          "base_uri": "https://localhost:8080/",
          "height": 417
        }
      },
      "source": [
        "print(\"Best model: %f using %s\" % (best_model.best_score_, best_model.best_params_))\n",
        "\n",
        "result = pd.DataFrame(best_model.cv_results_)\n",
        "result.head()"
      ],
      "execution_count": 40,
      "outputs": [
        {
          "output_type": "stream",
          "text": [
            "Best model: 0.832865 using {'clf': RandomForestClassifier(bootstrap=True, class_weight=None, criterion='entropy',\n",
            "                       max_depth=None, max_features='auto', max_leaf_nodes=64,\n",
            "                       min_impurity_decrease=0.0, min_impurity_split=None,\n",
            "                       min_samples_leaf=1, min_samples_split=4,\n",
            "                       min_weight_fraction_leaf=0.0, n_estimators=100,\n",
            "                       n_jobs=None, oob_score=False, random_state=42, verbose=0,\n",
            "                       warm_start=False), 'clf__criterion': 'entropy', 'clf__max_leaf_nodes': 64, 'clf__min_samples_split': 4, 'clf__n_estimators': 100, 'clf__random_state': 42, 'fs__k': 'all'}\n"
          ],
          "name": "stdout"
        },
        {
          "output_type": "execute_result",
          "data": {
            "text/html": [
              "<div>\n",
              "<style scoped>\n",
              "    .dataframe tbody tr th:only-of-type {\n",
              "        vertical-align: middle;\n",
              "    }\n",
              "\n",
              "    .dataframe tbody tr th {\n",
              "        vertical-align: top;\n",
              "    }\n",
              "\n",
              "    .dataframe thead th {\n",
              "        text-align: right;\n",
              "    }\n",
              "</style>\n",
              "<table border=\"1\" class=\"dataframe\">\n",
              "  <thead>\n",
              "    <tr style=\"text-align: right;\">\n",
              "      <th></th>\n",
              "      <th>mean_fit_time</th>\n",
              "      <th>std_fit_time</th>\n",
              "      <th>mean_score_time</th>\n",
              "      <th>std_score_time</th>\n",
              "      <th>param_clf</th>\n",
              "      <th>param_clf__criterion</th>\n",
              "      <th>param_clf__max_leaf_nodes</th>\n",
              "      <th>param_clf__min_samples_split</th>\n",
              "      <th>param_clf__n_estimators</th>\n",
              "      <th>param_clf__random_state</th>\n",
              "      <th>param_fs__k</th>\n",
              "      <th>param_clf__colsample_bytree</th>\n",
              "      <th>param_clf__learning_rate</th>\n",
              "      <th>param_clf__max_depth</th>\n",
              "      <th>param_clf__subsample</th>\n",
              "      <th>params</th>\n",
              "      <th>split0_test_Accuracy</th>\n",
              "      <th>split1_test_Accuracy</th>\n",
              "      <th>split2_test_Accuracy</th>\n",
              "      <th>split3_test_Accuracy</th>\n",
              "      <th>split4_test_Accuracy</th>\n",
              "      <th>split5_test_Accuracy</th>\n",
              "      <th>split6_test_Accuracy</th>\n",
              "      <th>split7_test_Accuracy</th>\n",
              "      <th>split8_test_Accuracy</th>\n",
              "      <th>split9_test_Accuracy</th>\n",
              "      <th>mean_test_Accuracy</th>\n",
              "      <th>std_test_Accuracy</th>\n",
              "      <th>rank_test_Accuracy</th>\n",
              "      <th>split0_train_Accuracy</th>\n",
              "      <th>split1_train_Accuracy</th>\n",
              "      <th>split2_train_Accuracy</th>\n",
              "      <th>split3_train_Accuracy</th>\n",
              "      <th>split4_train_Accuracy</th>\n",
              "      <th>split5_train_Accuracy</th>\n",
              "      <th>split6_train_Accuracy</th>\n",
              "      <th>split7_train_Accuracy</th>\n",
              "      <th>split8_train_Accuracy</th>\n",
              "      <th>split9_train_Accuracy</th>\n",
              "      <th>mean_train_Accuracy</th>\n",
              "      <th>std_train_Accuracy</th>\n",
              "    </tr>\n",
              "  </thead>\n",
              "  <tbody>\n",
              "    <tr>\n",
              "      <th>0</th>\n",
              "      <td>0.110981</td>\n",
              "      <td>0.003324</td>\n",
              "      <td>0.008400</td>\n",
              "      <td>0.000336</td>\n",
              "      <td>(DecisionTreeClassifier(class_weight=None, cri...</td>\n",
              "      <td>entropy</td>\n",
              "      <td>64</td>\n",
              "      <td>4</td>\n",
              "      <td>50</td>\n",
              "      <td>42</td>\n",
              "      <td>4</td>\n",
              "      <td>NaN</td>\n",
              "      <td>NaN</td>\n",
              "      <td>NaN</td>\n",
              "      <td>NaN</td>\n",
              "      <td>{'clf': (DecisionTreeClassifier(class_weight=N...</td>\n",
              "      <td>0.722222</td>\n",
              "      <td>0.750000</td>\n",
              "      <td>0.791667</td>\n",
              "      <td>0.774648</td>\n",
              "      <td>0.802817</td>\n",
              "      <td>0.802817</td>\n",
              "      <td>0.859155</td>\n",
              "      <td>0.774648</td>\n",
              "      <td>0.704225</td>\n",
              "      <td>0.742857</td>\n",
              "      <td>0.772472</td>\n",
              "      <td>0.042758</td>\n",
              "      <td>18</td>\n",
              "      <td>0.796875</td>\n",
              "      <td>0.800000</td>\n",
              "      <td>0.789062</td>\n",
              "      <td>0.812793</td>\n",
              "      <td>0.798752</td>\n",
              "      <td>0.809672</td>\n",
              "      <td>0.803432</td>\n",
              "      <td>0.790952</td>\n",
              "      <td>0.804992</td>\n",
              "      <td>0.816199</td>\n",
              "      <td>0.802273</td>\n",
              "      <td>0.008470</td>\n",
              "    </tr>\n",
              "    <tr>\n",
              "      <th>1</th>\n",
              "      <td>0.128531</td>\n",
              "      <td>0.001396</td>\n",
              "      <td>0.009313</td>\n",
              "      <td>0.001347</td>\n",
              "      <td>(DecisionTreeClassifier(class_weight=None, cri...</td>\n",
              "      <td>entropy</td>\n",
              "      <td>64</td>\n",
              "      <td>4</td>\n",
              "      <td>50</td>\n",
              "      <td>42</td>\n",
              "      <td>10</td>\n",
              "      <td>NaN</td>\n",
              "      <td>NaN</td>\n",
              "      <td>NaN</td>\n",
              "      <td>NaN</td>\n",
              "      <td>{'clf': (DecisionTreeClassifier(class_weight=N...</td>\n",
              "      <td>0.763889</td>\n",
              "      <td>0.777778</td>\n",
              "      <td>0.847222</td>\n",
              "      <td>0.746479</td>\n",
              "      <td>0.816901</td>\n",
              "      <td>0.845070</td>\n",
              "      <td>0.873239</td>\n",
              "      <td>0.816901</td>\n",
              "      <td>0.788732</td>\n",
              "      <td>0.800000</td>\n",
              "      <td>0.807584</td>\n",
              "      <td>0.037981</td>\n",
              "      <td>9</td>\n",
              "      <td>0.901563</td>\n",
              "      <td>0.907813</td>\n",
              "      <td>0.903125</td>\n",
              "      <td>0.912637</td>\n",
              "      <td>0.914197</td>\n",
              "      <td>0.907956</td>\n",
              "      <td>0.901716</td>\n",
              "      <td>0.904836</td>\n",
              "      <td>0.904836</td>\n",
              "      <td>0.909657</td>\n",
              "      <td>0.906834</td>\n",
              "      <td>0.004169</td>\n",
              "    </tr>\n",
              "    <tr>\n",
              "      <th>2</th>\n",
              "      <td>0.135143</td>\n",
              "      <td>0.001556</td>\n",
              "      <td>0.009080</td>\n",
              "      <td>0.000438</td>\n",
              "      <td>(DecisionTreeClassifier(class_weight=None, cri...</td>\n",
              "      <td>entropy</td>\n",
              "      <td>64</td>\n",
              "      <td>4</td>\n",
              "      <td>50</td>\n",
              "      <td>42</td>\n",
              "      <td>all</td>\n",
              "      <td>NaN</td>\n",
              "      <td>NaN</td>\n",
              "      <td>NaN</td>\n",
              "      <td>NaN</td>\n",
              "      <td>{'clf': (DecisionTreeClassifier(class_weight=N...</td>\n",
              "      <td>0.750000</td>\n",
              "      <td>0.861111</td>\n",
              "      <td>0.875000</td>\n",
              "      <td>0.732394</td>\n",
              "      <td>0.845070</td>\n",
              "      <td>0.816901</td>\n",
              "      <td>0.901408</td>\n",
              "      <td>0.845070</td>\n",
              "      <td>0.802817</td>\n",
              "      <td>0.842857</td>\n",
              "      <td>0.827247</td>\n",
              "      <td>0.050528</td>\n",
              "      <td>3</td>\n",
              "      <td>0.928125</td>\n",
              "      <td>0.935937</td>\n",
              "      <td>0.915625</td>\n",
              "      <td>0.925117</td>\n",
              "      <td>0.925117</td>\n",
              "      <td>0.923557</td>\n",
              "      <td>0.920437</td>\n",
              "      <td>0.918877</td>\n",
              "      <td>0.929797</td>\n",
              "      <td>0.931464</td>\n",
              "      <td>0.925405</td>\n",
              "      <td>0.005838</td>\n",
              "    </tr>\n",
              "    <tr>\n",
              "      <th>3</th>\n",
              "      <td>0.212538</td>\n",
              "      <td>0.003287</td>\n",
              "      <td>0.015953</td>\n",
              "      <td>0.002910</td>\n",
              "      <td>(DecisionTreeClassifier(class_weight=None, cri...</td>\n",
              "      <td>entropy</td>\n",
              "      <td>64</td>\n",
              "      <td>4</td>\n",
              "      <td>100</td>\n",
              "      <td>42</td>\n",
              "      <td>4</td>\n",
              "      <td>NaN</td>\n",
              "      <td>NaN</td>\n",
              "      <td>NaN</td>\n",
              "      <td>NaN</td>\n",
              "      <td>{'clf': (DecisionTreeClassifier(class_weight=N...</td>\n",
              "      <td>0.722222</td>\n",
              "      <td>0.750000</td>\n",
              "      <td>0.791667</td>\n",
              "      <td>0.746479</td>\n",
              "      <td>0.802817</td>\n",
              "      <td>0.802817</td>\n",
              "      <td>0.859155</td>\n",
              "      <td>0.774648</td>\n",
              "      <td>0.760563</td>\n",
              "      <td>0.742857</td>\n",
              "      <td>0.775281</td>\n",
              "      <td>0.037907</td>\n",
              "      <td>17</td>\n",
              "      <td>0.796875</td>\n",
              "      <td>0.800000</td>\n",
              "      <td>0.789062</td>\n",
              "      <td>0.812793</td>\n",
              "      <td>0.798752</td>\n",
              "      <td>0.809672</td>\n",
              "      <td>0.803432</td>\n",
              "      <td>0.790952</td>\n",
              "      <td>0.803432</td>\n",
              "      <td>0.816199</td>\n",
              "      <td>0.802117</td>\n",
              "      <td>0.008433</td>\n",
              "    </tr>\n",
              "    <tr>\n",
              "      <th>4</th>\n",
              "      <td>0.264092</td>\n",
              "      <td>0.012285</td>\n",
              "      <td>0.016929</td>\n",
              "      <td>0.002863</td>\n",
              "      <td>(DecisionTreeClassifier(class_weight=None, cri...</td>\n",
              "      <td>entropy</td>\n",
              "      <td>64</td>\n",
              "      <td>4</td>\n",
              "      <td>100</td>\n",
              "      <td>42</td>\n",
              "      <td>10</td>\n",
              "      <td>NaN</td>\n",
              "      <td>NaN</td>\n",
              "      <td>NaN</td>\n",
              "      <td>NaN</td>\n",
              "      <td>{'clf': (DecisionTreeClassifier(class_weight=N...</td>\n",
              "      <td>0.750000</td>\n",
              "      <td>0.777778</td>\n",
              "      <td>0.847222</td>\n",
              "      <td>0.746479</td>\n",
              "      <td>0.816901</td>\n",
              "      <td>0.830986</td>\n",
              "      <td>0.873239</td>\n",
              "      <td>0.816901</td>\n",
              "      <td>0.788732</td>\n",
              "      <td>0.814286</td>\n",
              "      <td>0.806180</td>\n",
              "      <td>0.038679</td>\n",
              "      <td>11</td>\n",
              "      <td>0.909375</td>\n",
              "      <td>0.906250</td>\n",
              "      <td>0.906250</td>\n",
              "      <td>0.912637</td>\n",
              "      <td>0.911076</td>\n",
              "      <td>0.911076</td>\n",
              "      <td>0.906396</td>\n",
              "      <td>0.901716</td>\n",
              "      <td>0.904836</td>\n",
              "      <td>0.901869</td>\n",
              "      <td>0.907148</td>\n",
              "      <td>0.003617</td>\n",
              "    </tr>\n",
              "  </tbody>\n",
              "</table>\n",
              "</div>"
            ],
            "text/plain": [
              "   mean_fit_time  std_fit_time  ...  mean_train_Accuracy  std_train_Accuracy\n",
              "0       0.110981      0.003324  ...             0.802273            0.008470\n",
              "1       0.128531      0.001396  ...             0.906834            0.004169\n",
              "2       0.135143      0.001556  ...             0.925405            0.005838\n",
              "3       0.212538      0.003287  ...             0.802117            0.008433\n",
              "4       0.264092      0.012285  ...             0.907148            0.003617\n",
              "\n",
              "[5 rows x 41 columns]"
            ]
          },
          "metadata": {
            "tags": []
          },
          "execution_count": 40
        }
      ]
    },
    {
      "cell_type": "markdown",
      "metadata": {
        "id": "jxAGJwy3Gx2y",
        "colab_type": "text"
      },
      "source": [
        "Evaluting the model with the test set."
      ]
    },
    {
      "cell_type": "code",
      "metadata": {
        "id": "ZusmD98CGEc1",
        "colab_type": "code",
        "outputId": "8a5f0da8-7285-44a4-faf2-6a0932286a3a",
        "colab": {
          "base_uri": "https://localhost:8080/",
          "height": 217
        }
      },
      "source": [
        "prediction = best_model.best_estimator_.predict(X_test)\n",
        "print(accuracy_score(y_test, prediction))\n",
        "print(confusion_matrix(y_test, prediction))\n",
        "print(classification_report(y_test, prediction))"
      ],
      "execution_count": 41,
      "outputs": [
        {
          "output_type": "stream",
          "text": [
            "0.8324022346368715\n",
            "[[98 12]\n",
            " [18 51]]\n",
            "              precision    recall  f1-score   support\n",
            "\n",
            "           0       0.84      0.89      0.87       110\n",
            "           1       0.81      0.74      0.77        69\n",
            "\n",
            "    accuracy                           0.83       179\n",
            "   macro avg       0.83      0.82      0.82       179\n",
            "weighted avg       0.83      0.83      0.83       179\n",
            "\n"
          ],
          "name": "stdout"
        }
      ]
    },
    {
      "cell_type": "markdown",
      "metadata": {
        "id": "2gJlhKNgRGZ_",
        "colab_type": "text"
      },
      "source": [
        "The best model selected above was a random forest, with the following parameters:\n",
        "\n",
        "\n",
        "\n",
        "```\n",
        "{'clf': RandomForestClassifier(bootstrap=True, class_weight=None, criterion='entropy',\n",
        "                       max_depth=None, max_features='auto', max_leaf_nodes=64,\n",
        "                       min_impurity_decrease=0.0, min_impurity_split=None,\n",
        "                       min_samples_leaf=1, min_samples_split=4,\n",
        "                       min_weight_fraction_leaf=0.0, n_estimators=100,\n",
        "                       n_jobs=None, oob_score=False, random_state=42, verbose=0,\n",
        "                       warm_start=False), 'clf__criterion': 'entropy', 'clf__max_leaf_nodes': 64, 'clf__min_samples_split': 4, 'clf__n_estimators': 100, 'clf__random_state': 42, 'fs__k': 'all'}\n",
        "```\n",
        "\n"
      ]
    },
    {
      "cell_type": "markdown",
      "metadata": {
        "id": "K7nEpau9b8Ge",
        "colab_type": "text"
      },
      "source": [
        "This random forest could reform really well on the validation set for the model (X_test, y_test) - with data that the model has never seen -, so that it could reach a score of 0.83240. This is almost the same value of the score for the training set itself, which was 0.83286. Thus, this shows that the model is not overfitted nor underfitted."
      ]
    },
    {
      "cell_type": "markdown",
      "metadata": {
        "id": "DBoBUfSERQTL",
        "colab_type": "text"
      },
      "source": [
        "**4 - Final Result**\n",
        "\n",
        "After submitting the file above to Kaggle, it was possible to reach a score of 0.80382, what is a good result compared to the performance during the training of the model."
      ]
    },
    {
      "cell_type": "code",
      "metadata": {
        "id": "CskSWOP6cmUH",
        "colab_type": "code",
        "colab": {}
      },
      "source": [
        "predict_final = best_model.best_estimator_.predict(test_final)\n",
        "\n",
        "holdout_ids = test[\"PassengerId\"]\n",
        "submission_df = {\"PassengerId\": holdout_ids,\n",
        "                 \"Survived\": predict_final}\n",
        "submission = pd.DataFrame(submission_df)\n",
        "\n",
        "submission.to_csv(\"submission.csv\", index=False)"
      ],
      "execution_count": 0,
      "outputs": []
    }
  ]
}