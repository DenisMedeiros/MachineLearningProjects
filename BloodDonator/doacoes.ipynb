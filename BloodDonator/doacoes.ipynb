{
  "nbformat": 4,
  "nbformat_minor": 0,
  "metadata": {
    "colab": {
      "name": "doacoes.ipynb",
      "provenance": [],
      "collapsed_sections": []
    },
    "kernelspec": {
      "name": "python3",
      "display_name": "Python 3"
    }
  },
  "cells": [
    {
      "cell_type": "code",
      "metadata": {
        "id": "YMgDz6N8IYki",
        "colab_type": "code",
        "colab": {}
      },
      "source": [
        ""
      ],
      "execution_count": 0,
      "outputs": []
    },
    {
      "cell_type": "markdown",
      "metadata": {
        "id": "dP-2u8BsIbDT",
        "colab_type": "text"
      },
      "source": [
        "**1. Analisando e Prevendo Doação de Sangue**\n",
        "\n",
        "O objetivo deste projeto é analisar e criar um modelo de aprendizado de máquina em relação a uma base de dados de doares de sangue em uma unidade móvel de coleta em Taiwan. \n",
        "\n",
        "O Centro de Serviço de Tranfusão de Sangue (em Inglês, *Blood Transfusion Service Cente*), a qual esta base de dados foi obtida, basicamenmte dirige-se a diversas universidades e realiza a coleta de alunos, professores e demais membros da universidade. Assim, o objetivo deste modelo é tentar prever se um determinado doador doará sangue novamente quando a unidade móvel visitar a mesma universidade, ou seja, é um problema de classificação do tipo binário (apenas duas possibilidades), em que 1 siginifica que ele doará e 0 que não.\n",
        "\n",
        "A base de dados consiste em um arquivo estruturado no formato CSV, o que facilita sua análise e manipulação utilizando a biblioteca Pandas. Então, a primeira tarefa é analisar a formatação do arquivo, bem como a organização das colunas.\n",
        "\n",
        "\n",
        "\n",
        "\n",
        "\n"
      ]
    },
    {
      "cell_type": "code",
      "metadata": {
        "id": "ke9SPDqcOMDs",
        "colab_type": "code",
        "outputId": "08cc234e-65f7-478a-971f-ab2d1e2fd0aa",
        "colab": {
          "base_uri": "https://localhost:8080/",
          "height": 105
        }
      },
      "source": [
        "# Verificando a estrutura inicial do arquivo.\n",
        "!head -n 5 doacoes.csv"
      ],
      "execution_count": 104,
      "outputs": [
        {
          "output_type": "stream",
          "text": [
            "Recency (months),Frequency (times),Monetary (c.c. blood),Time (months),\"whether he/she donated blood in March 2007\"\r\n",
            "2 ,50,12500,98 ,1\r\n",
            "0 ,13,3250,28 ,1\r\n",
            "1 ,16,4000,35 ,1\r\n",
            "2 ,20,5000,45 ,1\r\n"
          ],
          "name": "stdout"
        }
      ]
    },
    {
      "cell_type": "markdown",
      "metadata": {
        "id": "QtJatkWuOwiU",
        "colab_type": "text"
      },
      "source": [
        "Como se verifica acima, é um arquivo CSV bem estruturado e separado por virgulas. O proximo passo é identificar a quantidade de entradas (linhas) nele:"
      ]
    },
    {
      "cell_type": "code",
      "metadata": {
        "id": "YNcyqc_CO759",
        "colab_type": "code",
        "outputId": "5bff0432-ab78-4a22-9781-e7ed4e53d5b3",
        "colab": {
          "base_uri": "https://localhost:8080/",
          "height": 34
        }
      },
      "source": [
        "# Verificando o número de linhas do arquivo.\n",
        "!wc -l doacoes.csv"
      ],
      "execution_count": 105,
      "outputs": [
        {
          "output_type": "stream",
          "text": [
            "748 doacoes.csv\n"
          ],
          "name": "stdout"
        }
      ]
    },
    {
      "cell_type": "markdown",
      "metadata": {
        "id": "agVVZZ2eO_tV",
        "colab_type": "text"
      },
      "source": [
        "Desconsiderando a primeira linha, que contém o nome das colunas, esse banco de dados possui 747 entradas."
      ]
    },
    {
      "cell_type": "markdown",
      "metadata": {
        "id": "hfKv7I9VPMY9",
        "colab_type": "text"
      },
      "source": [
        "**2. Importando e Organizando o Banco de Dados**\n",
        "\n",
        "Como se viu anteriormente, o arquivo está bem estruturado e pode ser importando utilizando Pandas."
      ]
    },
    {
      "cell_type": "code",
      "metadata": {
        "id": "YkoLYleRPkI2",
        "colab_type": "code",
        "outputId": "996263ba-b489-4f2c-c554-c99643c9667a",
        "colab": {
          "base_uri": "https://localhost:8080/",
          "height": 371
        }
      },
      "source": [
        "import pandas as pd\n",
        "\n",
        "# Importa o arquivo CSV como um DataFrame.\n",
        "dados = pd.read_csv('doacoes.csv',  sep=',')\n",
        "\n",
        "# Exibe informações sobre o banco de dados.\n",
        "dados.info()\n",
        "\n",
        "# Exibe as primeiras 5 linhas.\n",
        "dados.head(5)"
      ],
      "execution_count": 106,
      "outputs": [
        {
          "output_type": "stream",
          "text": [
            "<class 'pandas.core.frame.DataFrame'>\n",
            "RangeIndex: 748 entries, 0 to 747\n",
            "Data columns (total 5 columns):\n",
            "Recency (months)                              748 non-null int64\n",
            "Frequency (times)                             748 non-null int64\n",
            "Monetary (c.c. blood)                         748 non-null int64\n",
            "Time (months)                                 748 non-null int64\n",
            "whether he/she donated blood in March 2007    748 non-null int64\n",
            "dtypes: int64(5)\n",
            "memory usage: 29.3 KB\n"
          ],
          "name": "stdout"
        },
        {
          "output_type": "execute_result",
          "data": {
            "text/html": [
              "<div>\n",
              "<style scoped>\n",
              "    .dataframe tbody tr th:only-of-type {\n",
              "        vertical-align: middle;\n",
              "    }\n",
              "\n",
              "    .dataframe tbody tr th {\n",
              "        vertical-align: top;\n",
              "    }\n",
              "\n",
              "    .dataframe thead th {\n",
              "        text-align: right;\n",
              "    }\n",
              "</style>\n",
              "<table border=\"1\" class=\"dataframe\">\n",
              "  <thead>\n",
              "    <tr style=\"text-align: right;\">\n",
              "      <th></th>\n",
              "      <th>Recency (months)</th>\n",
              "      <th>Frequency (times)</th>\n",
              "      <th>Monetary (c.c. blood)</th>\n",
              "      <th>Time (months)</th>\n",
              "      <th>whether he/she donated blood in March 2007</th>\n",
              "    </tr>\n",
              "  </thead>\n",
              "  <tbody>\n",
              "    <tr>\n",
              "      <th>0</th>\n",
              "      <td>2</td>\n",
              "      <td>50</td>\n",
              "      <td>12500</td>\n",
              "      <td>98</td>\n",
              "      <td>1</td>\n",
              "    </tr>\n",
              "    <tr>\n",
              "      <th>1</th>\n",
              "      <td>0</td>\n",
              "      <td>13</td>\n",
              "      <td>3250</td>\n",
              "      <td>28</td>\n",
              "      <td>1</td>\n",
              "    </tr>\n",
              "    <tr>\n",
              "      <th>2</th>\n",
              "      <td>1</td>\n",
              "      <td>16</td>\n",
              "      <td>4000</td>\n",
              "      <td>35</td>\n",
              "      <td>1</td>\n",
              "    </tr>\n",
              "    <tr>\n",
              "      <th>3</th>\n",
              "      <td>2</td>\n",
              "      <td>20</td>\n",
              "      <td>5000</td>\n",
              "      <td>45</td>\n",
              "      <td>1</td>\n",
              "    </tr>\n",
              "    <tr>\n",
              "      <th>4</th>\n",
              "      <td>1</td>\n",
              "      <td>24</td>\n",
              "      <td>6000</td>\n",
              "      <td>77</td>\n",
              "      <td>0</td>\n",
              "    </tr>\n",
              "  </tbody>\n",
              "</table>\n",
              "</div>"
            ],
            "text/plain": [
              "   Recency (months)  ...  whether he/she donated blood in March 2007\n",
              "0                 2  ...                                           1\n",
              "1                 0  ...                                           1\n",
              "2                 1  ...                                           1\n",
              "3                 2  ...                                           1\n",
              "4                 1  ...                                           0\n",
              "\n",
              "[5 rows x 5 columns]"
            ]
          },
          "metadata": {
            "tags": []
          },
          "execution_count": 106
        }
      ]
    },
    {
      "cell_type": "markdown",
      "metadata": {
        "id": "Sejg8fHMQCkn",
        "colab_type": "text"
      },
      "source": [
        "Como se vê acima, os dados foram importados corretamente e todas as colunas já são valores numéricos, o que é um requisito para os algoritmos de aprendizagem de máquina. Além disso, percebe que as quatro primeiras colunas são as *features* e a última é a *label*, isto é, o valor binário ou booleano que representa o fato do indivíduo doar novamente ou não. \n",
        "\n",
        "Então, para melhorar a apresentação dos dados, as colunas serão renomeadas a seguir.\n",
        "\n"
      ]
    },
    {
      "cell_type": "code",
      "metadata": {
        "id": "gZOHqDvdRNQp",
        "colab_type": "code",
        "outputId": "2d34f324-3f31-490b-e2d2-57cff0271994",
        "colab": {
          "base_uri": "https://localhost:8080/",
          "height": 195
        }
      },
      "source": [
        "# Renomeia todas as colunas.\n",
        "dados.rename(columns = {\n",
        "      'Recency (months)':'num_meses_ultima_doacao',\n",
        "      'Frequency (times)':'num_vezes',\n",
        "      'Monetary (c.c. blood)': 'valor_recebido',\n",
        "      'Time (months)': 'meses',\n",
        "      'whether he/she donated blood in March 2007': 'doara_novamente',\n",
        "    },\n",
        "    inplace = True\n",
        ")\n",
        "\n",
        "# Exibe a norma estrutura de nomes das colunas.\n",
        "dados.head(5)"
      ],
      "execution_count": 107,
      "outputs": [
        {
          "output_type": "execute_result",
          "data": {
            "text/html": [
              "<div>\n",
              "<style scoped>\n",
              "    .dataframe tbody tr th:only-of-type {\n",
              "        vertical-align: middle;\n",
              "    }\n",
              "\n",
              "    .dataframe tbody tr th {\n",
              "        vertical-align: top;\n",
              "    }\n",
              "\n",
              "    .dataframe thead th {\n",
              "        text-align: right;\n",
              "    }\n",
              "</style>\n",
              "<table border=\"1\" class=\"dataframe\">\n",
              "  <thead>\n",
              "    <tr style=\"text-align: right;\">\n",
              "      <th></th>\n",
              "      <th>num_meses_ultima_doacao</th>\n",
              "      <th>num_vezes</th>\n",
              "      <th>valor_recebido</th>\n",
              "      <th>meses</th>\n",
              "      <th>doara_novamente</th>\n",
              "    </tr>\n",
              "  </thead>\n",
              "  <tbody>\n",
              "    <tr>\n",
              "      <th>0</th>\n",
              "      <td>2</td>\n",
              "      <td>50</td>\n",
              "      <td>12500</td>\n",
              "      <td>98</td>\n",
              "      <td>1</td>\n",
              "    </tr>\n",
              "    <tr>\n",
              "      <th>1</th>\n",
              "      <td>0</td>\n",
              "      <td>13</td>\n",
              "      <td>3250</td>\n",
              "      <td>28</td>\n",
              "      <td>1</td>\n",
              "    </tr>\n",
              "    <tr>\n",
              "      <th>2</th>\n",
              "      <td>1</td>\n",
              "      <td>16</td>\n",
              "      <td>4000</td>\n",
              "      <td>35</td>\n",
              "      <td>1</td>\n",
              "    </tr>\n",
              "    <tr>\n",
              "      <th>3</th>\n",
              "      <td>2</td>\n",
              "      <td>20</td>\n",
              "      <td>5000</td>\n",
              "      <td>45</td>\n",
              "      <td>1</td>\n",
              "    </tr>\n",
              "    <tr>\n",
              "      <th>4</th>\n",
              "      <td>1</td>\n",
              "      <td>24</td>\n",
              "      <td>6000</td>\n",
              "      <td>77</td>\n",
              "      <td>0</td>\n",
              "    </tr>\n",
              "  </tbody>\n",
              "</table>\n",
              "</div>"
            ],
            "text/plain": [
              "   num_meses_ultima_doacao  num_vezes  valor_recebido  meses  doara_novamente\n",
              "0                        2         50           12500     98                1\n",
              "1                        0         13            3250     28                1\n",
              "2                        1         16            4000     35                1\n",
              "3                        2         20            5000     45                1\n",
              "4                        1         24            6000     77                0"
            ]
          },
          "metadata": {
            "tags": []
          },
          "execution_count": 107
        }
      ]
    },
    {
      "cell_type": "markdown",
      "metadata": {
        "id": "v9vJAvCtSRza",
        "colab_type": "text"
      },
      "source": [
        "**3. Analisando os Dados em Detalhes**\n",
        "\n",
        "O passo seguinte é verificar como é a distribuição da *label* de interesse, como forma de decidir como o processamento dos dados será feito."
      ]
    },
    {
      "cell_type": "code",
      "metadata": {
        "id": "nS-FRllVS0gd",
        "colab_type": "code",
        "outputId": "18531f34-4033-4bc8-cfd3-09ef4094ca8a",
        "colab": {
          "base_uri": "https://localhost:8080/",
          "height": 70
        }
      },
      "source": [
        "# Exibie a distribuição dos dados em relação a coluna alvo.\n",
        "dados.doara_novamente.value_counts(normalize=True)"
      ],
      "execution_count": 108,
      "outputs": [
        {
          "output_type": "execute_result",
          "data": {
            "text/plain": [
              "0    0.762032\n",
              "1    0.237968\n",
              "Name: doara_novamente, dtype: float64"
            ]
          },
          "metadata": {
            "tags": []
          },
          "execution_count": 108
        }
      ]
    },
    {
      "cell_type": "markdown",
      "metadata": {
        "id": "MNKQrwfPTAzl",
        "colab_type": "text"
      },
      "source": [
        "Como se vê, a quantidade de não reincidência de doação é muito maior, logo durante a divisão dos conjuntos treinamento e teste isto deve ser levado em consideração.\n",
        "\n",
        "O passo seguinte é verificar a variância da base de dados."
      ]
    },
    {
      "cell_type": "code",
      "metadata": {
        "id": "7lTnOLMCWIFa",
        "colab_type": "code",
        "outputId": "8763ffcc-d219-4d1d-facb-fcbaa71e660b",
        "colab": {
          "base_uri": "https://localhost:8080/",
          "height": 122
        }
      },
      "source": [
        "# Exibe a variância.\n",
        "\n",
        "dados.var().round(3)"
      ],
      "execution_count": 109,
      "outputs": [
        {
          "output_type": "execute_result",
          "data": {
            "text/plain": [
              "num_meses_ultima_doacao         65.535\n",
              "num_vezes                       34.098\n",
              "valor_recebido             2131094.230\n",
              "meses                          594.224\n",
              "doara_novamente                  0.182\n",
              "dtype: float64"
            ]
          },
          "metadata": {
            "tags": []
          },
          "execution_count": 109
        }
      ]
    },
    {
      "cell_type": "markdown",
      "metadata": {
        "id": "0SrnYSAuWLkC",
        "colab_type": "text"
      },
      "source": [
        "Como se vê, a ordem de grandeza da *feature* valor_recebido é muito maior que as demais. Logo, é interessante realizar a normalização desta coluna."
      ]
    },
    {
      "cell_type": "code",
      "metadata": {
        "id": "SA75wW0RWXfO",
        "colab_type": "code",
        "outputId": "da864307-f9dd-4256-81a0-3bc28e141a2d",
        "colab": {
          "base_uri": "https://localhost:8080/",
          "height": 122
        }
      },
      "source": [
        "import numpy as np\n",
        "\n",
        "# Cria uma nova coluna normalizando os valores recebidos.\n",
        "dados['valor_recebido_norm'] = np.log(dados.valor_recebido)\n",
        "\n",
        "# Remove a coluna não normalizada.\n",
        "dados.drop(columns=('valor_recebido'), inplace=True)\n",
        "\n",
        "# Calcula a variância novamente.\n",
        "dados.var().round(3)"
      ],
      "execution_count": 110,
      "outputs": [
        {
          "output_type": "execute_result",
          "data": {
            "text/plain": [
              "num_meses_ultima_doacao     65.535\n",
              "num_vezes                   34.098\n",
              "meses                      594.224\n",
              "doara_novamente              0.182\n",
              "valor_recebido_norm          0.836\n",
              "dtype: float64"
            ]
          },
          "metadata": {
            "tags": []
          },
          "execution_count": 110
        }
      ]
    },
    {
      "cell_type": "markdown",
      "metadata": {
        "id": "O92QLTAdThWx",
        "colab_type": "text"
      },
      "source": [
        "**4. Preparando os Conjuntos de Treinamento e de Teste**\n",
        "\n",
        "O primeiro passo durante a preparação dos conjuntos de treinamento e este é verificar quais *features* possuem maior relevância. Esse processo é feito a seguir:\n",
        "\n",
        "Com os resultados acima, é possível criar os conjuntos de treinamento e teste."
      ]
    },
    {
      "cell_type": "code",
      "metadata": {
        "id": "ob_zakkHzlBL",
        "colab_type": "code",
        "outputId": "6d2c2dcc-087e-49b7-a9dc-d49eaa365bf6",
        "colab": {
          "base_uri": "https://localhost:8080/",
          "height": 34
        }
      },
      "source": [
        "from sklearn.feature_selection import SelectKBest\n",
        "from sklearn.feature_selection import chi2\n",
        "\n",
        "# Cria o X e o y.\n",
        "X = dados.drop(labels=\"doara_novamente\", axis=1)\n",
        "y = dados.doara_novamente\n",
        "\n",
        "test = SelectKBest(score_func=chi2, k='all')\n",
        "test.fit(X, y)\n",
        "\n",
        "# Exibe o resultado.\n",
        "test.scores_"
      ],
      "execution_count": 111,
      "outputs": [
        {
          "output_type": "execute_result",
          "data": {
            "text/plain": [
              "array([403.34516772, 220.77712112,  16.64519234,   4.56146679])"
            ]
          },
          "metadata": {
            "tags": []
          },
          "execution_count": 111
        }
      ]
    },
    {
      "cell_type": "markdown",
      "metadata": {
        "id": "MxX2jHf0zzCa",
        "colab_type": "text"
      },
      "source": [
        "Como se vê, os dois primeiros *features* possuem muito mais relevância no conjunto de dados (ordem de grandeza muito maior que os dois últimos). Logo, os dois últimos podem ser descartados neste ponto."
      ]
    },
    {
      "cell_type": "code",
      "metadata": {
        "id": "wvLTC8Xp10d0",
        "colab_type": "code",
        "colab": {}
      },
      "source": [
        "X.drop(columns=['valor_recebido_norm', 'meses'], axis=1, inplace=True)"
      ],
      "execution_count": 0,
      "outputs": []
    },
    {
      "cell_type": "code",
      "metadata": {
        "id": "4OD13G4-T0Xm",
        "colab_type": "code",
        "outputId": "df08f8f3-e1d1-4447-98db-7ed82db991cd",
        "colab": {
          "base_uri": "https://localhost:8080/",
          "height": 195
        }
      },
      "source": [
        "from sklearn.model_selection import train_test_split\n",
        "\n",
        "# Cria os conjuntos de treinamento e teste.\n",
        "X_train, X_test, y_train, y_test = train_test_split(X,\n",
        "                                                   y,\n",
        "                                                    test_size=0.20,\n",
        "                                                    random_state=42,\n",
        "                                                    shuffle=True,\n",
        "                                                    stratify=dados.doara_novamente)\n",
        "\n",
        "# Exibe a estrutura basica do X de treinamento\n",
        "X_train.head(5)\n",
        "\n"
      ],
      "execution_count": 113,
      "outputs": [
        {
          "output_type": "execute_result",
          "data": {
            "text/html": [
              "<div>\n",
              "<style scoped>\n",
              "    .dataframe tbody tr th:only-of-type {\n",
              "        vertical-align: middle;\n",
              "    }\n",
              "\n",
              "    .dataframe tbody tr th {\n",
              "        vertical-align: top;\n",
              "    }\n",
              "\n",
              "    .dataframe thead th {\n",
              "        text-align: right;\n",
              "    }\n",
              "</style>\n",
              "<table border=\"1\" class=\"dataframe\">\n",
              "  <thead>\n",
              "    <tr style=\"text-align: right;\">\n",
              "      <th></th>\n",
              "      <th>num_meses_ultima_doacao</th>\n",
              "      <th>num_vezes</th>\n",
              "    </tr>\n",
              "  </thead>\n",
              "  <tbody>\n",
              "    <tr>\n",
              "      <th>529</th>\n",
              "      <td>2</td>\n",
              "      <td>6</td>\n",
              "    </tr>\n",
              "    <tr>\n",
              "      <th>271</th>\n",
              "      <td>16</td>\n",
              "      <td>7</td>\n",
              "    </tr>\n",
              "    <tr>\n",
              "      <th>455</th>\n",
              "      <td>21</td>\n",
              "      <td>1</td>\n",
              "    </tr>\n",
              "    <tr>\n",
              "      <th>175</th>\n",
              "      <td>11</td>\n",
              "      <td>10</td>\n",
              "    </tr>\n",
              "    <tr>\n",
              "      <th>309</th>\n",
              "      <td>16</td>\n",
              "      <td>3</td>\n",
              "    </tr>\n",
              "  </tbody>\n",
              "</table>\n",
              "</div>"
            ],
            "text/plain": [
              "     num_meses_ultima_doacao  num_vezes\n",
              "529                        2          6\n",
              "271                       16          7\n",
              "455                       21          1\n",
              "175                       11         10\n",
              "309                       16          3"
            ]
          },
          "metadata": {
            "tags": []
          },
          "execution_count": 113
        }
      ]
    },
    {
      "cell_type": "code",
      "metadata": {
        "id": "jZC-b9CTV3xE",
        "colab_type": "code",
        "colab": {}
      },
      "source": [
        ""
      ],
      "execution_count": 0,
      "outputs": []
    },
    {
      "cell_type": "markdown",
      "metadata": {
        "id": "kSDfNvbOUdWB",
        "colab_type": "text"
      },
      "source": [
        "**5. Selecionando o Modelo de Aprendizagem de Máquina**\n",
        "\n",
        "Para se escolher o modelo de aprendizagem de máquina, serão avaliados os seguintes modelos:\n",
        "- Árvore de Decisão\n",
        "- KNN\n",
        "- Regressão Logística\n",
        "\n",
        "Todos os modelos acima passão por um processo de otimização dos hiper-parâmetros com o intuito de se obter o melhor modelo ao final baseando-se "
      ]
    },
    {
      "cell_type": "code",
      "metadata": {
        "id": "6vUVysbXVQ6U",
        "colab_type": "code",
        "outputId": "df6d3301-c93d-4d59-ad9c-ffb28b413245",
        "colab": {
          "base_uri": "https://localhost:8080/",
          "height": 122
        }
      },
      "source": [
        "# Modelos a serem testados e escolhidos\n",
        "from sklearn.tree import DecisionTreeClassifier\n",
        "from sklearn.neighbors import KNeighborsClassifier\n",
        "from sklearn.linear_model import LogisticRegression\n",
        "from sklearn.model_selection import GridSearchCV, KFold\n",
        "from sklearn.metrics import accuracy_score\n",
        "\n",
        "# Definindo os espaços de busca para os hiper parâmetros.\n",
        "dt_param_grid = {\n",
        "  'max_depth': np.arange(1, 10, 1),\n",
        "  'criterion': ('gini', 'entropy'),\n",
        "}\n",
        "\n",
        "knn_param_grid = {\n",
        "    'n_neighbors': np.arange(1, 21, 2),\n",
        "    'weights': ('uniform', 'distance')\n",
        "}\n",
        "\n",
        "lr_param_grid = {\n",
        "    'penalty': ('l1', 'l2'),\n",
        "    'C': np.logspace(0, 4, 10),\n",
        "    'solver': ('liblinear',),\n",
        "}\n",
        "\n",
        "# Define a validação cruzada de tamanho 5.\n",
        "kf = KFold(5, shuffle=True, random_state=1)\n",
        "\n",
        "# Resultados para a árvore de decisão.\n",
        "dt_grid = GridSearchCV(DecisionTreeClassifier(), param_grid, cv=kf, scoring='accuracy')\n",
        "dt_best_model = dt_grid.fit(X_train, y_train)\n",
        "dt_preds = dt_best_model.predict(X_test)\n",
        "\n",
        "print(\"[DecisionTreeClassifier] Melhor score: %f com os parâmetros %s,\" % (dt_best_model.best_score_, dt_best_model.best_params_))\n",
        "print(\"[DecisionTreeClassifier] Score do conjunto treinamento: \", accuracy_score(y_test, dt_preds))\n",
        "\n",
        "# Resultados para o KNN.\n",
        "\n",
        "knn_grid = GridSearchCV(KNeighborsClassifier(), knn_param_grid, cv=kf, scoring='accuracy')\n",
        "knn_best_model = knn_grid.fit(X_train, y_train)\n",
        "knn_preds = knn_best_model.predict(X_test)\n",
        "\n",
        "print(\"[KNeighborsClassifier] Melhor score: %f com os parâmetros %s,\" % (knn_best_model.best_score_, knn_best_model.best_params_))\n",
        "print(\"[KNeighborsClassifier] Score do conjunto treinamento: \", accuracy_score(y_test, knn_preds))\n",
        "\n",
        "# Resultados para Regressão Logística.\n",
        "lr_grid = GridSearchCV(LogisticRegression(), lr_param_grid, cv=kf, scoring='accuracy')\n",
        "lr_best_model = lr_grid.fit(X_train, y_train)\n",
        "lr_preds = lr_best_model.predict(X_test)\n",
        "\n",
        "print(\"[LogisticRegression] Melhor score: %f com os parâmetros %s,\" % (lr_best_model.best_score_, lr_best_model.best_params_))\n",
        "print(\"[LogisticRegression] Score do conjunto treinamento: \", accuracy_score(y_test, lr_preds))"
      ],
      "execution_count": 114,
      "outputs": [
        {
          "output_type": "stream",
          "text": [
            "[DecisionTreeClassifier] Melhor score: 0.767559 com os parâmetros {'criterion': 'entropy', 'max_depth': 3},\n",
            "[DecisionTreeClassifier] Score do conjunto treinamento:  0.7733333333333333\n",
            "[KNeighborsClassifier] Melhor score: 0.765886 com os parâmetros {'n_neighbors': 17, 'weights': 'distance'},\n",
            "[KNeighborsClassifier] Score do conjunto treinamento:  0.78\n",
            "[LogisticRegression] Melhor score: 0.765886 com os parâmetros {'C': 1.0, 'penalty': 'l1', 'solver': 'liblinear'},\n",
            "[LogisticRegression] Score do conjunto treinamento:  0.7733333333333333\n"
          ],
          "name": "stdout"
        }
      ]
    },
    {
      "cell_type": "markdown",
      "metadata": {
        "id": "9sKqZ4b62dAw",
        "colab_type": "text"
      },
      "source": [
        "**6. Conclusão**\n",
        "\n",
        "Com base nos resultados acima, nota-se que todos os modelos apresentaram resultados similares, com acurácia em torno de 77% para todos os casos. Porém, o modelo recomendado neste caso é o de Regressão Logística por possuir menor custo computacional."
      ]
    },
    {
      "cell_type": "code",
      "metadata": {
        "id": "oKNIGDZD24VN",
        "colab_type": "code",
        "outputId": "81c89009-d367-495d-bc81-49d4fd403a58",
        "colab": {
          "base_uri": "https://localhost:8080/",
          "height": 52
        }
      },
      "source": [
        "from sklearn.metrics import confusion_matrix\n",
        "\n",
        "final_model = LogisticRegression(C=1.0, penalty='l1', solver='liblinear')\n",
        "final_model.fit(X, y)\n",
        "preds = final_model.predict(X_test)\n",
        "\n",
        "confusion_matrix(y_test, preds)"
      ],
      "execution_count": 115,
      "outputs": [
        {
          "output_type": "execute_result",
          "data": {
            "text/plain": [
              "array([[113,   1],\n",
              "       [ 33,   3]])"
            ]
          },
          "metadata": {
            "tags": []
          },
          "execution_count": 115
        }
      ]
    },
    {
      "cell_type": "markdown",
      "metadata": {
        "id": "qdemYEFm3n7N",
        "colab_type": "text"
      },
      "source": [
        "O resultado final mostra que nesse conjunto de dados houve apenas 1 resultado falso positivo (um usuário doaria mas não doou) e 33 como falso negativo (um usuário que não doaria mas doou sangue). Contudo, a grande maioria dos indivíduos foram classificados corretamente (113 esperados para doarem doaram e 3 esperados para não doarem não doaram de fato).\n",
        "\n",
        "Portanto, o modelo acima mostra-se razoavelmente viável na predição de doadores para a unidade móvel acima e pode ser utilizado para prever a quantidade de material a ser levado para o dia da coleta, bem como estimar o número de funcionários necessários por exemplo."
      ]
    }
  ]
}